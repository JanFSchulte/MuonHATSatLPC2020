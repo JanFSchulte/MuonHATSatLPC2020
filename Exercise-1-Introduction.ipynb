{
 "cells": [
  {
   "cell_type": "markdown",
   "metadata": {},
   "source": [
    "# Step1 Getting familiar with the muon objects and nanoaod\n",
    "In this exercise we will get familiar with the muon objects in an [nanoAOD](https://twiki.cern.ch/twiki/bin/view/CMSPublic/WorkBookNanoAOD) file. We will mostly use the following file, containing simulated Drell–Yan dimuon events generated at NLO.<br>\n",
    "* DYJetsToMuMu_M-50_TuneCP5_13TeV-madgraphMLM-pythia8.root\n",
    "\n",
    "Further information and a list of those variables stored in nanoAOD can be found [here](https://cms-nanoaod-integration.web.cern.ch/integration/master-106X/mc102X_doc.html).<br>\n",
    "In nanoAOD, data are sored as arrays. \n",
    "[Uproot](https://github.com/scikit-hep/uproot#exploring-a-file) will be used to explore the nanoAOD file.\n"
   ]
  },
  {
   "cell_type": "markdown",
   "metadata": {},
   "source": [
    "Not importing? Don't forget to select the correct kernel"
   ]
  },
  {
   "cell_type": "code",
   "execution_count": 3,
   "metadata": {},
   "outputs": [
    {
     "name": "stderr",
     "output_type": "stream",
     "text": [
      "/home/cms.jschulte/miniconda3/envs/Muon-HAT-2020/lib/python3.8/site-packages/uproot/reading.py:186: FutureWarning: XRootD 4.11.3 is not fully supported; either upgrade to 5.2.0+ or set\n",
      "\n",
      "    open.defaults[\"xrootd_handler\"] = uproot.MultithreadedXRootDSource\n",
      "\n",
      "  warnings.warn(message, FutureWarning)\n"
     ]
    }
   ],
   "source": [
    "import uproot\n",
    "import matplotlib.pyplot as plt\n",
    "import numpy as np\n",
    "import awkward as ak\n",
    "from math import pi"
   ]
  },
  {
   "cell_type": "markdown",
   "metadata": {},
   "source": [
    "First, lets take a look of the variables stored in NanoAOD. Uproot.open( ) return a ROOTDirectory similar to a python dictionary. Function key( ) prints all the dicinory keywords. The b' ahead of the names is due to ROOT object names having no encoding."
   ]
  },
  {
   "cell_type": "code",
   "execution_count": 4,
   "metadata": {},
   "outputs": [],
   "source": [
    "events=uproot.open('/cms/store/user/hats/Muon/DYJetsToMuMu_M-50_TuneCP5_13TeV-madgraphMLM-pythia8.root')['Events']\n",
    "#events=uproot.open('~/Downloads/DYJetsToMuMu_M-50_TuneCP5_13TeV-madgraphMLM-pythia8.root')['Events']"
   ]
  },
  {
   "cell_type": "code",
   "execution_count": 5,
   "metadata": {},
   "outputs": [
    {
     "data": {
      "text/plain": [
       "['run',\n",
       " 'luminosityBlock',\n",
       " 'event',\n",
       " 'HTXS_Higgs_pt',\n",
       " 'HTXS_Higgs_y',\n",
       " 'HTXS_stage_0',\n",
       " 'HTXS_stage_1_pTjet25',\n",
       " 'HTXS_stage_1_pTjet30',\n",
       " 'HTXS_njets25',\n",
       " 'HTXS_njets30',\n",
       " 'btagWeight_CSVV2',\n",
       " 'btagWeight_DeepCSVB',\n",
       " 'CaloMET_phi',\n",
       " 'CaloMET_pt',\n",
       " 'CaloMET_sumEt',\n",
       " 'ChsMET_phi',\n",
       " 'ChsMET_pt',\n",
       " 'ChsMET_sumEt',\n",
       " 'nElectron',\n",
       " 'Electron_deltaEtaSC',\n",
       " 'Electron_dr03EcalRecHitSumEt',\n",
       " 'Electron_dr03HcalDepth1TowerSumEt',\n",
       " 'Electron_dr03TkSumPt',\n",
       " 'Electron_dr03TkSumPtHEEP',\n",
       " 'Electron_dxy',\n",
       " 'Electron_dxyErr',\n",
       " 'Electron_dz',\n",
       " 'Electron_dzErr',\n",
       " 'Electron_eInvMinusPInv',\n",
       " 'Electron_energyErr',\n",
       " 'Electron_eta',\n",
       " 'Electron_hoe',\n",
       " 'Electron_ip3d',\n",
       " 'Electron_jetRelIso',\n",
       " 'Electron_mass',\n",
       " 'Electron_miniPFRelIso_all',\n",
       " 'Electron_miniPFRelIso_chg',\n",
       " 'Electron_mvaFall17V1Iso',\n",
       " 'Electron_mvaFall17V1noIso',\n",
       " 'Electron_mvaFall17V2Iso',\n",
       " 'Electron_mvaFall17V2noIso',\n",
       " 'Electron_pfRelIso03_all',\n",
       " 'Electron_pfRelIso03_chg',\n",
       " 'Electron_phi',\n",
       " 'Electron_pt',\n",
       " 'Electron_r9',\n",
       " 'Electron_sieie',\n",
       " 'Electron_sip3d',\n",
       " 'Electron_mvaTTH',\n",
       " 'Electron_charge',\n",
       " 'Electron_cutBased',\n",
       " 'Electron_cutBased_Fall17_V1',\n",
       " 'Electron_jetIdx',\n",
       " 'Electron_pdgId',\n",
       " 'Electron_photonIdx',\n",
       " 'Electron_tightCharge',\n",
       " 'Electron_vidNestedWPBitmap',\n",
       " 'Electron_convVeto',\n",
       " 'Electron_cutBased_HEEP',\n",
       " 'Electron_isPFcand',\n",
       " 'Electron_lostHits',\n",
       " 'Electron_mvaFall17V1Iso_WP80',\n",
       " 'Electron_mvaFall17V1Iso_WP90',\n",
       " 'Electron_mvaFall17V1Iso_WPL',\n",
       " 'Electron_mvaFall17V1noIso_WP80',\n",
       " 'Electron_mvaFall17V1noIso_WP90',\n",
       " 'Electron_mvaFall17V1noIso_WPL',\n",
       " 'Electron_mvaFall17V2Iso_WP80',\n",
       " 'Electron_mvaFall17V2Iso_WP90',\n",
       " 'Electron_mvaFall17V2Iso_WPL',\n",
       " 'Electron_mvaFall17V2noIso_WP80',\n",
       " 'Electron_mvaFall17V2noIso_WP90',\n",
       " 'Electron_mvaFall17V2noIso_WPL',\n",
       " 'nFatJet',\n",
       " 'FatJet_area',\n",
       " 'FatJet_btagCMVA',\n",
       " 'FatJet_btagCSVV2',\n",
       " 'FatJet_btagDeepB',\n",
       " 'FatJet_btagHbb',\n",
       " 'FatJet_deepTagMD_H4qvsQCD',\n",
       " 'FatJet_deepTagMD_HbbvsQCD',\n",
       " 'FatJet_deepTagMD_TvsQCD',\n",
       " 'FatJet_deepTagMD_WvsQCD',\n",
       " 'FatJet_deepTagMD_ZHbbvsQCD',\n",
       " 'FatJet_deepTagMD_ZHccvsQCD',\n",
       " 'FatJet_deepTagMD_ZbbvsQCD',\n",
       " 'FatJet_deepTagMD_ZvsQCD',\n",
       " 'FatJet_deepTagMD_bbvsLight',\n",
       " 'FatJet_deepTagMD_ccvsLight',\n",
       " 'FatJet_deepTag_TvsQCD',\n",
       " 'FatJet_deepTag_WvsQCD',\n",
       " 'FatJet_deepTag_ZvsQCD',\n",
       " 'FatJet_eta',\n",
       " 'FatJet_mass',\n",
       " 'FatJet_msoftdrop',\n",
       " 'FatJet_n2b1',\n",
       " 'FatJet_n3b1',\n",
       " 'FatJet_phi',\n",
       " 'FatJet_pt',\n",
       " 'FatJet_rawFactor',\n",
       " 'FatJet_tau1',\n",
       " 'FatJet_tau2',\n",
       " 'FatJet_tau3',\n",
       " 'FatJet_tau4',\n",
       " 'FatJet_jetId',\n",
       " 'FatJet_subJetIdx1',\n",
       " 'FatJet_subJetIdx2',\n",
       " 'nGenJetAK8',\n",
       " 'GenJetAK8_eta',\n",
       " 'GenJetAK8_mass',\n",
       " 'GenJetAK8_phi',\n",
       " 'GenJetAK8_pt',\n",
       " 'nGenJet',\n",
       " 'GenJet_eta',\n",
       " 'GenJet_mass',\n",
       " 'GenJet_phi',\n",
       " 'GenJet_pt',\n",
       " 'nGenPart',\n",
       " 'GenPart_eta',\n",
       " 'GenPart_mass',\n",
       " 'GenPart_phi',\n",
       " 'GenPart_pt',\n",
       " 'GenPart_genPartIdxMother',\n",
       " 'GenPart_pdgId',\n",
       " 'GenPart_status',\n",
       " 'GenPart_statusFlags',\n",
       " 'nSubGenJetAK8',\n",
       " 'SubGenJetAK8_eta',\n",
       " 'SubGenJetAK8_mass',\n",
       " 'SubGenJetAK8_phi',\n",
       " 'SubGenJetAK8_pt',\n",
       " 'Generator_binvar',\n",
       " 'Generator_scalePDF',\n",
       " 'Generator_weight',\n",
       " 'Generator_x1',\n",
       " 'Generator_x2',\n",
       " 'Generator_xpdf1',\n",
       " 'Generator_xpdf2',\n",
       " 'Generator_id1',\n",
       " 'Generator_id2',\n",
       " 'nGenVisTau',\n",
       " 'GenVisTau_eta',\n",
       " 'GenVisTau_mass',\n",
       " 'GenVisTau_phi',\n",
       " 'GenVisTau_pt',\n",
       " 'GenVisTau_charge',\n",
       " 'GenVisTau_genPartIdxMother',\n",
       " 'GenVisTau_status',\n",
       " 'genWeight',\n",
       " 'LHEWeight_originalXWGTUP',\n",
       " 'nLHEPdfWeight',\n",
       " 'LHEPdfWeight',\n",
       " 'nLHEScaleWeight',\n",
       " 'LHEScaleWeight',\n",
       " 'nPSWeight',\n",
       " 'PSWeight',\n",
       " 'nIsoTrack',\n",
       " 'IsoTrack_dxy',\n",
       " 'IsoTrack_dz',\n",
       " 'IsoTrack_eta',\n",
       " 'IsoTrack_pfRelIso03_all',\n",
       " 'IsoTrack_pfRelIso03_chg',\n",
       " 'IsoTrack_phi',\n",
       " 'IsoTrack_pt',\n",
       " 'IsoTrack_miniPFRelIso_all',\n",
       " 'IsoTrack_miniPFRelIso_chg',\n",
       " 'IsoTrack_fromPV',\n",
       " 'IsoTrack_pdgId',\n",
       " 'IsoTrack_isHighPurityTrack',\n",
       " 'IsoTrack_isPFcand',\n",
       " 'IsoTrack_isFromLostTrack',\n",
       " 'nJet',\n",
       " 'Jet_area',\n",
       " 'Jet_btagCMVA',\n",
       " 'Jet_btagCSVV2',\n",
       " 'Jet_btagDeepB',\n",
       " 'Jet_btagDeepC',\n",
       " 'Jet_btagDeepFlavB',\n",
       " 'Jet_chEmEF',\n",
       " 'Jet_chHEF',\n",
       " 'Jet_eta',\n",
       " 'Jet_mass',\n",
       " 'Jet_muEF',\n",
       " 'Jet_neEmEF',\n",
       " 'Jet_neHEF',\n",
       " 'Jet_phi',\n",
       " 'Jet_pt',\n",
       " 'Jet_qgl',\n",
       " 'Jet_rawFactor',\n",
       " 'Jet_bRegCorr',\n",
       " 'Jet_bRegRes',\n",
       " 'Jet_electronIdx1',\n",
       " 'Jet_electronIdx2',\n",
       " 'Jet_jetId',\n",
       " 'Jet_muonIdx1',\n",
       " 'Jet_muonIdx2',\n",
       " 'Jet_nConstituents',\n",
       " 'Jet_nElectrons',\n",
       " 'Jet_nMuons',\n",
       " 'Jet_puId',\n",
       " 'LHE_HT',\n",
       " 'LHE_HTIncoming',\n",
       " 'LHE_Vpt',\n",
       " 'LHE_Njets',\n",
       " 'LHE_Nb',\n",
       " 'LHE_Nc',\n",
       " 'LHE_Nuds',\n",
       " 'LHE_Nglu',\n",
       " 'LHE_NpNLO',\n",
       " 'LHE_NpLO',\n",
       " 'nLHEPart',\n",
       " 'LHEPart_pt',\n",
       " 'LHEPart_eta',\n",
       " 'LHEPart_phi',\n",
       " 'LHEPart_mass',\n",
       " 'LHEPart_pdgId',\n",
       " 'GenMET_phi',\n",
       " 'GenMET_pt',\n",
       " 'MET_MetUnclustEnUpDeltaX',\n",
       " 'MET_MetUnclustEnUpDeltaY',\n",
       " 'MET_phi',\n",
       " 'MET_pt',\n",
       " 'MET_sumEt',\n",
       " 'nMuon',\n",
       " 'Muon_dxy',\n",
       " 'Muon_dxyErr',\n",
       " 'Muon_dz',\n",
       " 'Muon_dzErr',\n",
       " 'Muon_eta',\n",
       " 'Muon_ip3d',\n",
       " 'Muon_jetRelIso',\n",
       " 'Muon_mass',\n",
       " 'Muon_miniPFRelIso_all',\n",
       " 'Muon_miniPFRelIso_chg',\n",
       " 'Muon_pfRelIso03_all',\n",
       " 'Muon_pfRelIso03_chg',\n",
       " 'Muon_pfRelIso04_all',\n",
       " 'Muon_phi',\n",
       " 'Muon_pt',\n",
       " 'Muon_ptErr',\n",
       " 'Muon_segmentComp',\n",
       " 'Muon_sip3d',\n",
       " 'Muon_mvaTTH',\n",
       " 'Muon_charge',\n",
       " 'Muon_jetIdx',\n",
       " 'Muon_nStations',\n",
       " 'Muon_nTrackerLayers',\n",
       " 'Muon_pdgId',\n",
       " 'Muon_tightCharge',\n",
       " 'Muon_highPtId',\n",
       " 'Muon_inTimeMuon',\n",
       " 'Muon_isGlobal',\n",
       " 'Muon_isPFcand',\n",
       " 'Muon_isTracker',\n",
       " 'Muon_mediumId',\n",
       " 'Muon_mediumPromptId',\n",
       " 'Muon_miniIsoId',\n",
       " 'Muon_multiIsoId',\n",
       " 'Muon_mvaId',\n",
       " 'Muon_pfIsoId',\n",
       " 'Muon_softId',\n",
       " 'Muon_softMvaId',\n",
       " 'Muon_tightId',\n",
       " 'Muon_tkIsoId',\n",
       " 'Muon_triggerIdLoose',\n",
       " 'nPhoton',\n",
       " 'Photon_energyErr',\n",
       " 'Photon_eta',\n",
       " 'Photon_hoe',\n",
       " 'Photon_mass',\n",
       " 'Photon_mvaID',\n",
       " 'Photon_mvaIDV1',\n",
       " 'Photon_pfRelIso03_all',\n",
       " 'Photon_pfRelIso03_chg',\n",
       " 'Photon_phi',\n",
       " 'Photon_pt',\n",
       " 'Photon_r9',\n",
       " 'Photon_sieie',\n",
       " 'Photon_charge',\n",
       " 'Photon_cutBasedBitmap',\n",
       " 'Photon_cutBasedV1Bitmap',\n",
       " 'Photon_electronIdx',\n",
       " 'Photon_jetIdx',\n",
       " 'Photon_pdgId',\n",
       " 'Photon_vidNestedWPBitmap',\n",
       " 'Photon_electronVeto',\n",
       " 'Photon_isScEtaEB',\n",
       " 'Photon_isScEtaEE',\n",
       " 'Photon_mvaID_WP80',\n",
       " 'Photon_mvaID_WP90',\n",
       " 'Photon_pixelSeed',\n",
       " 'Pileup_nTrueInt',\n",
       " 'Pileup_nPU',\n",
       " 'Pileup_sumEOOT',\n",
       " 'Pileup_sumLOOT',\n",
       " 'PuppiMET_phi',\n",
       " 'PuppiMET_pt',\n",
       " 'PuppiMET_sumEt',\n",
       " 'RawMET_phi',\n",
       " 'RawMET_pt',\n",
       " 'RawMET_sumEt',\n",
       " 'fixedGridRhoFastjetAll',\n",
       " 'fixedGridRhoFastjetCentralCalo',\n",
       " 'fixedGridRhoFastjetCentralNeutral',\n",
       " 'nGenDressedLepton',\n",
       " 'GenDressedLepton_eta',\n",
       " 'GenDressedLepton_mass',\n",
       " 'GenDressedLepton_phi',\n",
       " 'GenDressedLepton_pt',\n",
       " 'GenDressedLepton_pdgId',\n",
       " 'nSoftActivityJet',\n",
       " 'SoftActivityJet_eta',\n",
       " 'SoftActivityJet_phi',\n",
       " 'SoftActivityJet_pt',\n",
       " 'SoftActivityJetHT',\n",
       " 'SoftActivityJetHT10',\n",
       " 'SoftActivityJetHT2',\n",
       " 'SoftActivityJetHT5',\n",
       " 'SoftActivityJetNjets10',\n",
       " 'SoftActivityJetNjets2',\n",
       " 'SoftActivityJetNjets5',\n",
       " 'nSubJet',\n",
       " 'SubJet_btagCMVA',\n",
       " 'SubJet_btagCSVV2',\n",
       " 'SubJet_btagDeepB',\n",
       " 'SubJet_eta',\n",
       " 'SubJet_mass',\n",
       " 'SubJet_n2b1',\n",
       " 'SubJet_n3b1',\n",
       " 'SubJet_phi',\n",
       " 'SubJet_pt',\n",
       " 'SubJet_rawFactor',\n",
       " 'SubJet_tau1',\n",
       " 'SubJet_tau2',\n",
       " 'SubJet_tau3',\n",
       " 'SubJet_tau4',\n",
       " 'nTau',\n",
       " 'Tau_chargedIso',\n",
       " 'Tau_dxy',\n",
       " 'Tau_dz',\n",
       " 'Tau_eta',\n",
       " 'Tau_leadTkDeltaEta',\n",
       " 'Tau_leadTkDeltaPhi',\n",
       " 'Tau_leadTkPtOverTauPt',\n",
       " 'Tau_mass',\n",
       " 'Tau_neutralIso',\n",
       " 'Tau_phi',\n",
       " 'Tau_photonsOutsideSignalCone',\n",
       " 'Tau_pt',\n",
       " 'Tau_puCorr',\n",
       " 'Tau_rawAntiEle',\n",
       " 'Tau_rawIso',\n",
       " 'Tau_rawIsodR03',\n",
       " 'Tau_rawMVAnewDM2017v2',\n",
       " 'Tau_rawMVAoldDM',\n",
       " 'Tau_rawMVAoldDM2017v1',\n",
       " 'Tau_rawMVAoldDM2017v2',\n",
       " 'Tau_rawMVAoldDMdR032017v2',\n",
       " 'Tau_charge',\n",
       " 'Tau_decayMode',\n",
       " 'Tau_jetIdx',\n",
       " 'Tau_rawAntiEleCat',\n",
       " 'Tau_idAntiEle',\n",
       " 'Tau_idAntiMu',\n",
       " 'Tau_idDecayMode',\n",
       " 'Tau_idDecayModeNewDMs',\n",
       " 'Tau_idMVAnewDM2017v2',\n",
       " 'Tau_idMVAoldDM',\n",
       " 'Tau_idMVAoldDM2017v1',\n",
       " 'Tau_idMVAoldDM2017v2',\n",
       " 'Tau_idMVAoldDMdR032017v2',\n",
       " 'TkMET_phi',\n",
       " 'TkMET_pt',\n",
       " 'TkMET_sumEt',\n",
       " 'nTrigObj',\n",
       " 'TrigObj_pt',\n",
       " 'TrigObj_eta',\n",
       " 'TrigObj_phi',\n",
       " 'TrigObj_l1pt',\n",
       " 'TrigObj_l1pt_2',\n",
       " 'TrigObj_l2pt',\n",
       " 'TrigObj_id',\n",
       " 'TrigObj_l1iso',\n",
       " 'TrigObj_l1charge',\n",
       " 'TrigObj_filterBits',\n",
       " 'genTtbarId',\n",
       " 'nOtherPV',\n",
       " 'OtherPV_z',\n",
       " 'PV_ndof',\n",
       " 'PV_x',\n",
       " 'PV_y',\n",
       " 'PV_z',\n",
       " 'PV_chi2',\n",
       " 'PV_score',\n",
       " 'PV_npvs',\n",
       " 'PV_npvsGood',\n",
       " 'nSV',\n",
       " 'SV_dlen',\n",
       " 'SV_dlenSig',\n",
       " 'SV_pAngle',\n",
       " 'Electron_genPartIdx',\n",
       " 'Electron_genPartFlav',\n",
       " 'GenJetAK8_partonFlavour',\n",
       " 'GenJetAK8_hadronFlavour',\n",
       " 'GenJet_partonFlavour',\n",
       " 'GenJet_hadronFlavour',\n",
       " 'Jet_genJetIdx',\n",
       " 'Jet_hadronFlavour',\n",
       " 'Jet_partonFlavour',\n",
       " 'Muon_genPartIdx',\n",
       " 'Muon_genPartFlav',\n",
       " 'Photon_genPartIdx',\n",
       " 'Photon_genPartFlav',\n",
       " 'MET_fiducialGenPhi',\n",
       " 'MET_fiducialGenPt',\n",
       " 'Electron_cleanmask',\n",
       " 'Jet_cleanmask',\n",
       " 'Muon_cleanmask',\n",
       " 'Photon_cleanmask',\n",
       " 'Tau_cleanmask',\n",
       " 'SV_chi2',\n",
       " 'SV_eta',\n",
       " 'SV_mass',\n",
       " 'SV_ndof',\n",
       " 'SV_phi',\n",
       " 'SV_pt',\n",
       " 'SV_x',\n",
       " 'SV_y',\n",
       " 'SV_z',\n",
       " 'Tau_genPartIdx',\n",
       " 'Tau_genPartFlav',\n",
       " 'L1simulation_step',\n",
       " 'HLTriggerFirstPath',\n",
       " 'HLT_AK8PFJet360_TrimMass30',\n",
       " 'HLT_AK8PFJet380_TrimMass30',\n",
       " 'HLT_AK8PFJet400_TrimMass30',\n",
       " 'HLT_AK8PFJet420_TrimMass30',\n",
       " 'HLT_AK8PFHT750_TrimMass50',\n",
       " 'HLT_AK8PFHT800_TrimMass50',\n",
       " 'HLT_AK8PFHT850_TrimMass50',\n",
       " 'HLT_AK8PFHT900_TrimMass50',\n",
       " 'HLT_CaloJet500_NoJetID',\n",
       " 'HLT_CaloJet550_NoJetID',\n",
       " 'HLT_DoubleMu5_Upsilon_DoubleEle3_CaloIdL_TrackIdL',\n",
       " 'HLT_DoubleMu3_DoubleEle7p5_CaloIdL_TrackIdL_Upsilon',\n",
       " 'HLT_Trimuon5_3p5_2_Upsilon_Muon',\n",
       " 'HLT_TrimuonOpen_5_3p5_2_Upsilon_Muon',\n",
       " 'HLT_DoubleEle25_CaloIdL_MW',\n",
       " 'HLT_DoubleEle27_CaloIdL_MW',\n",
       " 'HLT_DoubleEle33_CaloIdL_MW',\n",
       " 'HLT_DoubleEle24_eta2p1_WPTight_Gsf',\n",
       " 'HLT_DoubleEle8_CaloIdM_TrackIdM_Mass8_DZ_PFHT350',\n",
       " 'HLT_DoubleEle8_CaloIdM_TrackIdM_Mass8_PFHT350',\n",
       " 'HLT_Ele27_Ele37_CaloIdL_MW',\n",
       " 'HLT_Mu27_Ele37_CaloIdL_MW',\n",
       " 'HLT_Mu37_Ele27_CaloIdL_MW',\n",
       " 'HLT_Mu37_TkMu27',\n",
       " 'HLT_DoubleMu4_3_Bs',\n",
       " 'HLT_DoubleMu4_3_Jpsi',\n",
       " 'HLT_DoubleMu4_JpsiTrk_Displaced',\n",
       " 'HLT_DoubleMu4_LowMassNonResonantTrk_Displaced',\n",
       " 'HLT_DoubleMu3_Trk_Tau3mu',\n",
       " 'HLT_DoubleMu3_TkMu_DsTau3Mu',\n",
       " 'HLT_DoubleMu4_PsiPrimeTrk_Displaced',\n",
       " 'HLT_DoubleMu4_Mass3p8_DZ_PFHT350',\n",
       " 'HLT_Mu3_PFJet40',\n",
       " 'HLT_Mu7p5_L2Mu2_Jpsi',\n",
       " 'HLT_Mu7p5_L2Mu2_Upsilon',\n",
       " 'HLT_Mu7p5_Track2_Jpsi',\n",
       " 'HLT_Mu7p5_Track3p5_Jpsi',\n",
       " 'HLT_Mu7p5_Track7_Jpsi',\n",
       " 'HLT_Mu7p5_Track2_Upsilon',\n",
       " 'HLT_Mu7p5_Track3p5_Upsilon',\n",
       " 'HLT_Mu7p5_Track7_Upsilon',\n",
       " 'HLT_Mu3_L1SingleMu5orSingleMu7',\n",
       " 'HLT_DoublePhoton33_CaloIdL',\n",
       " 'HLT_DoublePhoton70',\n",
       " 'HLT_DoublePhoton85',\n",
       " 'HLT_Ele20_WPTight_Gsf',\n",
       " 'HLT_Ele15_WPLoose_Gsf',\n",
       " 'HLT_Ele17_WPLoose_Gsf',\n",
       " 'HLT_Ele20_WPLoose_Gsf',\n",
       " 'HLT_Ele20_eta2p1_WPLoose_Gsf',\n",
       " 'HLT_DiEle27_WPTightCaloOnly_L1DoubleEG',\n",
       " 'HLT_Ele27_WPTight_Gsf',\n",
       " 'HLT_Ele28_WPTight_Gsf',\n",
       " 'HLT_Ele30_WPTight_Gsf',\n",
       " 'HLT_Ele32_WPTight_Gsf',\n",
       " 'HLT_Ele35_WPTight_Gsf',\n",
       " 'HLT_Ele35_WPTight_Gsf_L1EGMT',\n",
       " 'HLT_Ele38_WPTight_Gsf',\n",
       " 'HLT_Ele40_WPTight_Gsf',\n",
       " 'HLT_Ele32_WPTight_Gsf_L1DoubleEG',\n",
       " 'HLT_Ele24_eta2p1_WPTight_Gsf_LooseChargedIsoPFTau30_eta2p1_CrossL1',\n",
       " 'HLT_Ele24_eta2p1_WPTight_Gsf_LooseChargedIsoPFTauHPS30_eta2p1_CrossL1',\n",
       " 'HLT_Ele24_eta2p1_WPTight_Gsf_MediumChargedIsoPFTauHPS30_eta2p1_CrossL1',\n",
       " 'HLT_Ele24_eta2p1_WPTight_Gsf_TightChargedIsoPFTauHPS30_eta2p1_CrossL1',\n",
       " 'HLT_Ele24_eta2p1_WPTight_Gsf_LooseChargedIsoPFTauHPS30_eta2p1_TightID_CrossL1',\n",
       " 'HLT_Ele24_eta2p1_WPTight_Gsf_MediumChargedIsoPFTauHPS30_eta2p1_TightID_CrossL1',\n",
       " 'HLT_Ele24_eta2p1_WPTight_Gsf_TightChargedIsoPFTauHPS30_eta2p1_TightID_CrossL1',\n",
       " 'HLT_HT450_Beamspot',\n",
       " 'HLT_HT300_Beamspot',\n",
       " 'HLT_ZeroBias_Beamspot',\n",
       " 'HLT_IsoMu20_eta2p1_LooseChargedIsoPFTau27_eta2p1_CrossL1',\n",
       " 'HLT_IsoMu20_eta2p1_LooseChargedIsoPFTauHPS27_eta2p1_CrossL1',\n",
       " 'HLT_IsoMu20_eta2p1_MediumChargedIsoPFTauHPS27_eta2p1_CrossL1',\n",
       " 'HLT_IsoMu20_eta2p1_TightChargedIsoPFTauHPS27_eta2p1_CrossL1',\n",
       " 'HLT_IsoMu20_eta2p1_LooseChargedIsoPFTauHPS27_eta2p1_TightID_CrossL1',\n",
       " 'HLT_IsoMu20_eta2p1_MediumChargedIsoPFTauHPS27_eta2p1_TightID_CrossL1',\n",
       " 'HLT_IsoMu20_eta2p1_TightChargedIsoPFTauHPS27_eta2p1_TightID_CrossL1',\n",
       " 'HLT_IsoMu24_eta2p1_MediumChargedIsoPFTau35_Trk1_eta2p1_Reg_CrossL1',\n",
       " 'HLT_IsoMu24_eta2p1_MediumChargedIsoPFTau35_Trk1_TightID_eta2p1_Reg_CrossL1',\n",
       " 'HLT_IsoMu24_eta2p1_TightChargedIsoPFTau35_Trk1_eta2p1_Reg_CrossL1',\n",
       " 'HLT_IsoMu24_eta2p1_TightChargedIsoPFTau35_Trk1_TightID_eta2p1_Reg_CrossL1',\n",
       " 'HLT_IsoMu24_eta2p1_TightChargedIsoPFTauHPS35_Trk1_eta2p1_Reg_CrossL1',\n",
       " 'HLT_IsoMu24_eta2p1_MediumChargedIsoPFTauHPS35_Trk1_TightID_eta2p1_Reg_CrossL1',\n",
       " 'HLT_IsoMu24_eta2p1_TightChargedIsoPFTauHPS35_Trk1_TightID_eta2p1_Reg_CrossL1',\n",
       " 'HLT_IsoMu24_eta2p1_MediumChargedIsoPFTauHPS35_Trk1_eta2p1_Reg_CrossL1',\n",
       " 'HLT_IsoMu24_eta2p1_MediumChargedIsoPFTauHPS30_Trk1_eta2p1_Reg_CrossL1',\n",
       " 'HLT_IsoMu27_LooseChargedIsoPFTau20_Trk1_eta2p1_SingleL1',\n",
       " 'HLT_IsoMu27_LooseChargedIsoPFTauHPS20_Trk1_eta2p1_SingleL1',\n",
       " 'HLT_IsoMu27_MediumChargedIsoPFTauHPS20_Trk1_eta2p1_SingleL1',\n",
       " 'HLT_IsoMu27_TightChargedIsoPFTauHPS20_Trk1_eta2p1_SingleL1',\n",
       " 'HLT_IsoMu20',\n",
       " 'HLT_IsoMu24',\n",
       " 'HLT_IsoMu24_eta2p1',\n",
       " 'HLT_IsoMu27',\n",
       " 'HLT_IsoMu30',\n",
       " 'HLT_UncorrectedJetE30_NoBPTX',\n",
       " 'HLT_UncorrectedJetE30_NoBPTX3BX',\n",
       " 'HLT_UncorrectedJetE60_NoBPTX3BX',\n",
       " 'HLT_UncorrectedJetE70_NoBPTX3BX',\n",
       " 'HLT_L1SingleMu18',\n",
       " 'HLT_L1SingleMu25',\n",
       " 'HLT_L2Mu10',\n",
       " 'HLT_L2Mu10_NoVertex_NoBPTX3BX',\n",
       " 'HLT_L2Mu10_NoVertex_NoBPTX',\n",
       " 'HLT_L2Mu45_NoVertex_3Sta_NoBPTX3BX',\n",
       " 'HLT_L2Mu40_NoVertex_3Sta_NoBPTX3BX',\n",
       " 'HLT_L2Mu50',\n",
       " 'HLT_L2Mu23NoVtx_2Cha',\n",
       " 'HLT_L2Mu23NoVtx_2Cha_CosmicSeed',\n",
       " 'HLT_DoubleL2Mu30NoVtx_2Cha_CosmicSeed_Eta2p4',\n",
       " 'HLT_DoubleL2Mu30NoVtx_2Cha_Eta2p4',\n",
       " 'HLT_DoubleL2Mu50',\n",
       " 'HLT_DoubleL2Mu23NoVtx_2Cha_CosmicSeed',\n",
       " 'HLT_DoubleL2Mu23NoVtx_2Cha_CosmicSeed_NoL2Matched',\n",
       " 'HLT_DoubleL2Mu25NoVtx_2Cha_CosmicSeed',\n",
       " 'HLT_DoubleL2Mu25NoVtx_2Cha_CosmicSeed_NoL2Matched',\n",
       " 'HLT_DoubleL2Mu25NoVtx_2Cha_CosmicSeed_Eta2p4',\n",
       " 'HLT_DoubleL2Mu23NoVtx_2Cha',\n",
       " 'HLT_DoubleL2Mu23NoVtx_2Cha_NoL2Matched',\n",
       " 'HLT_DoubleL2Mu25NoVtx_2Cha',\n",
       " 'HLT_DoubleL2Mu25NoVtx_2Cha_NoL2Matched',\n",
       " 'HLT_DoubleL2Mu25NoVtx_2Cha_Eta2p4',\n",
       " 'HLT_Mu17_TrkIsoVVL_Mu8_TrkIsoVVL',\n",
       " 'HLT_Mu19_TrkIsoVVL_Mu9_TrkIsoVVL',\n",
       " 'HLT_Mu17_TrkIsoVVL_Mu8_TrkIsoVVL_DZ',\n",
       " 'HLT_Mu19_TrkIsoVVL_Mu9_TrkIsoVVL_DZ',\n",
       " 'HLT_Mu17_TrkIsoVVL_Mu8_TrkIsoVVL_DZ_Mass8',\n",
       " 'HLT_Mu19_TrkIsoVVL_Mu9_TrkIsoVVL_DZ_Mass8',\n",
       " 'HLT_Mu17_TrkIsoVVL_Mu8_TrkIsoVVL_DZ_Mass3p8',\n",
       " 'HLT_Mu19_TrkIsoVVL_Mu9_TrkIsoVVL_DZ_Mass3p8',\n",
       " 'HLT_Mu25_TkMu0_Onia',\n",
       " 'HLT_Mu30_TkMu0_Psi',\n",
       " 'HLT_Mu30_TkMu0_Upsilon',\n",
       " 'HLT_Mu20_TkMu0_Phi',\n",
       " 'HLT_Mu25_TkMu0_Phi',\n",
       " 'HLT_Mu12',\n",
       " 'HLT_Mu15',\n",
       " 'HLT_Mu20',\n",
       " 'HLT_Mu27',\n",
       " 'HLT_Mu50',\n",
       " 'HLT_Mu55',\n",
       " 'HLT_OldMu100',\n",
       " 'HLT_TkMu100',\n",
       " 'HLT_DiPFJet15_NoCaloMatched',\n",
       " 'HLT_DiPFJet25_NoCaloMatched',\n",
       " 'HLT_DiPFJet15_FBEta3_NoCaloMatched',\n",
       " 'HLT_DiPFJet25_FBEta3_NoCaloMatched',\n",
       " 'HLT_DiPFJetAve40',\n",
       " 'HLT_DiPFJetAve60',\n",
       " 'HLT_DiPFJetAve80',\n",
       " 'HLT_DiPFJetAve140',\n",
       " 'HLT_DiPFJetAve200',\n",
       " 'HLT_DiPFJetAve260',\n",
       " 'HLT_DiPFJetAve320',\n",
       " 'HLT_DiPFJetAve400',\n",
       " 'HLT_DiPFJetAve500',\n",
       " 'HLT_DiPFJetAve15_HFJEC',\n",
       " 'HLT_DiPFJetAve25_HFJEC',\n",
       " 'HLT_DiPFJetAve35_HFJEC',\n",
       " 'HLT_DiPFJetAve60_HFJEC',\n",
       " 'HLT_DiPFJetAve80_HFJEC',\n",
       " 'HLT_DiPFJetAve100_HFJEC',\n",
       " 'HLT_DiPFJetAve160_HFJEC',\n",
       " 'HLT_DiPFJetAve220_HFJEC',\n",
       " 'HLT_DiPFJetAve300_HFJEC',\n",
       " 'HLT_AK8PFJet15',\n",
       " 'HLT_AK8PFJet25',\n",
       " 'HLT_AK8PFJet40',\n",
       " 'HLT_AK8PFJet60',\n",
       " 'HLT_AK8PFJet80',\n",
       " 'HLT_AK8PFJet140',\n",
       " 'HLT_AK8PFJet200',\n",
       " 'HLT_AK8PFJet260',\n",
       " 'HLT_AK8PFJet320',\n",
       " 'HLT_AK8PFJet400',\n",
       " 'HLT_AK8PFJet450',\n",
       " 'HLT_AK8PFJet500',\n",
       " 'HLT_AK8PFJet550',\n",
       " 'HLT_PFJet15',\n",
       " 'HLT_PFJet25',\n",
       " 'HLT_PFJet40',\n",
       " 'HLT_PFJet60',\n",
       " 'HLT_PFJet80',\n",
       " 'HLT_PFJet140',\n",
       " 'HLT_PFJet200',\n",
       " 'HLT_PFJet260',\n",
       " 'HLT_PFJet320',\n",
       " 'HLT_PFJet400',\n",
       " 'HLT_PFJet450',\n",
       " 'HLT_PFJet500',\n",
       " 'HLT_PFJet550',\n",
       " 'HLT_PFJetFwd15',\n",
       " 'HLT_PFJetFwd25',\n",
       " 'HLT_PFJetFwd40',\n",
       " 'HLT_PFJetFwd60',\n",
       " 'HLT_PFJetFwd80',\n",
       " 'HLT_PFJetFwd140',\n",
       " 'HLT_PFJetFwd200',\n",
       " 'HLT_PFJetFwd260',\n",
       " 'HLT_PFJetFwd320',\n",
       " 'HLT_PFJetFwd400',\n",
       " 'HLT_PFJetFwd450',\n",
       " 'HLT_PFJetFwd500',\n",
       " 'HLT_AK8PFJetFwd15',\n",
       " 'HLT_AK8PFJetFwd25',\n",
       " 'HLT_AK8PFJetFwd40',\n",
       " 'HLT_AK8PFJetFwd60',\n",
       " 'HLT_AK8PFJetFwd80',\n",
       " 'HLT_AK8PFJetFwd140',\n",
       " 'HLT_AK8PFJetFwd200',\n",
       " 'HLT_AK8PFJetFwd260',\n",
       " 'HLT_AK8PFJetFwd320',\n",
       " 'HLT_AK8PFJetFwd400',\n",
       " 'HLT_AK8PFJetFwd450',\n",
       " 'HLT_AK8PFJetFwd500',\n",
       " 'HLT_PFHT180',\n",
       " 'HLT_PFHT250',\n",
       " 'HLT_PFHT370',\n",
       " 'HLT_PFHT430',\n",
       " 'HLT_PFHT510',\n",
       " 'HLT_PFHT590',\n",
       " 'HLT_PFHT680',\n",
       " 'HLT_PFHT780',\n",
       " 'HLT_PFHT890',\n",
       " 'HLT_PFHT1050',\n",
       " 'HLT_PFHT500_PFMET100_PFMHT100_IDTight',\n",
       " 'HLT_PFHT500_PFMET110_PFMHT110_IDTight',\n",
       " 'HLT_PFHT700_PFMET85_PFMHT85_IDTight',\n",
       " 'HLT_PFHT700_PFMET95_PFMHT95_IDTight',\n",
       " 'HLT_PFHT800_PFMET75_PFMHT75_IDTight',\n",
       " 'HLT_PFHT800_PFMET85_PFMHT85_IDTight',\n",
       " 'HLT_PFMET110_PFMHT110_IDTight',\n",
       " 'HLT_PFMET120_PFMHT120_IDTight',\n",
       " 'HLT_PFMET130_PFMHT130_IDTight',\n",
       " 'HLT_PFMET140_PFMHT140_IDTight',\n",
       " 'HLT_PFMET100_PFMHT100_IDTight_CaloBTagDeepCSV_3p1',\n",
       " 'HLT_PFMET110_PFMHT110_IDTight_CaloBTagDeepCSV_3p1',\n",
       " 'HLT_PFMET120_PFMHT120_IDTight_CaloBTagDeepCSV_3p1',\n",
       " 'HLT_PFMET130_PFMHT130_IDTight_CaloBTagDeepCSV_3p1',\n",
       " 'HLT_PFMET140_PFMHT140_IDTight_CaloBTagDeepCSV_3p1',\n",
       " 'HLT_PFMET120_PFMHT120_IDTight_PFHT60',\n",
       " 'HLT_PFMETNoMu120_PFMHTNoMu120_IDTight_PFHT60',\n",
       " 'HLT_PFMETTypeOne120_PFMHT120_IDTight_PFHT60',\n",
       " 'HLT_PFMETTypeOne110_PFMHT110_IDTight',\n",
       " 'HLT_PFMETTypeOne120_PFMHT120_IDTight',\n",
       " 'HLT_PFMETTypeOne130_PFMHT130_IDTight',\n",
       " 'HLT_PFMETTypeOne140_PFMHT140_IDTight',\n",
       " 'HLT_PFMETNoMu110_PFMHTNoMu110_IDTight',\n",
       " 'HLT_PFMETNoMu120_PFMHTNoMu120_IDTight',\n",
       " 'HLT_PFMETNoMu130_PFMHTNoMu130_IDTight',\n",
       " 'HLT_PFMETNoMu140_PFMHTNoMu140_IDTight',\n",
       " 'HLT_MonoCentralPFJet80_PFMETNoMu110_PFMHTNoMu110_IDTight',\n",
       " 'HLT_MonoCentralPFJet80_PFMETNoMu120_PFMHTNoMu120_IDTight',\n",
       " 'HLT_MonoCentralPFJet80_PFMETNoMu130_PFMHTNoMu130_IDTight',\n",
       " 'HLT_MonoCentralPFJet80_PFMETNoMu140_PFMHTNoMu140_IDTight',\n",
       " 'HLT_L1ETMHadSeeds',\n",
       " 'HLT_CaloMHT90',\n",
       " 'HLT_CaloMET80_NotCleaned',\n",
       " 'HLT_CaloMET90_NotCleaned',\n",
       " 'HLT_CaloMET100_NotCleaned',\n",
       " 'HLT_CaloMET110_NotCleaned',\n",
       " 'HLT_CaloMET250_NotCleaned',\n",
       " 'HLT_CaloMET70_HBHECleaned',\n",
       " 'HLT_CaloMET80_HBHECleaned',\n",
       " 'HLT_CaloMET90_HBHECleaned',\n",
       " 'HLT_CaloMET100_HBHECleaned',\n",
       " 'HLT_CaloMET250_HBHECleaned',\n",
       " 'HLT_CaloMET300_HBHECleaned',\n",
       " 'HLT_CaloMET350_HBHECleaned',\n",
       " 'HLT_PFMET200_NotCleaned',\n",
       " 'HLT_PFMET200_HBHECleaned',\n",
       " 'HLT_PFMET250_HBHECleaned',\n",
       " 'HLT_PFMET300_HBHECleaned',\n",
       " 'HLT_PFMET200_HBHE_BeamHaloCleaned',\n",
       " 'HLT_PFMETTypeOne200_HBHE_BeamHaloCleaned',\n",
       " 'HLT_MET105_IsoTrk50',\n",
       " 'HLT_MET120_IsoTrk50',\n",
       " 'HLT_SingleJet30_Mu12_SinglePFJet40',\n",
       " 'HLT_Mu12_DoublePFJets40_CaloBTagDeepCSV_p71',\n",
       " 'HLT_Mu12_DoublePFJets100_CaloBTagDeepCSV_p71',\n",
       " 'HLT_Mu12_DoublePFJets200_CaloBTagDeepCSV_p71',\n",
       " 'HLT_Mu12_DoublePFJets350_CaloBTagDeepCSV_p71',\n",
       " 'HLT_Mu12_DoublePFJets40MaxDeta1p6_DoubleCaloBTagDeepCSV_p71',\n",
       " 'HLT_Mu12_DoublePFJets54MaxDeta1p6_DoubleCaloBTagDeepCSV_p71',\n",
       " 'HLT_Mu12_DoublePFJets62MaxDeta1p6_DoubleCaloBTagDeepCSV_p71',\n",
       " 'HLT_DoublePFJets40_CaloBTagDeepCSV_p71',\n",
       " 'HLT_DoublePFJets100_CaloBTagDeepCSV_p71',\n",
       " 'HLT_DoublePFJets200_CaloBTagDeepCSV_p71',\n",
       " 'HLT_DoublePFJets350_CaloBTagDeepCSV_p71',\n",
       " 'HLT_DoublePFJets116MaxDeta1p6_DoubleCaloBTagDeepCSV_p71',\n",
       " 'HLT_DoublePFJets128MaxDeta1p6_DoubleCaloBTagDeepCSV_p71',\n",
       " 'HLT_Photon300_NoHE',\n",
       " 'HLT_Mu8_TrkIsoVVL',\n",
       " 'HLT_Mu8_DiEle12_CaloIdL_TrackIdL_DZ',\n",
       " 'HLT_Mu8_DiEle12_CaloIdL_TrackIdL',\n",
       " 'HLT_Mu8_Ele8_CaloIdM_TrackIdM_Mass8_PFHT350_DZ',\n",
       " 'HLT_Mu8_Ele8_CaloIdM_TrackIdM_Mass8_PFHT350',\n",
       " 'HLT_Mu8_TrkIsoVVL_Ele23_CaloIdL_TrackIdL_IsoVL_DZ',\n",
       " 'HLT_Mu8_TrkIsoVVL_Ele23_CaloIdL_TrackIdL_IsoVL_DZ_PFDiJet30',\n",
       " 'HLT_Mu8_TrkIsoVVL_Ele23_CaloIdL_TrackIdL_IsoVL_DZ_CaloDiJet30',\n",
       " 'HLT_Mu8_TrkIsoVVL_Ele23_CaloIdL_TrackIdL_IsoVL_DZ_PFDiJet30_PFBtagDeepCSV_1p5',\n",
       " 'HLT_Mu8_TrkIsoVVL_Ele23_CaloIdL_TrackIdL_IsoVL_DZ_CaloDiJet30_CaloBtagDeepCSV_1p5',\n",
       " 'HLT_Mu8_TrkIsoVVL_Ele23_CaloIdL_TrackIdL_IsoVL',\n",
       " 'HLT_Mu17_TrkIsoVVL',\n",
       " 'HLT_Mu19_TrkIsoVVL',\n",
       " 'HLT_BTagMu_AK4DiJet20_Mu5',\n",
       " 'HLT_BTagMu_AK4DiJet40_Mu5',\n",
       " 'HLT_BTagMu_AK4DiJet70_Mu5',\n",
       " 'HLT_BTagMu_AK4DiJet110_Mu5',\n",
       " 'HLT_BTagMu_AK4DiJet170_Mu5',\n",
       " 'HLT_BTagMu_AK4Jet300_Mu5',\n",
       " 'HLT_BTagMu_AK8DiJet170_Mu5',\n",
       " 'HLT_BTagMu_AK8Jet170_DoubleMu5',\n",
       " 'HLT_BTagMu_AK8Jet300_Mu5',\n",
       " 'HLT_BTagMu_AK4DiJet20_Mu5_noalgo',\n",
       " 'HLT_BTagMu_AK4DiJet40_Mu5_noalgo',\n",
       " 'HLT_BTagMu_AK4DiJet70_Mu5_noalgo',\n",
       " 'HLT_BTagMu_AK4DiJet110_Mu5_noalgo',\n",
       " 'HLT_BTagMu_AK4DiJet170_Mu5_noalgo',\n",
       " 'HLT_BTagMu_AK4Jet300_Mu5_noalgo',\n",
       " 'HLT_BTagMu_AK8DiJet170_Mu5_noalgo',\n",
       " 'HLT_BTagMu_AK8Jet170_DoubleMu5_noalgo',\n",
       " 'HLT_BTagMu_AK8Jet300_Mu5_noalgo',\n",
       " 'HLT_Ele15_Ele8_CaloIdL_TrackIdL_IsoVL',\n",
       " 'HLT_Ele23_Ele12_CaloIdL_TrackIdL_IsoVL_DZ',\n",
       " 'HLT_Ele23_Ele12_CaloIdL_TrackIdL_IsoVL',\n",
       " 'HLT_Mu23_TrkIsoVVL_Ele12_CaloIdL_TrackIdL_IsoVL_DZ',\n",
       " 'HLT_Mu23_TrkIsoVVL_Ele12_CaloIdL_TrackIdL_IsoVL',\n",
       " 'HLT_Mu12_TrkIsoVVL_Ele23_CaloIdL_TrackIdL_IsoVL',\n",
       " 'HLT_Mu12_TrkIsoVVL_Ele23_CaloIdL_TrackIdL_IsoVL_DZ',\n",
       " 'HLT_Mu12_DoublePhoton20',\n",
       " 'HLT_TriplePhoton_20_20_20_CaloIdLV2',\n",
       " 'HLT_TriplePhoton_20_20_20_CaloIdLV2_R9IdVL',\n",
       " 'HLT_TriplePhoton_30_30_10_CaloIdLV2',\n",
       " 'HLT_TriplePhoton_30_30_10_CaloIdLV2_R9IdVL',\n",
       " 'HLT_TriplePhoton_35_35_5_CaloIdLV2_R9IdVL',\n",
       " 'HLT_Photon20',\n",
       " 'HLT_Photon33',\n",
       " 'HLT_Photon50',\n",
       " 'HLT_Photon75',\n",
       " 'HLT_Photon90',\n",
       " 'HLT_Photon120',\n",
       " 'HLT_Photon150',\n",
       " 'HLT_Photon175',\n",
       " 'HLT_Photon200',\n",
       " 'HLT_Photon100EB_TightID_TightIso',\n",
       " 'HLT_Photon110EB_TightID_TightIso',\n",
       " 'HLT_Photon120EB_TightID_TightIso',\n",
       " 'HLT_Photon100EBHE10',\n",
       " 'HLT_Photon100EEHE10',\n",
       " 'HLT_Photon100EE_TightID_TightIso',\n",
       " 'HLT_Photon50_R9Id90_HE10_IsoM',\n",
       " 'HLT_Photon75_R9Id90_HE10_IsoM',\n",
       " 'HLT_Photon75_R9Id90_HE10_IsoM_EBOnly_CaloMJJ300_PFJetsMJJ400DEta3',\n",
       " 'HLT_Photon75_R9Id90_HE10_IsoM_EBOnly_CaloMJJ400_PFJetsMJJ600DEta3',\n",
       " 'HLT_Photon90_R9Id90_HE10_IsoM',\n",
       " 'HLT_Photon120_R9Id90_HE10_IsoM',\n",
       " 'HLT_Photon165_R9Id90_HE10_IsoM',\n",
       " 'HLT_Photon90_CaloIdL_PFHT700',\n",
       " 'HLT_Diphoton30_22_R9Id_OR_IsoCaloId_AND_HE_R9Id_Mass90',\n",
       " 'HLT_Diphoton30_22_R9Id_OR_IsoCaloId_AND_HE_R9Id_Mass95',\n",
       " 'HLT_Diphoton30PV_18PV_R9Id_AND_IsoCaloId_AND_HE_R9Id_PixelVeto_Mass55',\n",
       " 'HLT_Diphoton30PV_18PV_R9Id_AND_IsoCaloId_AND_HE_R9Id_NoPixelVeto_Mass55',\n",
       " 'HLT_Photon35_TwoProngs35',\n",
       " 'HLT_IsoMu24_TwoProngs35',\n",
       " 'HLT_Dimuon0_Jpsi_L1_NoOS',\n",
       " 'HLT_Dimuon0_Jpsi_NoVertexing_NoOS',\n",
       " 'HLT_Dimuon0_Jpsi',\n",
       " 'HLT_Dimuon0_Jpsi_NoVertexing',\n",
       " 'HLT_Dimuon0_Jpsi_L1_4R_0er1p5R',\n",
       " 'HLT_Dimuon0_Jpsi_NoVertexing_L1_4R_0er1p5R',\n",
       " 'HLT_Dimuon0_Jpsi3p5_Muon2',\n",
       " 'HLT_Dimuon0_Upsilon_L1_4p5',\n",
       " 'HLT_Dimuon0_Upsilon_L1_5',\n",
       " 'HLT_Dimuon0_Upsilon_L1_4p5NoOS',\n",
       " 'HLT_Dimuon0_Upsilon_L1_4p5er2p0',\n",
       " 'HLT_Dimuon0_Upsilon_L1_4p5er2p0M',\n",
       " 'HLT_Dimuon0_Upsilon_NoVertexing',\n",
       " 'HLT_Dimuon0_Upsilon_L1_5M',\n",
       " 'HLT_Dimuon0_LowMass_L1_0er1p5R',\n",
       " 'HLT_Dimuon0_LowMass_L1_0er1p5',\n",
       " 'HLT_Dimuon0_LowMass',\n",
       " 'HLT_Dimuon0_LowMass_L1_4',\n",
       " 'HLT_Dimuon0_LowMass_L1_4R',\n",
       " 'HLT_Dimuon0_LowMass_L1_TM530',\n",
       " 'HLT_Dimuon0_Upsilon_Muon_L1_TM0',\n",
       " 'HLT_Dimuon0_Upsilon_Muon_NoL1Mass',\n",
       " 'HLT_TripleMu_5_3_3_Mass3p8_DZ',\n",
       " 'HLT_TripleMu_10_5_5_DZ',\n",
       " 'HLT_TripleMu_12_10_5',\n",
       " 'HLT_Tau3Mu_Mu7_Mu1_TkMu1_Tau15',\n",
       " 'HLT_Tau3Mu_Mu7_Mu1_TkMu1_Tau15_Charge1',\n",
       " 'HLT_Tau3Mu_Mu7_Mu1_TkMu1_IsoTau15',\n",
       " 'HLT_Tau3Mu_Mu7_Mu1_TkMu1_IsoTau15_Charge1',\n",
       " 'HLT_DoubleMu3_DZ_PFMET50_PFMHT60',\n",
       " 'HLT_DoubleMu3_DZ_PFMET70_PFMHT70',\n",
       " 'HLT_DoubleMu3_DZ_PFMET90_PFMHT90',\n",
       " 'HLT_DoubleMu3_Trk_Tau3mu_NoL1Mass',\n",
       " 'HLT_DoubleMu4_Jpsi_Displaced',\n",
       " 'HLT_DoubleMu4_Jpsi_NoVertexing',\n",
       " 'HLT_DoubleMu4_JpsiTrkTrk_Displaced',\n",
       " 'HLT_DoubleMu43NoFiltersNoVtx',\n",
       " 'HLT_DoubleMu48NoFiltersNoVtx',\n",
       " 'HLT_Mu43NoFiltersNoVtx_Photon43_CaloIdL',\n",
       " 'HLT_Mu48NoFiltersNoVtx_Photon48_CaloIdL',\n",
       " 'HLT_Mu38NoFiltersNoVtxDisplaced_Photon38_CaloIdL',\n",
       " 'HLT_Mu43NoFiltersNoVtxDisplaced_Photon43_CaloIdL',\n",
       " 'HLT_DoubleMu33NoFiltersNoVtxDisplaced',\n",
       " 'HLT_DoubleMu40NoFiltersNoVtxDisplaced',\n",
       " 'HLT_DoubleMu20_7_Mass0to30_L1_DM4',\n",
       " 'HLT_DoubleMu20_7_Mass0to30_L1_DM4EG',\n",
       " 'HLT_HT425',\n",
       " 'HLT_HT430_DisplacedDijet40_DisplacedTrack',\n",
       " 'HLT_HT500_DisplacedDijet40_DisplacedTrack',\n",
       " 'HLT_HT430_DisplacedDijet60_DisplacedTrack',\n",
       " 'HLT_HT400_DisplacedDijet40_DisplacedTrack',\n",
       " 'HLT_HT650_DisplacedDijet60_Inclusive',\n",
       " 'HLT_HT550_DisplacedDijet60_Inclusive',\n",
       " 'HLT_DiJet110_35_Mjj650_PFMET110',\n",
       " 'HLT_DiJet110_35_Mjj650_PFMET120',\n",
       " 'HLT_DiJet110_35_Mjj650_PFMET130',\n",
       " 'HLT_TripleJet110_35_35_Mjj650_PFMET110',\n",
       " 'HLT_TripleJet110_35_35_Mjj650_PFMET120',\n",
       " 'HLT_TripleJet110_35_35_Mjj650_PFMET130',\n",
       " 'HLT_Ele30_eta2p1_WPTight_Gsf_CentralPFJet35_EleCleaned',\n",
       " 'HLT_Ele28_eta2p1_WPTight_Gsf_HT150',\n",
       " 'HLT_Ele28_HighEta_SC20_Mass55',\n",
       " 'HLT_DoubleMu20_7_Mass0to30_Photon23',\n",
       " 'HLT_Ele15_IsoVVVL_PFHT450_CaloBTagDeepCSV_4p5',\n",
       " 'HLT_Ele15_IsoVVVL_PFHT450_PFMET50',\n",
       " 'HLT_Ele15_IsoVVVL_PFHT450',\n",
       " 'HLT_Ele50_IsoVVVL_PFHT450',\n",
       " 'HLT_Ele15_IsoVVVL_PFHT600',\n",
       " 'HLT_Mu4_TrkIsoVVL_DiPFJet90_40_DEta3p5_MJJ750_HTT300_PFMETNoMu60',\n",
       " 'HLT_Mu8_TrkIsoVVL_DiPFJet40_DEta3p5_MJJ750_HTT300_PFMETNoMu60',\n",
       " 'HLT_Mu10_TrkIsoVVL_DiPFJet40_DEta3p5_MJJ750_HTT350_PFMETNoMu60',\n",
       " 'HLT_Mu15_IsoVVVL_PFHT450_CaloBTagDeepCSV_4p5',\n",
       " 'HLT_Mu15_IsoVVVL_PFHT450_PFMET50',\n",
       " 'HLT_Mu15_IsoVVVL_PFHT450',\n",
       " 'HLT_Mu50_IsoVVVL_PFHT450',\n",
       " 'HLT_Mu15_IsoVVVL_PFHT600',\n",
       " 'HLT_Mu3er1p5_PFJet100er2p5_PFMET70_PFMHT70_IDTight',\n",
       " 'HLT_Mu3er1p5_PFJet100er2p5_PFMET80_PFMHT80_IDTight',\n",
       " 'HLT_Mu3er1p5_PFJet100er2p5_PFMET90_PFMHT90_IDTight',\n",
       " 'HLT_Mu3er1p5_PFJet100er2p5_PFMET100_PFMHT100_IDTight',\n",
       " 'HLT_Mu3er1p5_PFJet100er2p5_PFMETNoMu70_PFMHTNoMu70_IDTight',\n",
       " 'HLT_Mu3er1p5_PFJet100er2p5_PFMETNoMu80_PFMHTNoMu80_IDTight',\n",
       " 'HLT_Mu3er1p5_PFJet100er2p5_PFMETNoMu90_PFMHTNoMu90_IDTight',\n",
       " 'HLT_Mu3er1p5_PFJet100er2p5_PFMETNoMu100_PFMHTNoMu100_IDTight',\n",
       " 'HLT_Dimuon10_PsiPrime_Barrel_Seagulls',\n",
       " 'HLT_Dimuon20_Jpsi_Barrel_Seagulls',\n",
       " 'HLT_Dimuon12_Upsilon_y1p4',\n",
       " 'HLT_Dimuon14_Phi_Barrel_Seagulls',\n",
       " 'HLT_Dimuon18_PsiPrime',\n",
       " 'HLT_Dimuon25_Jpsi',\n",
       " 'HLT_Dimuon18_PsiPrime_noCorrL1',\n",
       " 'HLT_Dimuon24_Upsilon_noCorrL1',\n",
       " 'HLT_Dimuon24_Phi_noCorrL1',\n",
       " 'HLT_Dimuon25_Jpsi_noCorrL1',\n",
       " 'HLT_DiMu4_Ele9_CaloIdL_TrackIdL_DZ_Mass3p8',\n",
       " 'HLT_DiMu9_Ele9_CaloIdL_TrackIdL_DZ',\n",
       " 'HLT_DiMu9_Ele9_CaloIdL_TrackIdL',\n",
       " 'HLT_DoubleIsoMu20_eta2p1',\n",
       " 'HLT_TrkMu12_DoubleTrkMu5NoFiltersNoVtx',\n",
       " 'HLT_TrkMu16_DoubleTrkMu6NoFiltersNoVtx',\n",
       " 'HLT_TrkMu17_DoubleTrkMu8NoFiltersNoVtx',\n",
       " 'HLT_Mu8',\n",
       " 'HLT_Mu17',\n",
       " 'HLT_Mu19',\n",
       " 'HLT_Mu17_Photon30_IsoCaloId',\n",
       " 'HLT_Ele8_CaloIdL_TrackIdL_IsoVL_PFJet30',\n",
       " 'HLT_Ele12_CaloIdL_TrackIdL_IsoVL_PFJet30',\n",
       " 'HLT_Ele15_CaloIdL_TrackIdL_IsoVL_PFJet30',\n",
       " 'HLT_Ele23_CaloIdL_TrackIdL_IsoVL_PFJet30',\n",
       " 'HLT_Ele8_CaloIdM_TrackIdM_PFJet30',\n",
       " 'HLT_Ele17_CaloIdM_TrackIdM_PFJet30',\n",
       " 'HLT_Ele23_CaloIdM_TrackIdM_PFJet30',\n",
       " 'HLT_Ele50_CaloIdVT_GsfTrkIdT_PFJet165',\n",
       " 'HLT_Ele115_CaloIdVT_GsfTrkIdT',\n",
       " 'HLT_Ele135_CaloIdVT_GsfTrkIdT',\n",
       " 'HLT_Ele145_CaloIdVT_GsfTrkIdT',\n",
       " 'HLT_Ele200_CaloIdVT_GsfTrkIdT',\n",
       " 'HLT_Ele250_CaloIdVT_GsfTrkIdT',\n",
       " 'HLT_Ele300_CaloIdVT_GsfTrkIdT',\n",
       " 'HLT_PFHT330PT30_QuadPFJet_75_60_45_40_TriplePFBTagDeepCSV_4p5',\n",
       " 'HLT_PFHT330PT30_QuadPFJet_75_60_45_40',\n",
       " 'HLT_PFHT400_SixPFJet32_DoublePFBTagDeepCSV_2p94',\n",
       " 'HLT_PFHT400_SixPFJet32',\n",
       " 'HLT_PFHT450_SixPFJet36_PFBTagDeepCSV_1p59',\n",
       " 'HLT_PFHT450_SixPFJet36',\n",
       " 'HLT_PFHT400_FivePFJet_100_100_60_30_30',\n",
       " 'HLT_PFHT400_FivePFJet_100_100_60_30_30_DoublePFBTagDeepCSV_4p5',\n",
       " 'HLT_PFHT400_FivePFJet_120_120_60_30_30_DoublePFBTagDeepCSV_4p5',\n",
       " 'HLT_PFHT350',\n",
       " 'HLT_PFHT350MinPFJet15',\n",
       " 'HLT_Photon60_R9Id90_CaloIdL_IsoL',\n",
       " 'HLT_Photon60_R9Id90_CaloIdL_IsoL_DisplacedIdL',\n",
       " 'HLT_Photon60_R9Id90_CaloIdL_IsoL_DisplacedIdL_PFHT350MinPFJet15',\n",
       " 'HLT_ECALHT800',\n",
       " 'HLT_DiSC30_18_EIso_AND_HE_Mass70',\n",
       " 'HLT_Physics',\n",
       " 'HLT_Physics_part0',\n",
       " 'HLT_Physics_part1',\n",
       " 'HLT_Physics_part2',\n",
       " 'HLT_Physics_part3',\n",
       " 'HLT_Physics_part4',\n",
       " 'HLT_Physics_part5',\n",
       " 'HLT_Physics_part6',\n",
       " 'HLT_Physics_part7',\n",
       " 'HLT_Random',\n",
       " 'HLT_ZeroBias',\n",
       " 'HLT_ZeroBias_Alignment',\n",
       " 'HLT_ZeroBias_part0',\n",
       " 'HLT_ZeroBias_part1',\n",
       " 'HLT_ZeroBias_part2',\n",
       " 'HLT_ZeroBias_part3',\n",
       " 'HLT_ZeroBias_part4',\n",
       " 'HLT_ZeroBias_part5',\n",
       " 'HLT_ZeroBias_part6',\n",
       " 'HLT_ZeroBias_part7',\n",
       " 'HLT_AK4CaloJet30',\n",
       " 'HLT_AK4CaloJet40',\n",
       " 'HLT_AK4CaloJet50',\n",
       " 'HLT_AK4CaloJet80',\n",
       " 'HLT_AK4CaloJet100',\n",
       " 'HLT_AK4CaloJet120',\n",
       " 'HLT_AK4PFJet30',\n",
       " 'HLT_AK4PFJet50',\n",
       " 'HLT_AK4PFJet80',\n",
       " 'HLT_AK4PFJet100',\n",
       " 'HLT_AK4PFJet120',\n",
       " 'HLT_SinglePhoton10_Eta3p1ForPPRef',\n",
       " 'HLT_SinglePhoton20_Eta3p1ForPPRef',\n",
       " 'HLT_SinglePhoton30_Eta3p1ForPPRef',\n",
       " 'HLT_Photon20_HoverELoose',\n",
       " 'HLT_Photon30_HoverELoose',\n",
       " 'HLT_EcalCalibration',\n",
       " 'HLT_HcalCalibration',\n",
       " 'HLT_L1UnpairedBunchBptxMinus',\n",
       " 'HLT_L1UnpairedBunchBptxPlus',\n",
       " 'HLT_L1NotBptxOR',\n",
       " 'HLT_L1_CDC_SingleMu_3_er1p2_TOP120_DPHI2p618_3p142',\n",
       " 'HLT_CDC_L2cosmic_10_er1p0',\n",
       " 'HLT_CDC_L2cosmic_5p5_er1p0',\n",
       " 'HLT_HcalNZS',\n",
       " 'HLT_HcalPhiSym',\n",
       " 'HLT_HcalIsolatedbunch',\n",
       " 'HLT_IsoTrackHB',\n",
       " 'HLT_IsoTrackHE',\n",
       " 'HLT_ZeroBias_FirstCollisionAfterAbortGap',\n",
       " 'HLT_ZeroBias_IsolatedBunches',\n",
       " 'HLT_ZeroBias_FirstCollisionInTrain',\n",
       " 'HLT_ZeroBias_LastCollisionInTrain',\n",
       " 'HLT_ZeroBias_FirstBXAfterTrain',\n",
       " 'HLT_IsoMu24_eta2p1_MediumChargedIsoPFTau50_Trk30_eta2p1_1pr',\n",
       " 'HLT_MediumChargedIsoPFTau50_Trk30_eta2p1_1pr_MET90',\n",
       " 'HLT_MediumChargedIsoPFTau50_Trk30_eta2p1_1pr_MET100',\n",
       " 'HLT_MediumChargedIsoPFTau50_Trk30_eta2p1_1pr_MET110',\n",
       " 'HLT_MediumChargedIsoPFTau50_Trk30_eta2p1_1pr_MET120',\n",
       " 'HLT_MediumChargedIsoPFTau50_Trk30_eta2p1_1pr_MET130',\n",
       " 'HLT_MediumChargedIsoPFTau50_Trk30_eta2p1_1pr_MET140',\n",
       " 'HLT_MediumChargedIsoPFTau50_Trk30_eta2p1_1pr',\n",
       " 'HLT_MediumChargedIsoPFTau180HighPtRelaxedIso_Trk50_eta2p1_1pr',\n",
       " 'HLT_MediumChargedIsoPFTau180HighPtRelaxedIso_Trk50_eta2p1',\n",
       " 'HLT_MediumChargedIsoPFTau200HighPtRelaxedIso_Trk50_eta2p1',\n",
       " 'HLT_MediumChargedIsoPFTau220HighPtRelaxedIso_Trk50_eta2p1',\n",
       " 'HLT_Ele16_Ele12_Ele8_CaloIdL_TrackIdL',\n",
       " ...]"
      ]
     },
     "execution_count": 5,
     "metadata": {},
     "output_type": "execute_result"
    }
   ],
   "source": [
    "events.keys()\n",
    "#events.values()\n",
    "#events.show()"
   ]
  },
  {
   "cell_type": "markdown",
   "metadata": {},
   "source": [
    "**Question 1**: Which collections contain muons or muon candidates? (At any level: generated, reconstructed, trigger, etc.)"
   ]
  },
  {
   "cell_type": "markdown",
   "metadata": {},
   "source": [
    "# Step2 Print and plot some muon objects \n",
    "We can print different objects such as transeverse momentum($p_T$ pt), pseudorapidity(eta $\\eta$) and azimuthal angle(phi $\\phi$) and apply cut on $p_T$, $\\eta$ and $\\phi$ using uproot.<br>\n",
    "First lets print pt eta phi of reconstructed muon "
   ]
  },
  {
   "cell_type": "code",
   "execution_count": 6,
   "metadata": {},
   "outputs": [],
   "source": [
    "muons=events.arrays([\"Muon_pt\", \"Muon_eta\", \"Muon_phi\", \"nMuon\", \"nGenPart\"])"
   ]
  },
  {
   "cell_type": "code",
   "execution_count": 7,
   "metadata": {},
   "outputs": [
    {
     "name": "stdout",
     "output_type": "stream",
     "text": [
      "muon_pt= [[32.8, 32.4], [50.7, 35], [93.5, 10.5], ... [42.1], [30.6, 25.6], [65.6, 13.6]] \n",
      " muon_eta= [[2.41, 0.764], [0.522, -0.587], [-1.29, ... 1.71], [-0.0142, -2.18], [-2.1, -1.92]] \n",
      " muon_phi= [[0.615, -2.54], [-0.514, 2.26], [-0.0469, ... 2.97], [-2.32, 0.889], [-2.71, 1.17]]\n"
     ]
    }
   ],
   "source": [
    "print('muon_pt=', muons[\"Muon_pt\"], '\\n',\n",
    "      'muon_eta=', muons[\"Muon_eta\"], '\\n',\n",
    "      'muon_phi=', muons[\"Muon_phi\"])\n"
   ]
  },
  {
   "cell_type": "markdown",
   "metadata": {},
   "source": [
    "Lets plot them using matplotlib"
   ]
  },
  {
   "cell_type": "code",
   "execution_count": 8,
   "metadata": {
    "scrolled": true
   },
   "outputs": [
    {
     "data": {
      "text/plain": [
       "Text(0, 0.5, 'Events')"
      ]
     },
     "execution_count": 8,
     "metadata": {},
     "output_type": "execute_result"
    },
    {
     "data": {
      "image/png": "[encoded data removed]",
      "text/plain": [
       "<Figure size 648x432 with 1 Axes>"
      ]
     },
     "metadata": {
      "needs_background": "light"
     },
     "output_type": "display_data"
    }
   ],
   "source": [
    "plt.figure(figsize=(9,6))\n",
    "plt.hist(ak.flatten(muons[\"Muon_pt\"],axis=None), bins=150, range=[0,150], histtype='step',linewidth=2, color='blue', label='$p_T$ distribution of all Muons')\n",
    "plt.title('$p_T$ distribution of PAT Muon objects')\n",
    "plt.xlabel(r'Muon $p_T$ (GeV)')\n",
    "plt.ylabel('Events')"
   ]
  },
  {
   "cell_type": "code",
   "execution_count": 9,
   "metadata": {},
   "outputs": [
    {
     "data": {
      "text/plain": [
       "Text(0, 0.5, 'Events')"
      ]
     },
     "execution_count": 9,
     "metadata": {},
     "output_type": "execute_result"
    },
    {
     "data": {
      "image/png": "[encoded data removed]",
      "text/plain": [
       "<Figure size 648x432 with 1 Axes>"
      ]
     },
     "metadata": {
      "needs_background": "light"
     },
     "output_type": "display_data"
    }
   ],
   "source": [
    "plt.figure(figsize=(9,6))\n",
    "plt.hist(ak.flatten(muons[\"Muon_eta\"],axis=None), bins=60, range=[-3, 3], histtype='step',linewidth=2, color='red', label='muon_$\\eta$')\n",
    "plt.title('$\\eta$ distribution of PAT Muon objects')\n",
    "plt.xlabel(r'Muon $\\eta$')\n",
    "plt.ylabel('Events')"
   ]
  },
  {
   "cell_type": "code",
   "execution_count": 10,
   "metadata": {},
   "outputs": [
    {
     "data": {
      "text/plain": [
       "Text(0, 0.5, 'Events')"
      ]
     },
     "execution_count": 10,
     "metadata": {},
     "output_type": "execute_result"
    },
    {
     "data": {
      "image/png": "[encoded data removed]",
      "text/plain": [
       "<Figure size 648x432 with 1 Axes>"
      ]
     },
     "metadata": {
      "needs_background": "light"
     },
     "output_type": "display_data"
    }
   ],
   "source": [
    "plt.figure(figsize=(9,6))\n",
    "plt.hist(ak.flatten(muons[\"Muon_phi\"],axis=None), bins=70, range=[-3.5, 3.5], histtype='step',linewidth=2, color='green', label='muon_$\\phi$')\n",
    "plt.title('$\\phi$ distribution of PAT Muon objects')\n",
    "plt.xlabel(r'Muon $\\phi$')\n",
    "plt.ylabel('Events')"
   ]
  },
  {
   "cell_type": "markdown",
   "metadata": {},
   "source": [
    "Then lets apply criteria such as pt>20 GeV and |eta|<2.4."
   ]
  },
  {
   "cell_type": "code",
   "execution_count": 11,
   "metadata": {
    "scrolled": false
   },
   "outputs": [
    {
     "data": {
      "text/plain": [
       "<Array [[False, True], ... [True, False]] type='306576 * var * bool'>"
      ]
     },
     "execution_count": 11,
     "metadata": {},
     "output_type": "execute_result"
    }
   ],
   "source": [
    "masking=(muons[\"Muon_pt\"]>20)&(abs(muons[\"Muon_eta\"])<2.4)\n",
    "masking"
   ]
  },
  {
   "cell_type": "markdown",
   "metadata": {},
   "source": [
    "As you can see above, by performing masking, a jagged array of bool values is created.\n",
    "Then using the syntax array[masking], we keep only the varible that is true in the masking array"
   ]
  },
  {
   "cell_type": "code",
   "execution_count": 12,
   "metadata": {},
   "outputs": [
    {
     "name": "stdout",
     "output_type": "stream",
     "text": [
      "muon_pt= [[32.4], [50.7, 35], [93.5], [27.2], ... 49.9, 41.1], [42.1], [30.6, 25.6], [65.6]] \n",
      " muon_eta= [[0.764], [0.522, -0.587], [-1.29], [0.693, ... [1.71], [-0.0142, -2.18], [-2.1]] \n",
      " muon_phi= [[-2.54], [-0.514, 2.26], [-0.0469], [-2.1, ... [2.97], [-2.32, 0.889], [-2.71]]\n"
     ]
    }
   ],
   "source": [
    "print('muon_pt=', muons[\"Muon_pt\"][masking], '\\n',\n",
    "      'muon_eta=', muons[\"Muon_eta\"][masking], '\\n',\n",
    "      'muon_phi=', muons[\"Muon_phi\"][masking])"
   ]
  },
  {
   "cell_type": "markdown",
   "metadata": {},
   "source": [
    "Then lets plot pt of reconstructed muon and reconstructed muon with pt>20 GeV and |eta|<2.4, note that we can use flatten() to reduce the jagged 2 dimension array to 1 dimension."
   ]
  },
  {
   "cell_type": "code",
   "execution_count": 13,
   "metadata": {},
   "outputs": [],
   "source": [
    "muon_pt_masked=muons[\"Muon_pt\"][masking]\n",
    "muon_pt_flat= ak.flatten(muons[\"Muon_pt\"],axis=None)\n",
    "muon_pt_masked_flat=ak.flatten(muon_pt_masked,axis=None)"
   ]
  },
  {
   "cell_type": "code",
   "execution_count": 14,
   "metadata": {},
   "outputs": [
    {
     "data": {
      "text/plain": [
       "Text(0, 0.5, 'Events')"
      ]
     },
     "execution_count": 14,
     "metadata": {},
     "output_type": "execute_result"
    },
    {
     "data": {
      "image/png": "[encoded data removed]",
      "text/plain": [
       "<Figure size 648x432 with 1 Axes>"
      ]
     },
     "metadata": {
      "needs_background": "light"
     },
     "output_type": "display_data"
    }
   ],
   "source": [
    "plt.figure(figsize=(9,6))\n",
    "plt.hist(muon_pt_flat, bins=150, range=[0,150], histtype='step',linewidth=2, color='red', label='muon_$p_T$')\n",
    "plt.hist(muon_pt_masked_flat, bins=150, range=[0,150], histtype='step',linewidth=2, linestyle=':', color='blue', label='muon_$p_T$ with criteria')\n",
    "plt.legend()\n",
    "plt.xlabel(r'Muon $p_T$ (GeV)')\n",
    "plt.ylabel('Events')"
   ]
  },
  {
   "cell_type": "markdown",
   "metadata": {},
   "source": [
    "**Question 2**: Using the syntax above, plot the main kinematic observables for the following objects and selections (only the first few events):\n",
    "* all final-state muons in the GenPart collection\n",
    "* all final-state muons in the GenPart collection with pT > 20 GeV and |η| < 2.4\n",
    "* all final-state muons in the GenPart collection with pT > 20 GeV and |η| < 2.4, and not coming from a hadron or τ decay\n",
    "\n",
    "**Question 3**: Compare the numbers of reconstructed and generated muons and their pT spectra at different selection stages, by overlaying the distributions in the same frame.<br>\n",
    "Since you are running on a Drell–Yan sample, you would expect two muons per event. Explain why there are sometimes more than two muons in an event.<br>\n",
    "Look at the full distributions, without η and pT cuts. Can you explain the differences?<br>\n",
    "\n",
    "Hint (GenPart_statusFlags: gen status flags stored bitwise. Bits are: 0 : isPrompt, 1 : isDecayedLeptonHadron, 2 : isTauDecayProduct, 3 : isPromptTauDecayProduct, 4 : isDirectTauDecayProduct, 5 : isDirectPromptTauDecayProduct, 6 : isDirectHadronDecayProduct, 7 : isHardProcess, 8 : fromHardProcess, 9 : isHardProcessTauDecayProduct, 10 : isDirectHardProcessTauDecayProduct, 11 : fromHardProcessBeforeFSR, 12 : isFirstCopy, 13 : isLastCopy, 14 : isLastCopyBeforeFSR,\n",
    "\n",
    "GenPart_status\tParticle status. 1=stable)"
   ]
  },
  {
   "cell_type": "code",
   "execution_count": 15,
   "metadata": {},
   "outputs": [
    {
     "data": {
      "image/png": "[encoded data removed]",
      "text/plain": [
       "<Figure size 648x432 with 1 Axes>"
      ]
     },
     "metadata": {
      "needs_background": "light"
     },
     "output_type": "display_data"
    }
   ],
   "source": [
    "#gengenpart_status, genpart_statusflags, genpart_pdgid, genpart_pt, genpart_eta, genpart_phi=events.arrays([\"GenPart_status\", \"GenPart_statusFlags\", \"GenPart_pdgId\", \"GenPart_pt\", \"GenPart_eta\", \"GenPart_phi\"])\n",
    "genparts=events.arrays([\"GenPart_status\", \"GenPart_statusFlags\", \"GenPart_pdgId\", \"GenPart_pt\", \"GenPart_eta\", \"GenPart_phi\"])\n",
    "masking_one=(abs(genparts[\"GenPart_pdgId\"])==13)& (genparts[\"GenPart_status\"]==1)\n",
    "masking_two=(abs(genparts[\"GenPart_pdgId\"])==13)& (genparts[\"GenPart_status\"]==1)&(genparts[\"GenPart_pt\"]>20)&(abs(genparts[\"GenPart_eta\"])<2.4)\n",
    "masking_three=(genparts[\"GenPart_pdgId\"]==13)& (genparts[\"GenPart_status\"]==1)&(genparts[\"GenPart_pt\"]>20)&(abs(genparts[\"GenPart_eta\"])<2.4)&((genparts[\"GenPart_statusFlags\"]%2)==1)\n",
    "plt.figure(figsize=(9,6))\n",
    "plt.hist(ak.flatten(genparts[\"GenPart_pt\"][masking_one],axis=None), bins=150, range=[0,150], histtype='step',linewidth=2, color='red', label='All final state Muons')\n",
    "plt.hist(ak.flatten(genparts[\"GenPart_pt\"][masking_two],axis=None), bins=150, range=[0,150], histtype='step',linewidth=2, color='blue', label='Final state Muons with $p_T$ > 20GeV and $|\\eta|$<2.4')\n",
    "plt.hist(ak.flatten(genparts[\"GenPart_pt\"][masking_three],axis=None), bins=150, range=[0,150], histtype='step',linewidth=2, color='brown', linestyle=('dashed'), label='Final state Muons with $p_T$ > 20GeV and $|\\eta|$<2.4\\nand not coming from hadron or $\\\\tau$ decay')\n",
    "plt.legend()\n",
    "plt.title('$p_T$ distribution of the Generated Muons')\n",
    "plt.xlabel(r'generated Muon $p_T$ (GeV)')\n",
    "plt.ylabel('Events')\n",
    "plt. yscale('log')"
   ]
  },
  {
   "cell_type": "markdown",
   "metadata": {},
   "source": [
    "Lets also compare the number of muons in each event between reconstructed one and generated one"
   ]
  },
  {
   "cell_type": "code",
   "execution_count": 16,
   "metadata": {},
   "outputs": [
    {
     "data": {
      "text/plain": [
       "Text(0, 0.5, 'Events')"
      ]
     },
     "execution_count": 16,
     "metadata": {},
     "output_type": "execute_result"
    },
    {
     "data": {
      "image/png": "[encoded data removed]",
      "text/plain": [
       "<Figure size 648x432 with 1 Axes>"
      ]
     },
     "metadata": {
      "needs_background": "light"
     },
     "output_type": "display_data"
    }
   ],
   "source": [
    "plt.figure(figsize=(9,6))\n",
    "plt.hist(ak.flatten(muons[\"nMuon\"],axis=None), bins=10, range=[0,10], histtype='step',linewidth=2, color='red', label='number of PAT muons')\n",
    "plt.hist(ak.flatten(ak.sum(masking_one,axis=-1),axis=None), bins=10, range=[0,10], histtype='step',linewidth=2, color='blue', label='number of GEN muons')\n",
    "plt.legend()\n",
    "plt.xlabel('number of muon')\n",
    "plt.ylabel('Events')"
   ]
  },
  {
   "cell_type": "code",
   "execution_count": 17,
   "metadata": {},
   "outputs": [
    {
     "data": {
      "text/plain": [
       "Text(0, 0.5, 'Events')"
      ]
     },
     "execution_count": 17,
     "metadata": {},
     "output_type": "execute_result"
    },
    {
     "data": {
      "image/png": "[encoded data removed]",
      "text/plain": [
       "<Figure size 648x432 with 1 Axes>"
      ]
     },
     "metadata": {
      "needs_background": "light"
     },
     "output_type": "display_data"
    }
   ],
   "source": [
    "plt.figure(figsize=(9,6))\n",
    "plt.hist(ak.flatten(muons[\"Muon_pt\"],axis=None), bins=150, range=[0,150], histtype='step',linewidth=2, color='blue', label='recon_muon_$p_T$')\n",
    "plt.hist(ak.flatten(genparts[\"GenPart_pt\"][masking_one],axis=None), bins=150, range=[0,150], histtype='step',linewidth=2, color='red', label='gen_muon_$p_T$')\n",
    "plt.legend()\n",
    "plt.xlabel(r'Muon $p_T$ (GeV)')\n",
    "plt.ylabel('Events')"
   ]
  },
  {
   "cell_type": "markdown",
   "metadata": {},
   "source": [
    "# Step 3 Gen matching\n",
    "When working with simulated data, it is sometime useful to pair each reconstructed muon to its corresponding generated particle, e.g. for efficiency or resolution studies. In this part of the exercise we will learn possible ways to do this.<br>\n",
    "\n",
    "Gen matching information for muon is already stored in Muon_genPartIdx, which is matched on status=1 muon using particle flow algorithm. \n",
    "Lets print the Moun_genPartIdx. Note that -1 means cannot matched to generated particles."
   ]
  },
  {
   "cell_type": "code",
   "execution_count": 18,
   "metadata": {},
   "outputs": [
    {
     "data": {
      "text/plain": [
       "<Array [{Muon_genPartIdx: [11, 13], ... 9, 8]}] type='306576 * {\"Muon_genPartIdx...'>"
      ]
     },
     "execution_count": 18,
     "metadata": {},
     "output_type": "execute_result"
    }
   ],
   "source": [
    "muon_genpartidx=events.arrays(\"Muon_genPartIdx\")\n",
    "muon_genpartidx"
   ]
  },
  {
   "cell_type": "markdown",
   "metadata": {},
   "source": [
    "We can also do a matching ourselves using deltaR method, in deltaR method, we need to make sure the delta phi is between pi and -pi. Below defines a deltaR function\n",
    "&Delta;R = (&Delta;&eta;<sup>2</sup> + &Delta;&phi;<sup>2</sup>)<sup>1/2</sup> <br>\n",
    "Note that &Delta;&phi; is between &pi; to -&pi;."
   ]
  },
  {
   "cell_type": "code",
   "execution_count": 19,
   "metadata": {},
   "outputs": [],
   "source": [
    "def deltaR(genetas, eta, genphis, phi):\n",
    "    return np.sqrt((genetas-eta)**2+((genphis-phi+pi)%(2*pi)-pi)**2)"
   ]
  },
  {
   "cell_type": "code",
   "execution_count": null,
   "metadata": {},
   "outputs": [],
   "source": [
    "muon_genpartidx_deltar=[]\n",
    "\n",
    "for genetas, genphis, etas, phis in zip(genparts[\"GenPart_eta\"], genparts[\"GenPart_phi\"], muons[\"Muon_eta\"], muons[\"Muon_phi\"]):\n",
    "  idx=[]\n",
    "  for eta, phi in zip(etas, phis):\n",
    "    deltar=deltaR(genetas, eta, genphis, phi)\n",
    "    if ak.min(deltar)<0.3:\n",
    "        idx.append(ak.argmin(deltar))\n",
    "    else:\n",
    "        idx.append(-1)\n",
    "  muon_genpartidx_deltar.append(idx)"
   ]
  },
  {
   "cell_type": "markdown",
   "metadata": {},
   "source": [
    "**Question 5**: Are there reconstructed muons that do not match any generated muons? Why? "
   ]
  },
  {
   "cell_type": "markdown",
   "metadata": {},
   "source": [
    "**Question 6**: Are there cases in which the &Delta;R matching fails to find the correct generated particle? Why? "
   ]
  },
  {
   "cell_type": "markdown",
   "metadata": {},
   "source": [
    "Lets take a look at those reconstracted muons that do not match any generated muons, and plot their pt and eta distribution"
   ]
  },
  {
   "cell_type": "code",
   "execution_count": 19,
   "metadata": {},
   "outputs": [],
   "source": [
    "masking_nogenmatch=(muon_genpartidx[\"Muon_genPartIdx\"]==-1)\n",
    "masking_genmatched=(muon_genpartidx[\"Muon_genPartIdx\"]!=-1)"
   ]
  },
  {
   "cell_type": "code",
   "execution_count": 20,
   "metadata": {},
   "outputs": [
    {
     "data": {
      "text/plain": [
       "Text(0, 0.5, 'Events')"
      ]
     },
     "execution_count": 20,
     "metadata": {},
     "output_type": "execute_result"
    },
    {
     "data": {
      "image/png": "[encoded data removed]",
      "text/plain": [
       "<Figure size 648x432 with 1 Axes>"
      ]
     },
     "metadata": {
      "needs_background": "light"
     },
     "output_type": "display_data"
    }
   ],
   "source": [
    "plt.figure(figsize=(9,6))\n",
    "plt.hist(ak.flatten(muons[\"Muon_pt\"][masking_nogenmatch],axis=None), bins=150, range=[0,150], histtype='step',linewidth=2, color='blue', label='unmatched PAT muon $p_T$')\n",
    "plt.hist(ak.flatten(muons[\"Muon_pt\"][masking_genmatched],axis=None), bins=150, range=[0,150], histtype='step',linewidth=2, color='red', label='matched PAT muon $p_T$')\n",
    "plt.legend()\n",
    "plt.xlabel(r'PAT Muon $p_T$ (GeV)')\n",
    "plt.ylabel('Events')"
   ]
  },
  {
   "cell_type": "code",
   "execution_count": 21,
   "metadata": {},
   "outputs": [
    {
     "data": {
      "text/plain": [
       "Text(0, 0.5, 'Events')"
      ]
     },
     "execution_count": 21,
     "metadata": {},
     "output_type": "execute_result"
    },
    {
     "data": {
      "image/png": "[encoded data removed]",
      "text/plain": [
       "<Figure size 648x432 with 1 Axes>"
      ]
     },
     "metadata": {
      "needs_background": "light"
     },
     "output_type": "display_data"
    }
   ],
   "source": [
    "plt.figure(figsize=(9,6))\n",
    "plt.hist(ak.flatten(muons[\"Muon_eta\"][masking_nogenmatch],axis=None), bins=60, range=[-3,3], histtype='step',linewidth=2, color='blue', label='unmatched PAT muon $\\eta$')\n",
    "plt.hist(ak.flatten(muons[\"Muon_eta\"][masking_genmatched],axis=None), bins=60, range=[-3,3], histtype='step',linewidth=2, color='red', label='matched PAT muon $\\eta$')\n",
    "plt.legend()\n",
    "plt.xlabel(r'PAT Muon $\\eta$')\n",
    "plt.ylabel('Events')"
   ]
  },
  {
   "cell_type": "markdown",
   "metadata": {},
   "source": [
    "# Step 4: Trigger matching"
   ]
  },
  {
   "cell_type": "markdown",
   "metadata": {},
   "source": [
    "A physics analysis often requires a matching between trigger and offline objects for a proper assessment of trigger efficiencies and related systematics. In order to reduce size per event. NanoAODThe no longer store matching information between muon objects and trigger objects. \n",
    "TrigObj_id in nanoAOD stored the ID of the HLT object. Using previous recipe, we can perform a simple $\\Delta R$ matching between HLT and reconstructed objects."
   ]
  },
  {
   "cell_type": "code",
   "execution_count": 22,
   "metadata": {},
   "outputs": [],
   "source": [
    "hlt = events.arrays([\"TrigObj_pt\", \"TrigObj_eta\", \"TrigObj_phi\", \"TrigObj_id\"])"
   ]
  },
  {
   "cell_type": "code",
   "execution_count": 23,
   "metadata": {},
   "outputs": [],
   "source": [
    "hltmuon_mask=abs(hlt[\"TrigObj_id\"])==13"
   ]
  },
  {
   "cell_type": "code",
   "execution_count": 1,
   "metadata": {},
   "outputs": [
    {
     "ename": "NameError",
     "evalue": "name 'genparts' is not defined",
     "output_type": "error",
     "traceback": [
      "\u001b[0;31m---------------------------------------------------------------------------\u001b[0m",
      "\u001b[0;31mNameError\u001b[0m                                 Traceback (most recent call last)",
      "\u001b[0;32m<ipython-input-1-755877817169>\u001b[0m in \u001b[0;36m<module>\u001b[0;34m\u001b[0m\n\u001b[1;32m      1\u001b[0m \u001b[0mhltmuon_genpartidx_deltar\u001b[0m\u001b[0;34m=\u001b[0m\u001b[0;34m[\u001b[0m\u001b[0;34m]\u001b[0m\u001b[0;34m\u001b[0m\u001b[0;34m\u001b[0m\u001b[0m\n\u001b[1;32m      2\u001b[0m \u001b[0;34m\u001b[0m\u001b[0m\n\u001b[0;32m----> 3\u001b[0;31m \u001b[0;32mfor\u001b[0m \u001b[0mgenetas\u001b[0m\u001b[0;34m,\u001b[0m \u001b[0mgenphis\u001b[0m\u001b[0;34m,\u001b[0m \u001b[0metas\u001b[0m\u001b[0;34m,\u001b[0m \u001b[0mphis\u001b[0m \u001b[0;32min\u001b[0m \u001b[0mzip\u001b[0m\u001b[0;34m(\u001b[0m\u001b[0mgenparts\u001b[0m\u001b[0;34m[\u001b[0m\u001b[0;34m\"GenPart_eta\"\u001b[0m\u001b[0;34m]\u001b[0m\u001b[0;34m,\u001b[0m \u001b[0mgenparts\u001b[0m\u001b[0;34m[\u001b[0m\u001b[0;34m\"GenPart_phi\"\u001b[0m\u001b[0;34m]\u001b[0m\u001b[0;34m,\u001b[0m \u001b[0mhlt\u001b[0m\u001b[0;34m[\u001b[0m\u001b[0;34m\"TrigObj_eta\"\u001b[0m\u001b[0;34m]\u001b[0m\u001b[0;34m[\u001b[0m\u001b[0mhltmuon_mask\u001b[0m\u001b[0;34m]\u001b[0m\u001b[0;34m,\u001b[0m \u001b[0mhlt\u001b[0m\u001b[0;34m[\u001b[0m\u001b[0;34m\"TrigObj_phi\"\u001b[0m\u001b[0;34m]\u001b[0m\u001b[0;34m[\u001b[0m\u001b[0mhltmuon_mask\u001b[0m\u001b[0;34m]\u001b[0m\u001b[0;34m)\u001b[0m\u001b[0;34m:\u001b[0m\u001b[0;34m\u001b[0m\u001b[0;34m\u001b[0m\u001b[0m\n\u001b[0m\u001b[1;32m      4\u001b[0m   \u001b[0midx\u001b[0m\u001b[0;34m=\u001b[0m\u001b[0;34m[\u001b[0m\u001b[0;34m]\u001b[0m\u001b[0;34m\u001b[0m\u001b[0;34m\u001b[0m\u001b[0m\n\u001b[1;32m      5\u001b[0m   \u001b[0;32mfor\u001b[0m \u001b[0meta\u001b[0m\u001b[0;34m,\u001b[0m \u001b[0mphi\u001b[0m \u001b[0;32min\u001b[0m \u001b[0mzip\u001b[0m\u001b[0;34m(\u001b[0m\u001b[0metas\u001b[0m\u001b[0;34m,\u001b[0m \u001b[0mphis\u001b[0m\u001b[0;34m)\u001b[0m\u001b[0;34m:\u001b[0m\u001b[0;34m\u001b[0m\u001b[0;34m\u001b[0m\u001b[0m\n",
      "\u001b[0;31mNameError\u001b[0m: name 'genparts' is not defined"
     ]
    }
   ],
   "source": [
    "hltmuon_genpartidx_deltar=[]\n",
    "\n",
    "for genetas, genphis, etas, phis in zip(genparts[\"GenPart_eta\"], genparts[\"GenPart_phi\"], hlt[\"TrigObj_eta\"][hltmuon_mask], hlt[\"TrigObj_phi\"][hltmuon_mask]):\n",
    "  idx=[]\n",
    "  for eta, phi in zip(etas, phis):\n",
    "    deltar=deltaR(genetas, eta, genphis, phi)\n",
    "    if ak.min(deltar)<0.1:\n",
    "        idx.append(ak.argmin(deltar))\n",
    "    else:\n",
    "        idx.append(-1)\n",
    "  hltmuon_genpartidx_deltar.append(idx)\n"
   ]
  },
  {
   "cell_type": "code",
   "execution_count": 2,
   "metadata": {},
   "outputs": [
    {
     "ename": "NameError",
     "evalue": "name 'ak' is not defined",
     "output_type": "error",
     "traceback": [
      "\u001b[0;31m---------------------------------------------------------------------------\u001b[0m",
      "\u001b[0;31mNameError\u001b[0m                                 Traceback (most recent call last)",
      "\u001b[0;32m<ipython-input-2-d311f6a7b4ae>\u001b[0m in \u001b[0;36m<module>\u001b[0;34m\u001b[0m\n\u001b[0;32m----> 1\u001b[0;31m \u001b[0mhltmuon_genpartidx_deltar\u001b[0m\u001b[0;34m=\u001b[0m\u001b[0mak\u001b[0m\u001b[0;34m.\u001b[0m\u001b[0mfromiter\u001b[0m\u001b[0;34m(\u001b[0m\u001b[0mhltmuon_genpartidx_deltar\u001b[0m\u001b[0;34m)\u001b[0m\u001b[0;34m\u001b[0m\u001b[0;34m\u001b[0m\u001b[0m\n\u001b[0m\u001b[1;32m      2\u001b[0m \u001b[0mhltmasking_nogenmatch\u001b[0m\u001b[0;34m=\u001b[0m\u001b[0;34m(\u001b[0m\u001b[0mhltmuon_genpartidx_deltar\u001b[0m\u001b[0;34m==\u001b[0m\u001b[0;34m-\u001b[0m\u001b[0;36m1\u001b[0m\u001b[0;34m)\u001b[0m\u001b[0;34m\u001b[0m\u001b[0;34m\u001b[0m\u001b[0m\n\u001b[1;32m      3\u001b[0m \u001b[0mhltmasking_genmatched\u001b[0m\u001b[0;34m=\u001b[0m\u001b[0;34m(\u001b[0m\u001b[0mhltmuon_genpartidx_deltar\u001b[0m\u001b[0;34m!=\u001b[0m\u001b[0;34m-\u001b[0m\u001b[0;36m1\u001b[0m\u001b[0;34m)\u001b[0m\u001b[0;34m\u001b[0m\u001b[0;34m\u001b[0m\u001b[0m\n",
      "\u001b[0;31mNameError\u001b[0m: name 'ak' is not defined"
     ]
    }
   ],
   "source": [
    "hltmuon_genpartidx_deltar=ak.fromiter(hltmuon_genpartidx_deltar)\n",
    "hltmasking_nogenmatch=(hltmuon_genpartidx_deltar==-1)\n",
    "hltmasking_genmatched=(hltmuon_genpartidx_deltar!=-1)"
   ]
  },
  {
   "cell_type": "code",
   "execution_count": null,
   "metadata": {},
   "outputs": [],
   "source": [
    "plt.figure(figsize=(9,6))\n",
    "plt.hist(hlt_pt[hltmuon_mask].flatten(), bins=150, range=[0,150], histtype='step', linewidth=2, color='green', label='HLT muon $p_T$')\n",
    "plt.hist(hlt_pt[hltmuon_mask][hltmasking_nogenmatch].flatten(), bins=150, range=[0,150], histtype='step',linewidth=2, color='blue', label='unmatched HLT muon $p_T$')\n",
    "plt.hist(hlt_pt[hltmuon_mask][hltmasking_genmatched].flatten(), bins=150, range=[0,150], histtype='step',linewidth=2, color='red', linestyle=(':'), label='matched HLT muon $p_T$')\n",
    "\n",
    "plt.legend()\n",
    "plt.xlabel(r'Muon $p_T$ (GeV)')\n",
    "plt.ylabel('Events')\n",
    "plt.yscale('log')"
   ]
  },
  {
   "cell_type": "code",
   "execution_count": null,
   "metadata": {},
   "outputs": [],
   "source": [
    "plt.figure(figsize=(9,6))\n",
    "plt.hist(hlt_eta[hltmuon_mask][hltmasking_nogenmatch].flatten(), bins=60, range=[-3,3], histtype='step',linewidth=2, color='blue', label='unmatched HLT muon $\\eta$')\n",
    "plt.hist(hlt_eta[hltmuon_mask][hltmasking_genmatched].flatten(), bins=60, range=[-3,3], histtype='step',linewidth=2, color='red', label='matched HLT muon $\\eta$')\n",
    "plt.hist(hlt_eta[hltmuon_mask].flatten(), bins=60, range=[-3,3], histtype='step',linewidth=2, color='green', label='HLT muon $\\eta$')\n",
    "plt.legend()\n",
    "plt.xlabel(r'Muon $\\eta$')\n",
    "plt.ylabel('Events')"
   ]
  },
  {
   "cell_type": "code",
   "execution_count": null,
   "metadata": {},
   "outputs": [],
   "source": []
  },
  {
   "cell_type": "code",
   "execution_count": null,
   "metadata": {},
   "outputs": [],
   "source": []
  }
 ],
 "metadata": {
  "kernelspec": {
   "display_name": "Muon-HAT-2020",
   "language": "python3",
   "name": "muon-hat-2020"
  },
  "language_info": {
   "codemirror_mode": {
    "name": "ipython",
    "version": 3
   },
   "file_extension": ".py",
   "mimetype": "text/x-python",
   "name": "python",
   "nbconvert_exporter": "python",
   "pygments_lexer": "ipython3",
   "version": "3.8.10"
  }
 },
 "nbformat": 4,
 "nbformat_minor": 2
}
