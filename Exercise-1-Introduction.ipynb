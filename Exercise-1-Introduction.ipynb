{
 "cells": [
  {
   "cell_type": "markdown",
   "metadata": {},
   "source": [
    "# Step1 Getting familiar with the muon objects and nanoaod\n",
    "In this exercise we will get familiar with the muon objects in an [nanoAOD](https://twiki.cern.ch/twiki/bin/view/CMSPublic/WorkBookNanoAOD) file. We will mostly use the following file, containing simulated Drell–Yan dimuon events generated at NLO.<br>\n",
    "* DYJetsToMuMu_M-50_TuneCP5_13TeV-madgraphMLM-pythia8.root\n",
    "\n",
    "Further information and a list of those variables stored in nanoAOD can be found [here](https://cms-nanoaod-integration.web.cern.ch/integration/master-106X/mc102X_doc.html).<br>\n",
    "In nanoAOD, data are sored as arrays. \n",
    "[Uproot](https://github.com/scikit-hep/uproot#exploring-a-file) will be used to explore the nanoAOD file.\n"
   ]
  },
  {
   "cell_type": "markdown",
   "metadata": {},
   "source": [
    "Not importing? Don't forget to select the correct kernel"
   ]
  },
  {
   "cell_type": "code",
   "execution_count": null,
   "metadata": {},
   "outputs": [],
   "source": [
    "import uproot\n",
    "import matplotlib.pyplot as plt\n",
    "import numpy as np\n",
    "import awkward as ak\n",
    "from math import pi"
   ]
  },
  {
   "cell_type": "markdown",
   "metadata": {},
   "source": [
    "First, lets take a look of the variables stored in NanoAOD. Uproot.open( ) return a ROOTDirectory similar to a python dictionary. Function key( ) prints all the dicinory keywords. The b' ahead of the names is due to ROOT object names having no encoding."
   ]
  },
  {
   "cell_type": "code",
   "execution_count": null,
   "metadata": {},
   "outputs": [],
   "source": [
    "events=uproot.open('/cms/store/user/hats/Muon/DYJetsToMuMu_M-50_TuneCP5_13TeV-madgraphMLM-pythia8.root')['Events']\n",
    "#events=uproot.open('~/Downloads/DYJetsToMuMu_M-50_TuneCP5_13TeV-madgraphMLM-pythia8.root')['Events']"
   ]
  },
  {
   "cell_type": "code",
   "execution_count": null,
   "metadata": {},
   "outputs": [],
   "source": [
    "events.keys()\n",
    "#events.values()\n",
    "#events.show()"
   ]
  },
  {
   "cell_type": "markdown",
   "metadata": {},
   "source": [
    "**Question 1**: Which collections contain muons or muon candidates? (At any level: generated, reconstructed, trigger, etc.)"
   ]
  },
  {
   "cell_type": "markdown",
   "metadata": {},
   "source": [
    "# Step2 Print and plot some muon objects \n",
    "We can print different objects such as transeverse momentum($p_T$ pt), pseudorapidity(eta $\\eta$) and azimuthal angle(phi $\\phi$) and apply cut on $p_T$, $\\eta$ and $\\phi$ using uproot.<br>\n",
    "First lets print pt eta phi of reconstructed muon "
   ]
  },
  {
   "cell_type": "code",
   "execution_count": null,
   "metadata": {},
   "outputs": [],
   "source": [
    "muons=events.arrays([\"Muon_pt\", \"Muon_eta\", \"Muon_phi\", \"nMuon\", \"nGenPart\"])"
   ]
  },
  {
   "cell_type": "code",
   "execution_count": null,
   "metadata": {},
   "outputs": [],
   "source": [
    "print('muon_pt=', muons[\"Muon_pt\"], '\\n',\n",
    "      'muon_eta=', muons[\"Muon_eta\"], '\\n',\n",
    "      'muon_phi=', muons[\"Muon_phi\"])\n"
   ]
  },
  {
   "cell_type": "markdown",
   "metadata": {},
   "source": [
    "Lets plot them using matplotlib"
   ]
  },
  {
   "cell_type": "code",
   "execution_count": null,
   "metadata": {
    "scrolled": true
   },
   "outputs": [],
   "source": [
    "plt.figure(figsize=(9,6))\n",
    "plt.hist(ak.flatten(muons[\"Muon_pt\"],axis=None), bins=150, range=[0,150], histtype='step',linewidth=2, color='blue', label='$p_T$ distribution of all Muons')\n",
    "plt.title('$p_T$ distribution of PAT Muon objects')\n",
    "plt.xlabel(r'Muon $p_T$ (GeV)')\n",
    "plt.ylabel('Events')"
   ]
  },
  {
   "cell_type": "code",
   "execution_count": null,
   "metadata": {},
   "outputs": [],
   "source": [
    "plt.figure(figsize=(9,6))\n",
    "plt.hist(ak.flatten(muons[\"Muon_eta\"],axis=None), bins=60, range=[-3, 3], histtype='step',linewidth=2, color='red', label='muon_$\\eta$')\n",
    "plt.title('$\\eta$ distribution of PAT Muon objects')\n",
    "plt.xlabel(r'Muon $\\eta$')\n",
    "plt.ylabel('Events')"
   ]
  },
  {
   "cell_type": "code",
   "execution_count": null,
   "metadata": {},
   "outputs": [],
   "source": [
    "plt.figure(figsize=(9,6))\n",
    "plt.hist(ak.flatten(muons[\"Muon_phi\"],axis=None), bins=70, range=[-3.5, 3.5], histtype='step',linewidth=2, color='green', label='muon_$\\phi$')\n",
    "plt.title('$\\phi$ distribution of PAT Muon objects')\n",
    "plt.xlabel(r'Muon $\\phi$')\n",
    "plt.ylabel('Events')"
   ]
  },
  {
   "cell_type": "markdown",
   "metadata": {},
   "source": [
    "Then lets apply criteria such as pt>20 GeV and |eta|<2.4."
   ]
  },
  {
   "cell_type": "code",
   "execution_count": null,
   "metadata": {
    "scrolled": false
   },
   "outputs": [],
   "source": [
    "masking=(muons[\"Muon_pt\"]>20)&(abs(muons[\"Muon_eta\"])<2.4)\n",
    "masking"
   ]
  },
  {
   "cell_type": "markdown",
   "metadata": {},
   "source": [
    "As you can see above, by performing masking, a jagged array of bool values is created.\n",
    "Then using the syntax array[masking], we keep only the varible that is true in the masking array"
   ]
  },
  {
   "cell_type": "code",
   "execution_count": null,
   "metadata": {},
   "outputs": [],
   "source": [
    "print('muon_pt=', muons[\"Muon_pt\"][masking], '\\n',\n",
    "      'muon_eta=', muons[\"Muon_eta\"][masking], '\\n',\n",
    "      'muon_phi=', muons[\"Muon_phi\"][masking])"
   ]
  },
  {
   "cell_type": "markdown",
   "metadata": {},
   "source": [
    "Then lets plot pt of reconstructed muon and reconstructed muon with pt>20 GeV and |eta|<2.4, note that we can use flatten() to reduce the jagged 2 dimension array to 1 dimension."
   ]
  },
  {
   "cell_type": "code",
   "execution_count": null,
   "metadata": {},
   "outputs": [],
   "source": [
    "muon_pt_masked=muons[\"Muon_pt\"][masking]\n",
    "muon_pt_flat= ak.flatten(muons[\"Muon_pt\"],axis=None)\n",
    "muon_pt_masked_flat=ak.flatten(muon_pt_masked,axis=None)"
   ]
  },
  {
   "cell_type": "code",
   "execution_count": null,
   "metadata": {},
   "outputs": [],
   "source": [
    "plt.figure(figsize=(9,6))\n",
    "plt.hist(muon_pt_flat, bins=150, range=[0,150], histtype='step',linewidth=2, color='red', label='muon_$p_T$')\n",
    "plt.hist(muon_pt_masked_flat, bins=150, range=[0,150], histtype='step',linewidth=2, linestyle=':', color='blue', label='muon_$p_T$ with criteria')\n",
    "plt.legend()\n",
    "plt.xlabel(r'Muon $p_T$ (GeV)')\n",
    "plt.ylabel('Events')"
   ]
  },
  {
   "cell_type": "markdown",
   "metadata": {},
   "source": [
    "**Question 2**: Using the syntax above, plot the main kinematic observables for the following objects and selections (only the first few events):\n",
    "* all final-state muons in the GenPart collection\n",
    "* all final-state muons in the GenPart collection with pT > 20 GeV and |η| < 2.4\n",
    "* all final-state muons in the GenPart collection with pT > 20 GeV and |η| < 2.4, and not coming from a hadron or τ decay\n",
    "\n",
    "**Question 3**: Compare the numbers of reconstructed and generated muons and their pT spectra at different selection stages, by overlaying the distributions in the same frame.<br>\n",
    "Since you are running on a Drell–Yan sample, you would expect two muons per event. Explain why there are sometimes more than two muons in an event.<br>\n",
    "Look at the full distributions, without η and pT cuts. Can you explain the differences?<br>\n",
    "\n",
    "Hint (GenPart_statusFlags: gen status flags stored bitwise. Bits are: 0 : isPrompt, 1 : isDecayedLeptonHadron, 2 : isTauDecayProduct, 3 : isPromptTauDecayProduct, 4 : isDirectTauDecayProduct, 5 : isDirectPromptTauDecayProduct, 6 : isDirectHadronDecayProduct, 7 : isHardProcess, 8 : fromHardProcess, 9 : isHardProcessTauDecayProduct, 10 : isDirectHardProcessTauDecayProduct, 11 : fromHardProcessBeforeFSR, 12 : isFirstCopy, 13 : isLastCopy, 14 : isLastCopyBeforeFSR,\n",
    "\n",
    "GenPart_status\tParticle status. 1=stable)"
   ]
  },
  {
   "cell_type": "code",
   "execution_count": null,
   "metadata": {},
   "outputs": [],
   "source": [
    "#gengenpart_status, genpart_statusflags, genpart_pdgid, genpart_pt, genpart_eta, genpart_phi=events.arrays([\"GenPart_status\", \"GenPart_statusFlags\", \"GenPart_pdgId\", \"GenPart_pt\", \"GenPart_eta\", \"GenPart_phi\"])\n",
    "genparts=events.arrays([\"GenPart_status\", \"GenPart_statusFlags\", \"GenPart_pdgId\", \"GenPart_pt\", \"GenPart_eta\", \"GenPart_phi\"])\n",
    "masking_one=(abs(genparts[\"GenPart_pdgId\"])==13)& (genparts[\"GenPart_status\"]==1)\n",
    "masking_two=(abs(genparts[\"GenPart_pdgId\"])==13)& (genparts[\"GenPart_status\"]==1)&(genparts[\"GenPart_pt\"]>20)&(abs(genparts[\"GenPart_eta\"])<2.4)\n",
    "masking_three=(genparts[\"GenPart_pdgId\"]==13)& (genparts[\"GenPart_status\"]==1)&(genparts[\"GenPart_pt\"]>20)&(abs(genparts[\"GenPart_eta\"])<2.4)&((genparts[\"GenPart_statusFlags\"]%2)==1)\n",
    "plt.figure(figsize=(9,6))\n",
    "plt.hist(ak.flatten(genparts[\"GenPart_pt\"][masking_one],axis=None), bins=150, range=[0,150], histtype='step',linewidth=2, color='red', label='All final state Muons')\n",
    "plt.hist(ak.flatten(genparts[\"GenPart_pt\"][masking_two],axis=None), bins=150, range=[0,150], histtype='step',linewidth=2, color='blue', label='Final state Muons with $p_T$ > 20GeV and $|\\eta|$<2.4')\n",
    "plt.hist(ak.flatten(genparts[\"GenPart_pt\"][masking_three],axis=None), bins=150, range=[0,150], histtype='step',linewidth=2, color='brown', linestyle=('dashed'), label='Final state Muons with $p_T$ > 20GeV and $|\\eta|$<2.4\\nand not coming from hadron or $\\\\tau$ decay')\n",
    "plt.legend()\n",
    "plt.title('$p_T$ distribution of the Generated Muons')\n",
    "plt.xlabel(r'generated Muon $p_T$ (GeV)')\n",
    "plt.ylabel('Events')\n",
    "plt. yscale('log')"
   ]
  },
  {
   "cell_type": "markdown",
   "metadata": {},
   "source": [
    "Lets also compare the number of muons in each event between reconstructed one and generated one"
   ]
  },
  {
   "cell_type": "code",
   "execution_count": null,
   "metadata": {},
   "outputs": [],
   "source": [
    "plt.figure(figsize=(9,6))\n",
    "plt.hist(ak.flatten(muons[\"nMuon\"],axis=None), bins=10, range=[0,10], histtype='step',linewidth=2, color='red', label='number of PAT muons')\n",
    "plt.hist(ak.flatten(ak.sum(masking_one,axis=-1),axis=None), bins=10, range=[0,10], histtype='step',linewidth=2, color='blue', label='number of GEN muons')\n",
    "plt.legend()\n",
    "plt.xlabel('number of muon')\n",
    "plt.ylabel('Events')"
   ]
  },
  {
   "cell_type": "code",
   "execution_count": null,
   "metadata": {},
   "outputs": [],
   "source": [
    "plt.figure(figsize=(9,6))\n",
    "plt.hist(ak.flatten(muons[\"Muon_pt\"],axis=None), bins=150, range=[0,150], histtype='step',linewidth=2, color='blue', label='recon_muon_$p_T$')\n",
    "plt.hist(ak.flatten(genparts[\"GenPart_pt\"][masking_one],axis=None), bins=150, range=[0,150], histtype='step',linewidth=2, color='red', label='gen_muon_$p_T$')\n",
    "plt.legend()\n",
    "plt.xlabel(r'Muon $p_T$ (GeV)')\n",
    "plt.ylabel('Events')"
   ]
  },
  {
   "cell_type": "markdown",
   "metadata": {},
   "source": [
    "# Step 3 Gen matching\n",
    "When working with simulated data, it is sometime useful to pair each reconstructed muon to its corresponding generated particle, e.g. for efficiency or resolution studies. In this part of the exercise we will learn possible ways to do this.<br>\n",
    "\n",
    "Gen matching information for muon is already stored in Muon_genPartIdx, which is matched on status=1 muon using particle flow algorithm. \n",
    "Lets print the Moun_genPartIdx. Note that -1 means cannot matched to generated particles."
   ]
  },
  {
   "cell_type": "code",
   "execution_count": null,
   "metadata": {},
   "outputs": [],
   "source": [
    "muon_genpartidx=events.arrays(\"Muon_genPartIdx\")\n",
    "muon_genpartidx"
   ]
  },
  {
   "cell_type": "markdown",
   "metadata": {},
   "source": [
    "We can also do a matching ourselves using deltaR method, in deltaR method, we need to make sure the delta phi is between pi and -pi. Below defines a deltaR function\n",
    "&Delta;R = (&Delta;&eta;<sup>2</sup> + &Delta;&phi;<sup>2</sup>)<sup>1/2</sup> <br>\n",
    "Note that &Delta;&phi; is between &pi; to -&pi;."
   ]
  },
  {
   "cell_type": "code",
   "execution_count": null,
   "metadata": {},
   "outputs": [],
   "source": [
    "def deltaR(genetas, eta, genphis, phi):\n",
    "    return np.sqrt((genetas-eta)**2+((genphis-phi+pi)%(2*pi)-pi)**2)"
   ]
  },
  {
   "cell_type": "code",
   "execution_count": null,
   "metadata": {},
   "outputs": [],
   "source": [
    "muon_genpartidx_deltar=[]\n",
    "\n",
    "for genetas, genphis, etas, phis in zip(genparts[\"GenPart_eta\"], genparts[\"GenPart_phi\"], muons[\"Muon_eta\"], muons[\"Muon_phi\"]):\n",
    "  idx=[]\n",
    "  for eta, phi in zip(etas, phis):\n",
    "    deltar=deltaR(genetas, eta, genphis, phi)\n",
    "    if ak.min(deltar)<0.3:\n",
    "        idx.append(ak.argmin(deltar))\n",
    "    else:\n",
    "        idx.append(-1)\n",
    "  muon_genpartidx_deltar.append(idx)"
   ]
  },
  {
   "cell_type": "markdown",
   "metadata": {},
   "source": [
    "**Question 5**: Are there reconstructed muons that do not match any generated muons? Why? "
   ]
  },
  {
   "cell_type": "markdown",
   "metadata": {},
   "source": [
    "**Question 6**: Are there cases in which the &Delta;R matching fails to find the correct generated particle? Why? "
   ]
  },
  {
   "cell_type": "markdown",
   "metadata": {},
   "source": [
    "Lets take a look at those reconstracted muons that do not match any generated muons, and plot their pt and eta distribution"
   ]
  },
  {
   "cell_type": "code",
   "execution_count": null,
   "metadata": {},
   "outputs": [],
   "source": [
    "masking_nogenmatch=(muon_genpartidx[\"Muon_genPartIdx\"]==-1)\n",
    "masking_genmatched=(muon_genpartidx[\"Muon_genPartIdx\"]!=-1)"
   ]
  },
  {
   "cell_type": "code",
   "execution_count": null,
   "metadata": {},
   "outputs": [],
   "source": [
    "plt.figure(figsize=(9,6))\n",
    "plt.hist(ak.flatten(muons[\"Muon_pt\"][masking_nogenmatch],axis=None), bins=150, range=[0,150], histtype='step',linewidth=2, color='blue', label='unmatched PAT muon $p_T$')\n",
    "plt.hist(ak.flatten(muons[\"Muon_pt\"][masking_genmatched],axis=None), bins=150, range=[0,150], histtype='step',linewidth=2, color='red', label='matched PAT muon $p_T$')\n",
    "plt.legend()\n",
    "plt.xlabel(r'PAT Muon $p_T$ (GeV)')\n",
    "plt.ylabel('Events')"
   ]
  },
  {
   "cell_type": "code",
   "execution_count": null,
   "metadata": {},
   "outputs": [],
   "source": [
    "plt.figure(figsize=(9,6))\n",
    "plt.hist(ak.flatten(muons[\"Muon_eta\"][masking_nogenmatch],axis=None), bins=60, range=[-3,3], histtype='step',linewidth=2, color='blue', label='unmatched PAT muon $\\eta$')\n",
    "plt.hist(ak.flatten(muons[\"Muon_eta\"][masking_genmatched],axis=None), bins=60, range=[-3,3], histtype='step',linewidth=2, color='red', label='matched PAT muon $\\eta$')\n",
    "plt.legend()\n",
    "plt.xlabel(r'PAT Muon $\\eta$')\n",
    "plt.ylabel('Events')"
   ]
  },
  {
   "cell_type": "markdown",
   "metadata": {},
   "source": [
    "# Step 4: Trigger matching"
   ]
  },
  {
   "cell_type": "markdown",
   "metadata": {},
   "source": [
    "A physics analysis often requires a matching between trigger and offline objects for a proper assessment of trigger efficiencies and related systematics. In order to reduce size per event. NanoAODThe no longer store matching information between muon objects and trigger objects. \n",
    "TrigObj_id in nanoAOD stored the ID of the HLT object. Using previous recipe, we can perform a simple $\\Delta R$ matching between HLT and reconstructed objects."
   ]
  },
  {
   "cell_type": "code",
   "execution_count": null,
   "metadata": {},
   "outputs": [],
   "source": [
    "hlt = events.arrays([\"TrigObj_pt\", \"TrigObj_eta\", \"TrigObj_phi\", \"TrigObj_id\"])"
   ]
  },
  {
   "cell_type": "code",
   "execution_count": null,
   "metadata": {},
   "outputs": [],
   "source": [
    "hltmuon_mask=abs(hlt[\"TrigObj_id\"])==13"
   ]
  },
  {
   "cell_type": "code",
   "execution_count": null,
   "metadata": {},
   "outputs": [],
   "source": [
    "hltmuon_genpartidx_deltar=[]\n",
    "\n",
    "for genetas, genphis, etas, phis in zip(genparts[\"GenPart_eta\"], genparts[\"GenPart_phi\"], hlt[\"TrigObj_eta\"][hltmuon_mask], hlt[\"TrigObj_phi\"][hltmuon_mask]):\n",
    "  idx=[]\n",
    "  for eta, phi in zip(etas, phis):\n",
    "    deltar=deltaR(genetas, eta, genphis, phi)\n",
    "    if ak.min(deltar)<0.1:\n",
    "        idx.append(ak.argmin(deltar))\n",
    "    else:\n",
    "        idx.append(-1)\n",
    "  hltmuon_genpartidx_deltar.append(idx)\n"
   ]
  },
  {
   "cell_type": "code",
   "execution_count": null,
   "metadata": {},
   "outputs": [],
   "source": [
    "hltmuon_genpartidx_deltar=ak.fromiter(hltmuon_genpartidx_deltar)\n",
    "hltmasking_nogenmatch=(hltmuon_genpartidx_deltar==-1)\n",
    "hltmasking_genmatched=(hltmuon_genpartidx_deltar!=-1)"
   ]
  },
  {
   "cell_type": "code",
   "execution_count": null,
   "metadata": {},
   "outputs": [],
   "source": [
    "plt.figure(figsize=(9,6))\n",
    "plt.hist(hlt_pt[hltmuon_mask].flatten(), bins=150, range=[0,150], histtype='step', linewidth=2, color='green', label='HLT muon $p_T$')\n",
    "plt.hist(hlt_pt[hltmuon_mask][hltmasking_nogenmatch].flatten(), bins=150, range=[0,150], histtype='step',linewidth=2, color='blue', label='unmatched HLT muon $p_T$')\n",
    "plt.hist(hlt_pt[hltmuon_mask][hltmasking_genmatched].flatten(), bins=150, range=[0,150], histtype='step',linewidth=2, color='red', linestyle=(':'), label='matched HLT muon $p_T$')\n",
    "\n",
    "plt.legend()\n",
    "plt.xlabel(r'Muon $p_T$ (GeV)')\n",
    "plt.ylabel('Events')\n",
    "plt.yscale('log')"
   ]
  },
  {
   "cell_type": "code",
   "execution_count": null,
   "metadata": {},
   "outputs": [],
   "source": [
    "plt.figure(figsize=(9,6))\n",
    "plt.hist(hlt_eta[hltmuon_mask][hltmasking_nogenmatch].flatten(), bins=60, range=[-3,3], histtype='step',linewidth=2, color='blue', label='unmatched HLT muon $\\eta$')\n",
    "plt.hist(hlt_eta[hltmuon_mask][hltmasking_genmatched].flatten(), bins=60, range=[-3,3], histtype='step',linewidth=2, color='red', label='matched HLT muon $\\eta$')\n",
    "plt.hist(hlt_eta[hltmuon_mask].flatten(), bins=60, range=[-3,3], histtype='step',linewidth=2, color='green', label='HLT muon $\\eta$')\n",
    "plt.legend()\n",
    "plt.xlabel(r'Muon $\\eta$')\n",
    "plt.ylabel('Events')"
   ]
  },
  {
   "cell_type": "code",
   "execution_count": null,
   "metadata": {},
   "outputs": [],
   "source": []
  },
  {
   "cell_type": "code",
   "execution_count": null,
   "metadata": {},
   "outputs": [],
   "source": []
  }
 ],
 "metadata": {
  "kernelspec": {
   "display_name": "Muon-HAT-2020",
   "language": "python3",
   "name": "muon-hat-2020"
  },
  "language_info": {
   "codemirror_mode": {
    "name": "ipython",
    "version": 3
   },
   "file_extension": ".py",
   "mimetype": "text/x-python",
   "name": "python",
   "nbconvert_exporter": "python",
   "pygments_lexer": "ipython3",
   "version": "3.8.10"
  }
 },
 "nbformat": 4,
 "nbformat_minor": 2
}
