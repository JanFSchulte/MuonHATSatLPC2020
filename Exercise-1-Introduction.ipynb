{
 "cells": [
  {
   "cell_type": "markdown",
   "metadata": {},
   "source": [
    "# Step1 Getting familiar with the muon objects and nanoaod\n",
    "In this exercise we will get familiar with the muon objects in an [nanoAOD](https://twiki.cern.ch/twiki/bin/view/CMSPublic/WorkBookNanoAOD) file. We will mostly use the following file, containing simulated Drell–Yan dimuon events generated at NLO.<br>\n",
    "Further information and a list of those variables stored in nanoAOD can be found [here](https://cms-nanoaod-integration.web.cern.ch/integration/master-106X/mc102X_doc.html).<br>\n",
    "In nanoAOD, data are sored as arrays. \n",
    "[Uproot](https://github.com/scikit-hep/uproot#exploring-a-file) will be used to explore the nanoAOD file.\n"
   ]
  },
  {
   "cell_type": "code",
   "execution_count": 1,
   "metadata": {},
   "outputs": [],
   "source": [
    "import uproot\n",
    "import matplotlib.pyplot as plt\n",
    "import numpy as np\n",
    "import awkward as ak\n",
    "from math import pi"
   ]
  },
  {
   "cell_type": "markdown",
   "metadata": {},
   "source": [
    "First, lets take a look of the variables stored in NanoAOD. Uproot.open( ) return a ROOTDirectory similar to a python dictionary. Function key( ) prints all the dicinory keywords. The b' ahead of the names is due to ROOT object names having no encoding."
   ]
  },
  {
   "cell_type": "code",
   "execution_count": 2,
   "metadata": {},
   "outputs": [],
   "source": [
    "events=uproot.open('/cms/store/user/hats/Muon/EE58CBFC-6597-6E4F-9EF3-317ED03E5542.root')['Events']\n",
    "#file=uproot.open('~/Downloads/FE9779A1-B793-2644-9A14-3E105B03B488.root')['Events']"
   ]
  },
  {
   "cell_type": "code",
   "execution_count": 3,
   "metadata": {},
   "outputs": [
    {
     "data": {
      "text/plain": [
       "['run',\n",
       " 'luminosityBlock',\n",
       " 'event',\n",
       " 'HTXS_Higgs_pt',\n",
       " 'HTXS_Higgs_y',\n",
       " 'HTXS_stage1_1_cat_pTjet25GeV',\n",
       " 'HTXS_stage1_1_cat_pTjet30GeV',\n",
       " 'HTXS_stage1_1_fine_cat_pTjet25GeV',\n",
       " 'HTXS_stage1_1_fine_cat_pTjet30GeV',\n",
       " 'HTXS_stage1_2_cat_pTjet25GeV',\n",
       " 'HTXS_stage1_2_cat_pTjet30GeV',\n",
       " 'HTXS_stage1_2_fine_cat_pTjet25GeV',\n",
       " 'HTXS_stage1_2_fine_cat_pTjet30GeV',\n",
       " 'HTXS_stage_0',\n",
       " 'HTXS_stage_1_pTjet25',\n",
       " 'HTXS_stage_1_pTjet30',\n",
       " 'HTXS_njets25',\n",
       " 'HTXS_njets30',\n",
       " 'btagWeight_CSVV2',\n",
       " 'btagWeight_DeepCSVB',\n",
       " 'CaloMET_phi',\n",
       " 'CaloMET_pt',\n",
       " 'CaloMET_sumEt',\n",
       " 'ChsMET_phi',\n",
       " 'ChsMET_pt',\n",
       " 'ChsMET_sumEt',\n",
       " 'nCorrT1METJet',\n",
       " 'CorrT1METJet_area',\n",
       " 'CorrT1METJet_eta',\n",
       " 'CorrT1METJet_muonSubtrFactor',\n",
       " 'CorrT1METJet_phi',\n",
       " 'CorrT1METJet_rawPt',\n",
       " 'nElectron',\n",
       " 'Electron_deltaEtaSC',\n",
       " 'Electron_dr03EcalRecHitSumEt',\n",
       " 'Electron_dr03HcalDepth1TowerSumEt',\n",
       " 'Electron_dr03TkSumPt',\n",
       " 'Electron_dr03TkSumPtHEEP',\n",
       " 'Electron_dxy',\n",
       " 'Electron_dxyErr',\n",
       " 'Electron_dz',\n",
       " 'Electron_dzErr',\n",
       " 'Electron_eCorr',\n",
       " 'Electron_eInvMinusPInv',\n",
       " 'Electron_energyErr',\n",
       " 'Electron_eta',\n",
       " 'Electron_hoe',\n",
       " 'Electron_ip3d',\n",
       " 'Electron_jetPtRelv2',\n",
       " 'Electron_jetRelIso',\n",
       " 'Electron_mass',\n",
       " 'Electron_miniPFRelIso_all',\n",
       " 'Electron_miniPFRelIso_chg',\n",
       " 'Electron_mvaFall17V1Iso',\n",
       " 'Electron_mvaFall17V1noIso',\n",
       " 'Electron_mvaFall17V2Iso',\n",
       " 'Electron_mvaFall17V2noIso',\n",
       " 'Electron_pfRelIso03_all',\n",
       " 'Electron_pfRelIso03_chg',\n",
       " 'Electron_phi',\n",
       " 'Electron_pt',\n",
       " 'Electron_r9',\n",
       " 'Electron_scEtOverPt',\n",
       " 'Electron_sieie',\n",
       " 'Electron_sip3d',\n",
       " 'Electron_mvaTTH',\n",
       " 'Electron_charge',\n",
       " 'Electron_cutBased',\n",
       " 'Electron_cutBased_Fall17_V1',\n",
       " 'Electron_jetIdx',\n",
       " 'Electron_pdgId',\n",
       " 'Electron_photonIdx',\n",
       " 'Electron_tightCharge',\n",
       " 'Electron_vidNestedWPBitmap',\n",
       " 'Electron_vidNestedWPBitmapHEEP',\n",
       " 'Electron_convVeto',\n",
       " 'Electron_cutBased_HEEP',\n",
       " 'Electron_isPFcand',\n",
       " 'Electron_lostHits',\n",
       " 'Electron_mvaFall17V1Iso_WP80',\n",
       " 'Electron_mvaFall17V1Iso_WP90',\n",
       " 'Electron_mvaFall17V1Iso_WPL',\n",
       " 'Electron_mvaFall17V1noIso_WP80',\n",
       " 'Electron_mvaFall17V1noIso_WP90',\n",
       " 'Electron_mvaFall17V1noIso_WPL',\n",
       " 'Electron_mvaFall17V2Iso_WP80',\n",
       " 'Electron_mvaFall17V2Iso_WP90',\n",
       " 'Electron_mvaFall17V2Iso_WPL',\n",
       " 'Electron_mvaFall17V2noIso_WP80',\n",
       " 'Electron_mvaFall17V2noIso_WP90',\n",
       " 'Electron_mvaFall17V2noIso_WPL',\n",
       " 'Electron_seedGain',\n",
       " 'Flag_ecalBadCalibFilterV2',\n",
       " 'nFatJet',\n",
       " 'FatJet_area',\n",
       " 'FatJet_btagCMVA',\n",
       " 'FatJet_btagCSVV2',\n",
       " 'FatJet_btagDDBvL',\n",
       " 'FatJet_btagDDBvL_noMD',\n",
       " 'FatJet_btagDDCvB',\n",
       " 'FatJet_btagDDCvB_noMD',\n",
       " 'FatJet_btagDDCvL',\n",
       " 'FatJet_btagDDCvL_noMD',\n",
       " 'FatJet_btagDeepB',\n",
       " 'FatJet_btagHbb',\n",
       " 'FatJet_deepTagMD_H4qvsQCD',\n",
       " 'FatJet_deepTagMD_HbbvsQCD',\n",
       " 'FatJet_deepTagMD_TvsQCD',\n",
       " 'FatJet_deepTagMD_WvsQCD',\n",
       " 'FatJet_deepTagMD_ZHbbvsQCD',\n",
       " 'FatJet_deepTagMD_ZHccvsQCD',\n",
       " 'FatJet_deepTagMD_ZbbvsQCD',\n",
       " 'FatJet_deepTagMD_ZvsQCD',\n",
       " 'FatJet_deepTagMD_bbvsLight',\n",
       " 'FatJet_deepTagMD_ccvsLight',\n",
       " 'FatJet_deepTag_H',\n",
       " 'FatJet_deepTag_QCD',\n",
       " 'FatJet_deepTag_QCDothers',\n",
       " 'FatJet_deepTag_TvsQCD',\n",
       " 'FatJet_deepTag_WvsQCD',\n",
       " 'FatJet_deepTag_ZvsQCD',\n",
       " 'FatJet_eta',\n",
       " 'FatJet_mass',\n",
       " 'FatJet_msoftdrop',\n",
       " 'FatJet_n2b1',\n",
       " 'FatJet_n3b1',\n",
       " 'FatJet_phi',\n",
       " 'FatJet_pt',\n",
       " 'FatJet_rawFactor',\n",
       " 'FatJet_tau1',\n",
       " 'FatJet_tau2',\n",
       " 'FatJet_tau3',\n",
       " 'FatJet_tau4',\n",
       " 'FatJet_lsf3',\n",
       " 'FatJet_jetId',\n",
       " 'FatJet_subJetIdx1',\n",
       " 'FatJet_subJetIdx2',\n",
       " 'FatJet_electronIdx3SJ',\n",
       " 'FatJet_muonIdx3SJ',\n",
       " 'nFsrPhoton',\n",
       " 'FsrPhoton_dROverEt2',\n",
       " 'FsrPhoton_eta',\n",
       " 'FsrPhoton_phi',\n",
       " 'FsrPhoton_pt',\n",
       " 'FsrPhoton_relIso03',\n",
       " 'FsrPhoton_muonIdx',\n",
       " 'nGenJetAK8',\n",
       " 'GenJetAK8_eta',\n",
       " 'GenJetAK8_mass',\n",
       " 'GenJetAK8_phi',\n",
       " 'GenJetAK8_pt',\n",
       " 'nGenJet',\n",
       " 'GenJet_eta',\n",
       " 'GenJet_mass',\n",
       " 'GenJet_phi',\n",
       " 'GenJet_pt',\n",
       " 'nGenPart',\n",
       " 'GenPart_eta',\n",
       " 'GenPart_mass',\n",
       " 'GenPart_phi',\n",
       " 'GenPart_pt',\n",
       " 'GenPart_genPartIdxMother',\n",
       " 'GenPart_pdgId',\n",
       " 'GenPart_status',\n",
       " 'GenPart_statusFlags',\n",
       " 'nSubGenJetAK8',\n",
       " 'SubGenJetAK8_eta',\n",
       " 'SubGenJetAK8_mass',\n",
       " 'SubGenJetAK8_phi',\n",
       " 'SubGenJetAK8_pt',\n",
       " 'Generator_binvar',\n",
       " 'Generator_scalePDF',\n",
       " 'Generator_weight',\n",
       " 'Generator_x1',\n",
       " 'Generator_x2',\n",
       " 'Generator_xpdf1',\n",
       " 'Generator_xpdf2',\n",
       " 'Generator_id1',\n",
       " 'Generator_id2',\n",
       " 'nGenVisTau',\n",
       " 'GenVisTau_eta',\n",
       " 'GenVisTau_mass',\n",
       " 'GenVisTau_phi',\n",
       " 'GenVisTau_pt',\n",
       " 'GenVisTau_charge',\n",
       " 'GenVisTau_genPartIdxMother',\n",
       " 'GenVisTau_status',\n",
       " 'genWeight',\n",
       " 'LHEWeight_originalXWGTUP',\n",
       " 'nLHEPdfWeight',\n",
       " 'LHEPdfWeight',\n",
       " 'nLHEReweightingWeight',\n",
       " 'LHEReweightingWeight',\n",
       " 'nLHEScaleWeight',\n",
       " 'LHEScaleWeight',\n",
       " 'nPSWeight',\n",
       " 'PSWeight',\n",
       " 'nIsoTrack',\n",
       " 'IsoTrack_dxy',\n",
       " 'IsoTrack_dz',\n",
       " 'IsoTrack_eta',\n",
       " 'IsoTrack_pfRelIso03_all',\n",
       " 'IsoTrack_pfRelIso03_chg',\n",
       " 'IsoTrack_phi',\n",
       " 'IsoTrack_pt',\n",
       " 'IsoTrack_miniPFRelIso_all',\n",
       " 'IsoTrack_miniPFRelIso_chg',\n",
       " 'IsoTrack_fromPV',\n",
       " 'IsoTrack_pdgId',\n",
       " 'IsoTrack_isHighPurityTrack',\n",
       " 'IsoTrack_isPFcand',\n",
       " 'IsoTrack_isFromLostTrack',\n",
       " 'nJet',\n",
       " 'Jet_area',\n",
       " 'Jet_btagCMVA',\n",
       " 'Jet_btagCSVV2',\n",
       " 'Jet_btagDeepB',\n",
       " 'Jet_btagDeepC',\n",
       " 'Jet_btagDeepFlavB',\n",
       " 'Jet_btagDeepFlavC',\n",
       " 'Jet_chEmEF',\n",
       " 'Jet_chFPV0EF',\n",
       " 'Jet_chFPV1EF',\n",
       " 'Jet_chFPV2EF',\n",
       " 'Jet_chFPV3EF',\n",
       " 'Jet_chHEF',\n",
       " 'Jet_eta',\n",
       " 'Jet_mass',\n",
       " 'Jet_muEF',\n",
       " 'Jet_muonSubtrFactor',\n",
       " 'Jet_neEmEF',\n",
       " 'Jet_neHEF',\n",
       " 'Jet_phi',\n",
       " 'Jet_pt',\n",
       " 'Jet_puIdDisc',\n",
       " 'Jet_qgl',\n",
       " 'Jet_rawFactor',\n",
       " 'Jet_bRegCorr',\n",
       " 'Jet_bRegRes',\n",
       " 'Jet_cRegCorr',\n",
       " 'Jet_cRegRes',\n",
       " 'Jet_electronIdx1',\n",
       " 'Jet_electronIdx2',\n",
       " 'Jet_jetId',\n",
       " 'Jet_muonIdx1',\n",
       " 'Jet_muonIdx2',\n",
       " 'Jet_nConstituents',\n",
       " 'Jet_nElectrons',\n",
       " 'Jet_nMuons',\n",
       " 'Jet_puId',\n",
       " 'LHE_HT',\n",
       " 'LHE_HTIncoming',\n",
       " 'LHE_Vpt',\n",
       " 'LHE_AlphaS',\n",
       " 'LHE_Njets',\n",
       " 'LHE_Nb',\n",
       " 'LHE_Nc',\n",
       " 'LHE_Nuds',\n",
       " 'LHE_Nglu',\n",
       " 'LHE_NpNLO',\n",
       " 'LHE_NpLO',\n",
       " 'nLHEPart',\n",
       " 'LHEPart_pt',\n",
       " 'LHEPart_eta',\n",
       " 'LHEPart_phi',\n",
       " 'LHEPart_mass',\n",
       " 'LHEPart_incomingpz',\n",
       " 'LHEPart_pdgId',\n",
       " 'LHEPart_status',\n",
       " 'LHEPart_spin',\n",
       " 'GenMET_phi',\n",
       " 'GenMET_pt',\n",
       " 'MET_MetUnclustEnUpDeltaX',\n",
       " 'MET_MetUnclustEnUpDeltaY',\n",
       " 'MET_covXX',\n",
       " 'MET_covXY',\n",
       " 'MET_covYY',\n",
       " 'MET_phi',\n",
       " 'MET_pt',\n",
       " 'MET_significance',\n",
       " 'MET_sumEt',\n",
       " 'MET_sumPtUnclustered',\n",
       " 'nMuon',\n",
       " 'Muon_dxy',\n",
       " 'Muon_dxyErr',\n",
       " 'Muon_dxybs',\n",
       " 'Muon_dz',\n",
       " 'Muon_dzErr',\n",
       " 'Muon_eta',\n",
       " 'Muon_ip3d',\n",
       " 'Muon_jetPtRelv2',\n",
       " 'Muon_jetRelIso',\n",
       " 'Muon_mass',\n",
       " 'Muon_miniPFRelIso_all',\n",
       " 'Muon_miniPFRelIso_chg',\n",
       " 'Muon_pfRelIso03_all',\n",
       " 'Muon_pfRelIso03_chg',\n",
       " 'Muon_pfRelIso04_all',\n",
       " 'Muon_phi',\n",
       " 'Muon_pt',\n",
       " 'Muon_ptErr',\n",
       " 'Muon_segmentComp',\n",
       " 'Muon_sip3d',\n",
       " 'Muon_softMva',\n",
       " 'Muon_tkRelIso',\n",
       " 'Muon_tunepRelPt',\n",
       " 'Muon_mvaLowPt',\n",
       " 'Muon_mvaTTH',\n",
       " 'Muon_charge',\n",
       " 'Muon_jetIdx',\n",
       " 'Muon_nStations',\n",
       " 'Muon_nTrackerLayers',\n",
       " 'Muon_pdgId',\n",
       " 'Muon_tightCharge',\n",
       " 'Muon_fsrPhotonIdx',\n",
       " 'Muon_highPtId',\n",
       " 'Muon_highPurity',\n",
       " 'Muon_inTimeMuon',\n",
       " 'Muon_isGlobal',\n",
       " 'Muon_isPFcand',\n",
       " 'Muon_isTracker',\n",
       " 'Muon_looseId',\n",
       " 'Muon_mediumId',\n",
       " 'Muon_mediumPromptId',\n",
       " 'Muon_miniIsoId',\n",
       " 'Muon_multiIsoId',\n",
       " 'Muon_mvaId',\n",
       " 'Muon_pfIsoId',\n",
       " 'Muon_softId',\n",
       " 'Muon_softMvaId',\n",
       " 'Muon_tightId',\n",
       " 'Muon_tkIsoId',\n",
       " 'Muon_triggerIdLoose',\n",
       " 'nPhoton',\n",
       " 'Photon_eCorr',\n",
       " 'Photon_energyErr',\n",
       " 'Photon_eta',\n",
       " 'Photon_hoe',\n",
       " 'Photon_mass',\n",
       " 'Photon_mvaID',\n",
       " 'Photon_mvaID_Fall17V1p1',\n",
       " 'Photon_pfRelIso03_all',\n",
       " 'Photon_pfRelIso03_chg',\n",
       " 'Photon_phi',\n",
       " 'Photon_pt',\n",
       " 'Photon_r9',\n",
       " 'Photon_sieie',\n",
       " 'Photon_charge',\n",
       " 'Photon_cutBased',\n",
       " 'Photon_cutBased_Fall17V1Bitmap',\n",
       " 'Photon_electronIdx',\n",
       " 'Photon_jetIdx',\n",
       " 'Photon_pdgId',\n",
       " 'Photon_vidNestedWPBitmap',\n",
       " 'Photon_electronVeto',\n",
       " 'Photon_isScEtaEB',\n",
       " 'Photon_isScEtaEE',\n",
       " 'Photon_mvaID_WP80',\n",
       " 'Photon_mvaID_WP90',\n",
       " 'Photon_pixelSeed',\n",
       " 'Photon_seedGain',\n",
       " 'Pileup_nTrueInt',\n",
       " 'Pileup_pudensity',\n",
       " 'Pileup_gpudensity',\n",
       " 'Pileup_nPU',\n",
       " 'Pileup_sumEOOT',\n",
       " 'Pileup_sumLOOT',\n",
       " 'PuppiMET_phi',\n",
       " 'PuppiMET_phiJERUp',\n",
       " 'PuppiMET_phiJESUp',\n",
       " 'PuppiMET_pt',\n",
       " 'PuppiMET_ptJERUp',\n",
       " 'PuppiMET_ptJESUp',\n",
       " 'PuppiMET_sumEt',\n",
       " 'RawMET_phi',\n",
       " 'RawMET_pt',\n",
       " 'RawMET_sumEt',\n",
       " 'RawPuppiMET_phi',\n",
       " 'RawPuppiMET_pt',\n",
       " 'RawPuppiMET_sumEt',\n",
       " 'fixedGridRhoFastjetAll',\n",
       " 'fixedGridRhoFastjetCentral',\n",
       " 'fixedGridRhoFastjetCentralCalo',\n",
       " 'fixedGridRhoFastjetCentralChargedPileUp',\n",
       " 'fixedGridRhoFastjetCentralNeutral',\n",
       " 'nGenDressedLepton',\n",
       " 'GenDressedLepton_eta',\n",
       " 'GenDressedLepton_mass',\n",
       " 'GenDressedLepton_phi',\n",
       " 'GenDressedLepton_pt',\n",
       " 'GenDressedLepton_pdgId',\n",
       " 'GenDressedLepton_hasTauAnc',\n",
       " 'nGenIsolatedPhoton',\n",
       " 'GenIsolatedPhoton_eta',\n",
       " 'GenIsolatedPhoton_mass',\n",
       " 'GenIsolatedPhoton_phi',\n",
       " 'GenIsolatedPhoton_pt',\n",
       " 'nSoftActivityJet',\n",
       " 'SoftActivityJet_eta',\n",
       " 'SoftActivityJet_phi',\n",
       " 'SoftActivityJet_pt',\n",
       " 'SoftActivityJetHT',\n",
       " 'SoftActivityJetHT10',\n",
       " 'SoftActivityJetHT2',\n",
       " 'SoftActivityJetHT5',\n",
       " 'SoftActivityJetNjets10',\n",
       " 'SoftActivityJetNjets2',\n",
       " 'SoftActivityJetNjets5',\n",
       " 'nSubJet',\n",
       " 'SubJet_btagCMVA',\n",
       " 'SubJet_btagCSVV2',\n",
       " 'SubJet_btagDeepB',\n",
       " 'SubJet_eta',\n",
       " 'SubJet_mass',\n",
       " 'SubJet_n2b1',\n",
       " 'SubJet_n3b1',\n",
       " 'SubJet_phi',\n",
       " 'SubJet_pt',\n",
       " 'SubJet_rawFactor',\n",
       " 'SubJet_tau1',\n",
       " 'SubJet_tau2',\n",
       " 'SubJet_tau3',\n",
       " 'SubJet_tau4',\n",
       " 'nTau',\n",
       " 'Tau_chargedIso',\n",
       " 'Tau_dxy',\n",
       " 'Tau_dz',\n",
       " 'Tau_eta',\n",
       " 'Tau_leadTkDeltaEta',\n",
       " 'Tau_leadTkDeltaPhi',\n",
       " 'Tau_leadTkPtOverTauPt',\n",
       " 'Tau_mass',\n",
       " 'Tau_neutralIso',\n",
       " 'Tau_phi',\n",
       " 'Tau_photonsOutsideSignalCone',\n",
       " 'Tau_pt',\n",
       " 'Tau_puCorr',\n",
       " 'Tau_rawAntiEle',\n",
       " 'Tau_rawAntiEle2018',\n",
       " 'Tau_rawDeepTau2017v2p1VSe',\n",
       " 'Tau_rawDeepTau2017v2p1VSjet',\n",
       " 'Tau_rawDeepTau2017v2p1VSmu',\n",
       " 'Tau_rawIso',\n",
       " 'Tau_rawIsodR03',\n",
       " 'Tau_rawMVAnewDM2017v2',\n",
       " 'Tau_rawMVAoldDM',\n",
       " 'Tau_rawMVAoldDM2017v1',\n",
       " 'Tau_rawMVAoldDM2017v2',\n",
       " 'Tau_rawMVAoldDMdR032017v2',\n",
       " 'Tau_charge',\n",
       " 'Tau_decayMode',\n",
       " 'Tau_jetIdx',\n",
       " 'Tau_rawAntiEleCat',\n",
       " 'Tau_rawAntiEleCat2018',\n",
       " 'Tau_idAntiEle',\n",
       " 'Tau_idAntiEle2018',\n",
       " 'Tau_idAntiMu',\n",
       " 'Tau_idDecayMode',\n",
       " 'Tau_idDecayModeNewDMs',\n",
       " 'Tau_idDeepTau2017v2p1VSe',\n",
       " 'Tau_idDeepTau2017v2p1VSjet',\n",
       " 'Tau_idDeepTau2017v2p1VSmu',\n",
       " 'Tau_idMVAnewDM2017v2',\n",
       " 'Tau_idMVAoldDM',\n",
       " 'Tau_idMVAoldDM2017v1',\n",
       " 'Tau_idMVAoldDM2017v2',\n",
       " 'Tau_idMVAoldDMdR032017v2',\n",
       " 'TkMET_phi',\n",
       " 'TkMET_pt',\n",
       " 'TkMET_sumEt',\n",
       " 'nTrigObj',\n",
       " 'TrigObj_pt',\n",
       " 'TrigObj_eta',\n",
       " 'TrigObj_phi',\n",
       " 'TrigObj_l1pt',\n",
       " 'TrigObj_l1pt_2',\n",
       " 'TrigObj_l2pt',\n",
       " 'TrigObj_id',\n",
       " 'TrigObj_l1iso',\n",
       " 'TrigObj_l1charge',\n",
       " 'TrigObj_filterBits',\n",
       " 'genTtbarId',\n",
       " 'nOtherPV',\n",
       " 'OtherPV_z',\n",
       " 'PV_ndof',\n",
       " 'PV_x',\n",
       " 'PV_y',\n",
       " 'PV_z',\n",
       " 'PV_chi2',\n",
       " 'PV_score',\n",
       " 'PV_npvs',\n",
       " 'PV_npvsGood',\n",
       " 'nSV',\n",
       " 'SV_dlen',\n",
       " 'SV_dlenSig',\n",
       " 'SV_dxy',\n",
       " 'SV_dxySig',\n",
       " 'SV_pAngle',\n",
       " 'Electron_genPartIdx',\n",
       " 'Electron_genPartFlav',\n",
       " 'FatJet_genJetAK8Idx',\n",
       " 'FatJet_hadronFlavour',\n",
       " 'FatJet_nBHadrons',\n",
       " 'FatJet_nCHadrons',\n",
       " 'GenJetAK8_partonFlavour',\n",
       " 'GenJetAK8_hadronFlavour',\n",
       " 'GenJet_partonFlavour',\n",
       " 'GenJet_hadronFlavour',\n",
       " 'Jet_genJetIdx',\n",
       " 'Jet_hadronFlavour',\n",
       " 'Jet_partonFlavour',\n",
       " 'Muon_genPartIdx',\n",
       " 'Muon_genPartFlav',\n",
       " 'Photon_genPartIdx',\n",
       " 'Photon_genPartFlav',\n",
       " 'MET_fiducialGenPhi',\n",
       " 'MET_fiducialGenPt',\n",
       " 'Electron_cleanmask',\n",
       " 'Jet_cleanmask',\n",
       " 'Muon_cleanmask',\n",
       " 'Photon_cleanmask',\n",
       " 'Tau_cleanmask',\n",
       " 'SubJet_nBHadrons',\n",
       " 'SubJet_nCHadrons',\n",
       " 'SV_chi2',\n",
       " 'SV_eta',\n",
       " 'SV_mass',\n",
       " 'SV_ndof',\n",
       " 'SV_phi',\n",
       " 'SV_pt',\n",
       " 'SV_x',\n",
       " 'SV_y',\n",
       " 'SV_z',\n",
       " 'Tau_genPartIdx',\n",
       " 'Tau_genPartFlav',\n",
       " 'L1_AlwaysTrue',\n",
       " 'L1_BPTX_AND_Ref1_VME',\n",
       " 'L1_BPTX_AND_Ref3_VME',\n",
       " 'L1_BPTX_AND_Ref4_VME',\n",
       " 'L1_BPTX_BeamGas_B1_VME',\n",
       " 'L1_BPTX_BeamGas_B2_VME',\n",
       " 'L1_BPTX_BeamGas_Ref1_VME',\n",
       " 'L1_BPTX_BeamGas_Ref2_VME',\n",
       " 'L1_BPTX_NotOR_VME',\n",
       " 'L1_BPTX_OR_Ref3_VME',\n",
       " 'L1_BPTX_OR_Ref4_VME',\n",
       " 'L1_BPTX_RefAND_VME',\n",
       " 'L1_BptxMinus',\n",
       " 'L1_BptxOR',\n",
       " 'L1_BptxPlus',\n",
       " 'L1_BptxXOR',\n",
       " 'L1_CDC_SingleMu_3_er1p2_TOP120_DPHI2p618_3p142',\n",
       " 'L1_DoubleEG8er2p5_HTT260er',\n",
       " 'L1_DoubleEG8er2p5_HTT280er',\n",
       " 'L1_DoubleEG8er2p5_HTT300er',\n",
       " 'L1_DoubleEG8er2p5_HTT320er',\n",
       " 'L1_DoubleEG8er2p5_HTT340er',\n",
       " 'L1_DoubleEG_15_10_er2p5',\n",
       " 'L1_DoubleEG_20_10_er2p5',\n",
       " 'L1_DoubleEG_22_10_er2p5',\n",
       " 'L1_DoubleEG_25_12_er2p5',\n",
       " 'L1_DoubleEG_25_14_er2p5',\n",
       " 'L1_DoubleEG_27_14_er2p5',\n",
       " 'L1_DoubleEG_LooseIso20_10_er2p5',\n",
       " 'L1_DoubleEG_LooseIso22_10_er2p5',\n",
       " 'L1_DoubleEG_LooseIso22_12_er2p5',\n",
       " 'L1_DoubleEG_LooseIso25_12_er2p5',\n",
       " 'L1_DoubleIsoTau32er2p1',\n",
       " 'L1_DoubleIsoTau34er2p1',\n",
       " 'L1_DoubleIsoTau36er2p1',\n",
       " 'L1_DoubleJet100er2p3_dEta_Max1p6',\n",
       " 'L1_DoubleJet100er2p5',\n",
       " 'L1_DoubleJet112er2p3_dEta_Max1p6',\n",
       " 'L1_DoubleJet120er2p5',\n",
       " 'L1_DoubleJet150er2p5',\n",
       " 'L1_DoubleJet30er2p5_Mass_Min150_dEta_Max1p5',\n",
       " 'L1_DoubleJet30er2p5_Mass_Min200_dEta_Max1p5',\n",
       " 'L1_DoubleJet30er2p5_Mass_Min250_dEta_Max1p5',\n",
       " 'L1_DoubleJet30er2p5_Mass_Min300_dEta_Max1p5',\n",
       " 'L1_DoubleJet30er2p5_Mass_Min330_dEta_Max1p5',\n",
       " 'L1_DoubleJet30er2p5_Mass_Min360_dEta_Max1p5',\n",
       " 'L1_DoubleJet35_Mass_Min450_IsoTau45_RmOvlp',\n",
       " 'L1_DoubleJet40er2p5',\n",
       " 'L1_DoubleJet_100_30_DoubleJet30_Mass_Min620',\n",
       " 'L1_DoubleJet_110_35_DoubleJet35_Mass_Min620',\n",
       " 'L1_DoubleJet_115_40_DoubleJet40_Mass_Min620',\n",
       " 'L1_DoubleJet_115_40_DoubleJet40_Mass_Min620_Jet60TT28',\n",
       " 'L1_DoubleJet_120_45_DoubleJet45_Mass_Min620',\n",
       " 'L1_DoubleJet_120_45_DoubleJet45_Mass_Min620_Jet60TT28',\n",
       " 'L1_DoubleJet_80_30_Mass_Min420_DoubleMu0_SQ',\n",
       " 'L1_DoubleJet_80_30_Mass_Min420_IsoTau40_RmOvlp',\n",
       " 'L1_DoubleJet_80_30_Mass_Min420_Mu8',\n",
       " 'L1_DoubleJet_90_30_DoubleJet30_Mass_Min620',\n",
       " 'L1_DoubleLooseIsoEG22er2p1',\n",
       " 'L1_DoubleLooseIsoEG24er2p1',\n",
       " 'L1_DoubleMu0',\n",
       " 'L1_DoubleMu0_Mass_Min1',\n",
       " 'L1_DoubleMu0_OQ',\n",
       " 'L1_DoubleMu0_SQ',\n",
       " 'L1_DoubleMu0_SQ_OS',\n",
       " 'L1_DoubleMu0_dR_Max1p6_Jet90er2p5_dR_Max0p8',\n",
       " 'L1_DoubleMu0er1p4_SQ_OS_dR_Max1p4',\n",
       " 'L1_DoubleMu0er1p5_SQ',\n",
       " 'L1_DoubleMu0er1p5_SQ_OS',\n",
       " 'L1_DoubleMu0er1p5_SQ_OS_dR_Max1p4',\n",
       " 'L1_DoubleMu0er1p5_SQ_dR_Max1p4',\n",
       " 'L1_DoubleMu0er2p0_SQ_OS_dR_Max1p4',\n",
       " 'L1_DoubleMu0er2p0_SQ_dR_Max1p4',\n",
       " 'L1_DoubleMu10_SQ',\n",
       " 'L1_DoubleMu18er2p1',\n",
       " 'L1_DoubleMu3_OS_DoubleEG7p5Upsilon',\n",
       " 'L1_DoubleMu3_SQ_ETMHF50_HTT60er',\n",
       " 'L1_DoubleMu3_SQ_ETMHF50_Jet60er2p5',\n",
       " 'L1_DoubleMu3_SQ_ETMHF50_Jet60er2p5_OR_DoubleJet40er2p5',\n",
       " 'L1_DoubleMu3_SQ_ETMHF60_Jet60er2p5',\n",
       " 'L1_DoubleMu3_SQ_HTT220er',\n",
       " 'L1_DoubleMu3_SQ_HTT240er',\n",
       " 'L1_DoubleMu3_SQ_HTT260er',\n",
       " 'L1_DoubleMu3_dR_Max1p6_Jet90er2p5_dR_Max0p8',\n",
       " 'L1_DoubleMu4_SQ_EG9er2p5',\n",
       " 'L1_DoubleMu4_SQ_OS',\n",
       " 'L1_DoubleMu4_SQ_OS_dR_Max1p2',\n",
       " 'L1_DoubleMu4p5_SQ_OS',\n",
       " 'L1_DoubleMu4p5_SQ_OS_dR_Max1p2',\n",
       " 'L1_DoubleMu4p5er2p0_SQ_OS',\n",
       " 'L1_DoubleMu4p5er2p0_SQ_OS_Mass7to18',\n",
       " 'L1_DoubleMu5Upsilon_OS_DoubleEG3',\n",
       " 'L1_DoubleMu5_SQ_EG9er2p5',\n",
       " 'L1_DoubleMu9_SQ',\n",
       " 'L1_DoubleMu_12_5',\n",
       " 'L1_DoubleMu_15_5_SQ',\n",
       " 'L1_DoubleMu_15_7',\n",
       " 'L1_DoubleMu_15_7_Mass_Min1',\n",
       " 'L1_DoubleMu_15_7_SQ',\n",
       " 'L1_DoubleTau70er2p1',\n",
       " 'L1_ETM120',\n",
       " 'L1_ETM150',\n",
       " 'L1_ETMHF100',\n",
       " 'L1_ETMHF100_HTT60er',\n",
       " 'L1_ETMHF110',\n",
       " 'L1_ETMHF110_HTT60er',\n",
       " 'L1_ETMHF110_HTT60er_NotSecondBunchInTrain',\n",
       " 'L1_ETMHF120',\n",
       " 'L1_ETMHF120_HTT60er',\n",
       " 'L1_ETMHF120_NotSecondBunchInTrain',\n",
       " 'L1_ETMHF130',\n",
       " 'L1_ETMHF130_HTT60er',\n",
       " 'L1_ETMHF140',\n",
       " 'L1_ETMHF150',\n",
       " 'L1_ETMHF90_HTT60er',\n",
       " 'L1_ETT1200',\n",
       " 'L1_ETT1600',\n",
       " 'L1_ETT2000',\n",
       " 'L1_FirstBunchAfterTrain',\n",
       " 'L1_FirstBunchBeforeTrain',\n",
       " 'L1_FirstBunchInTrain',\n",
       " 'L1_FirstCollisionInOrbit',\n",
       " 'L1_FirstCollisionInTrain',\n",
       " 'L1_HCAL_LaserMon_Trig',\n",
       " 'L1_HCAL_LaserMon_Veto',\n",
       " 'L1_HTT120er',\n",
       " 'L1_HTT160er',\n",
       " 'L1_HTT200er',\n",
       " 'L1_HTT255er',\n",
       " 'L1_HTT280er',\n",
       " 'L1_HTT280er_QuadJet_70_55_40_35_er2p4',\n",
       " 'L1_HTT320er',\n",
       " 'L1_HTT320er_QuadJet_70_55_40_40_er2p4',\n",
       " 'L1_HTT320er_QuadJet_80_60_er2p1_45_40_er2p3',\n",
       " 'L1_HTT320er_QuadJet_80_60_er2p1_50_45_er2p3',\n",
       " 'L1_HTT360er',\n",
       " 'L1_HTT400er',\n",
       " 'L1_HTT450er',\n",
       " 'L1_IsoEG32er2p5_Mt40',\n",
       " 'L1_IsoEG32er2p5_Mt44',\n",
       " 'L1_IsoEG32er2p5_Mt48',\n",
       " 'L1_IsoTau40er2p1_ETMHF100',\n",
       " 'L1_IsoTau40er2p1_ETMHF110',\n",
       " 'L1_IsoTau40er2p1_ETMHF120',\n",
       " 'L1_IsoTau40er2p1_ETMHF90',\n",
       " 'L1_IsolatedBunch',\n",
       " 'L1_LastBunchInTrain',\n",
       " 'L1_LastCollisionInTrain',\n",
       " 'L1_LooseIsoEG22er2p1_IsoTau26er2p1_dR_Min0p3',\n",
       " 'L1_LooseIsoEG22er2p1_Tau70er2p1_dR_Min0p3',\n",
       " 'L1_LooseIsoEG24er2p1_HTT100er',\n",
       " 'L1_LooseIsoEG24er2p1_IsoTau27er2p1_dR_Min0p3',\n",
       " 'L1_LooseIsoEG26er2p1_HTT100er',\n",
       " 'L1_LooseIsoEG26er2p1_Jet34er2p5_dR_Min0p3',\n",
       " 'L1_LooseIsoEG28er2p1_HTT100er',\n",
       " 'L1_LooseIsoEG28er2p1_Jet34er2p5_dR_Min0p3',\n",
       " 'L1_LooseIsoEG30er2p1_HTT100er',\n",
       " 'L1_LooseIsoEG30er2p1_Jet34er2p5_dR_Min0p3',\n",
       " 'L1_MinimumBiasHF0_AND_BptxAND',\n",
       " 'L1_Mu10er2p3_Jet32er2p3_dR_Max0p4_DoubleJet32er2p3_dEta_Max1p6',\n",
       " 'L1_Mu12er2p3_Jet40er2p1_dR_Max0p4_DoubleJet40er2p1_dEta_Max1p6',\n",
       " 'L1_Mu12er2p3_Jet40er2p3_dR_Max0p4_DoubleJet40er2p3_dEta_Max1p6',\n",
       " 'L1_Mu18er2p1_Tau24er2p1',\n",
       " 'L1_Mu18er2p1_Tau26er2p1',\n",
       " 'L1_Mu20_EG10er2p5',\n",
       " 'L1_Mu22er2p1_IsoTau32er2p1',\n",
       " 'L1_Mu22er2p1_IsoTau34er2p1',\n",
       " 'L1_Mu22er2p1_IsoTau36er2p1',\n",
       " 'L1_Mu22er2p1_IsoTau40er2p1',\n",
       " 'L1_Mu22er2p1_Tau70er2p1',\n",
       " 'L1_Mu3_Jet120er2p5_dR_Max0p4',\n",
       " 'L1_Mu3_Jet120er2p5_dR_Max0p8',\n",
       " 'L1_Mu3_Jet16er2p5_dR_Max0p4',\n",
       " 'L1_Mu3_Jet30er2p5',\n",
       " 'L1_Mu3_Jet35er2p5_dR_Max0p4',\n",
       " 'L1_Mu3_Jet60er2p5_dR_Max0p4',\n",
       " 'L1_Mu3_Jet80er2p5_dR_Max0p4',\n",
       " 'L1_Mu3er1p5_Jet100er2p5_ETMHF40',\n",
       " 'L1_Mu3er1p5_Jet100er2p5_ETMHF50',\n",
       " 'L1_Mu5_EG23er2p5',\n",
       " 'L1_Mu5_LooseIsoEG20er2p5',\n",
       " 'L1_Mu6_DoubleEG10er2p5',\n",
       " 'L1_Mu6_DoubleEG12er2p5',\n",
       " 'L1_Mu6_DoubleEG15er2p5',\n",
       " 'L1_Mu6_DoubleEG17er2p5',\n",
       " 'L1_Mu6_HTT240er',\n",
       " 'L1_Mu6_HTT250er',\n",
       " 'L1_Mu7_EG23er2p5',\n",
       " 'L1_Mu7_LooseIsoEG20er2p5',\n",
       " 'L1_Mu7_LooseIsoEG23er2p5',\n",
       " 'L1_NotBptxOR',\n",
       " 'L1_QuadJet36er2p5_IsoTau52er2p1',\n",
       " 'L1_QuadJet60er2p5',\n",
       " 'L1_QuadJet_95_75_65_20_DoubleJet_75_65_er2p5_Jet20_FWD3p0',\n",
       " 'L1_QuadMu0',\n",
       " 'L1_QuadMu0_OQ',\n",
       " 'L1_QuadMu0_SQ',\n",
       " 'L1_SecondBunchInTrain',\n",
       " 'L1_SecondLastBunchInTrain',\n",
       " 'L1_SingleEG10er2p5',\n",
       " 'L1_SingleEG15er2p5',\n",
       " 'L1_SingleEG26er2p5',\n",
       " 'L1_SingleEG34er2p5',\n",
       " 'L1_SingleEG36er2p5',\n",
       " 'L1_SingleEG38er2p5',\n",
       " 'L1_SingleEG40er2p5',\n",
       " 'L1_SingleEG42er2p5',\n",
       " 'L1_SingleEG45er2p5',\n",
       " 'L1_SingleEG50',\n",
       " 'L1_SingleEG60',\n",
       " 'L1_SingleEG8er2p5',\n",
       " 'L1_SingleIsoEG24er1p5',\n",
       " 'L1_SingleIsoEG24er2p1',\n",
       " 'L1_SingleIsoEG26er1p5',\n",
       " 'L1_SingleIsoEG26er2p1',\n",
       " 'L1_SingleIsoEG26er2p5',\n",
       " 'L1_SingleIsoEG28er1p5',\n",
       " 'L1_SingleIsoEG28er2p1',\n",
       " 'L1_SingleIsoEG28er2p5',\n",
       " 'L1_SingleIsoEG30er2p1',\n",
       " 'L1_SingleIsoEG30er2p5',\n",
       " 'L1_SingleIsoEG32er2p1',\n",
       " 'L1_SingleIsoEG32er2p5',\n",
       " 'L1_SingleIsoEG34er2p5',\n",
       " 'L1_SingleJet10erHE',\n",
       " 'L1_SingleJet120',\n",
       " 'L1_SingleJet120_FWD3p0',\n",
       " 'L1_SingleJet120er2p5',\n",
       " 'L1_SingleJet12erHE',\n",
       " 'L1_SingleJet140er2p5',\n",
       " 'L1_SingleJet140er2p5_ETMHF80',\n",
       " 'L1_SingleJet140er2p5_ETMHF90',\n",
       " 'L1_SingleJet160er2p5',\n",
       " 'L1_SingleJet180',\n",
       " 'L1_SingleJet180er2p5',\n",
       " 'L1_SingleJet200',\n",
       " 'L1_SingleJet20er2p5_NotBptxOR',\n",
       " 'L1_SingleJet20er2p5_NotBptxOR_3BX',\n",
       " 'L1_SingleJet35',\n",
       " 'L1_SingleJet35_FWD3p0',\n",
       " 'L1_SingleJet35er2p5',\n",
       " 'L1_SingleJet43er2p5_NotBptxOR_3BX',\n",
       " 'L1_SingleJet46er2p5_NotBptxOR_3BX',\n",
       " 'L1_SingleJet60',\n",
       " 'L1_SingleJet60_FWD3p0',\n",
       " 'L1_SingleJet60er2p5',\n",
       " 'L1_SingleJet8erHE',\n",
       " 'L1_SingleJet90',\n",
       " 'L1_SingleJet90_FWD3p0',\n",
       " 'L1_SingleJet90er2p5',\n",
       " 'L1_SingleLooseIsoEG28er1p5',\n",
       " 'L1_SingleLooseIsoEG30er1p5',\n",
       " 'L1_SingleMu0_BMTF',\n",
       " 'L1_SingleMu0_DQ',\n",
       " 'L1_SingleMu0_EMTF',\n",
       " 'L1_SingleMu0_OMTF',\n",
       " 'L1_SingleMu10er1p5',\n",
       " 'L1_SingleMu12_DQ_BMTF',\n",
       " 'L1_SingleMu12_DQ_EMTF',\n",
       " 'L1_SingleMu12_DQ_OMTF',\n",
       " 'L1_SingleMu12er1p5',\n",
       " 'L1_SingleMu14er1p5',\n",
       " 'L1_SingleMu15_DQ',\n",
       " 'L1_SingleMu16er1p5',\n",
       " 'L1_SingleMu18',\n",
       " 'L1_SingleMu18er1p5',\n",
       " 'L1_SingleMu20',\n",
       " 'L1_SingleMu22',\n",
       " 'L1_SingleMu22_BMTF',\n",
       " 'L1_SingleMu22_EMTF',\n",
       " 'L1_SingleMu22_OMTF',\n",
       " 'L1_SingleMu25',\n",
       " 'L1_SingleMu3',\n",
       " 'L1_SingleMu5',\n",
       " 'L1_SingleMu6er1p5',\n",
       " 'L1_SingleMu7',\n",
       " 'L1_SingleMu7_DQ',\n",
       " 'L1_SingleMu7er1p5',\n",
       " 'L1_SingleMu8er1p5',\n",
       " 'L1_SingleMu9er1p5',\n",
       " 'L1_SingleMuCosmics',\n",
       " 'L1_SingleMuCosmics_BMTF',\n",
       " 'L1_SingleMuCosmics_EMTF',\n",
       " 'L1_SingleMuCosmics_OMTF',\n",
       " 'L1_SingleMuOpen',\n",
       " 'L1_SingleMuOpen_NotBptxOR',\n",
       " 'L1_SingleMuOpen_er1p1_NotBptxOR_3BX',\n",
       " 'L1_SingleMuOpen_er1p4_NotBptxOR_3BX',\n",
       " 'L1_SingleTau120er2p1',\n",
       " 'L1_SingleTau130er2p1',\n",
       " 'L1_TOTEM_1',\n",
       " 'L1_TOTEM_2',\n",
       " 'L1_TOTEM_3',\n",
       " 'L1_TOTEM_4',\n",
       " 'L1_TripleEG16er2p5',\n",
       " 'L1_TripleEG_16_12_8_er2p5',\n",
       " 'L1_TripleEG_16_15_8_er2p5',\n",
       " 'L1_TripleEG_18_17_8_er2p5',\n",
       " 'L1_TripleEG_18_18_12_er2p5',\n",
       " 'L1_TripleJet_100_80_70_DoubleJet_80_70_er2p5',\n",
       " 'L1_TripleJet_105_85_75_DoubleJet_85_75_er2p5',\n",
       " 'L1_TripleJet_95_75_65_DoubleJet_75_65_er2p5',\n",
       " 'L1_TripleMu0',\n",
       " 'L1_TripleMu0_OQ',\n",
       " 'L1_TripleMu0_SQ',\n",
       " 'L1_TripleMu3',\n",
       " 'L1_TripleMu3_SQ',\n",
       " 'L1_TripleMu_5SQ_3SQ_0OQ',\n",
       " 'L1_TripleMu_5SQ_3SQ_0OQ_DoubleMu_5_3_SQ_OS_Mass_Max9',\n",
       " 'L1_TripleMu_5SQ_3SQ_0_DoubleMu_5_3_SQ_OS_Mass_Max9',\n",
       " 'L1_TripleMu_5_3_3',\n",
       " 'L1_TripleMu_5_3_3_SQ',\n",
       " 'L1_TripleMu_5_3p5_2p5',\n",
       " 'L1_TripleMu_5_3p5_2p5_DoubleMu_5_2p5_OS_Mass_5to17',\n",
       " 'L1_TripleMu_5_3p5_2p5_OQ_DoubleMu_5_2p5_OQ_OS_Mass_5to17',\n",
       " 'L1_TripleMu_5_4_2p5_DoubleMu_5_2p5_OS_Mass_5to17',\n",
       " 'L1_TripleMu_5_5_3',\n",
       " 'L1_UnpairedBunchBptxMinus',\n",
       " 'L1_UnpairedBunchBptxPlus',\n",
       " 'L1_ZeroBias',\n",
       " 'L1_ZeroBias_copy',\n",
       " 'Flag_HBHENoiseFilter',\n",
       " 'Flag_HBHENoiseIsoFilter',\n",
       " 'Flag_CSCTightHaloFilter',\n",
       " 'Flag_CSCTightHaloTrkMuUnvetoFilter',\n",
       " 'Flag_CSCTightHalo2015Filter',\n",
       " 'Flag_globalTightHalo2016Filter',\n",
       " 'Flag_globalSuperTightHalo2016Filter',\n",
       " 'Flag_HcalStripHaloFilter',\n",
       " 'Flag_hcalLaserEventFilter',\n",
       " 'Flag_EcalDeadCellTriggerPrimitiveFilter',\n",
       " 'Flag_EcalDeadCellBoundaryEnergyFilter',\n",
       " 'Flag_ecalBadCalibFilter',\n",
       " 'Flag_goodVertices',\n",
       " 'Flag_eeBadScFilter',\n",
       " 'Flag_ecalLaserCorrFilter',\n",
       " 'Flag_trkPOGFilters',\n",
       " 'Flag_chargedHadronTrackResolutionFilter',\n",
       " 'Flag_muonBadTrackFilter',\n",
       " 'Flag_BadChargedCandidateFilter',\n",
       " 'Flag_BadPFMuonFilter',\n",
       " 'Flag_BadChargedCandidateSummer16Filter',\n",
       " 'Flag_BadPFMuonSummer16Filter',\n",
       " 'Flag_trkPOG_manystripclus53X',\n",
       " 'Flag_trkPOG_toomanystripclus53X',\n",
       " 'Flag_trkPOG_logErrorTooManyClusters',\n",
       " 'Flag_METFilters',\n",
       " 'L1Reco_step',\n",
       " 'L1simulation_step',\n",
       " 'HLTriggerFirstPath',\n",
       " 'HLT_AK8PFJet360_TrimMass30',\n",
       " 'HLT_AK8PFJet380_TrimMass30',\n",
       " 'HLT_AK8PFJet400_TrimMass30',\n",
       " 'HLT_AK8PFJet420_TrimMass30',\n",
       " 'HLT_AK8PFHT750_TrimMass50',\n",
       " 'HLT_AK8PFHT800_TrimMass50',\n",
       " 'HLT_AK8PFHT850_TrimMass50',\n",
       " 'HLT_AK8PFHT900_TrimMass50',\n",
       " 'HLT_CaloJet500_NoJetID',\n",
       " 'HLT_CaloJet550_NoJetID',\n",
       " 'HLT_DoubleMu5_Upsilon_DoubleEle3_CaloIdL_TrackIdL',\n",
       " 'HLT_DoubleMu3_DoubleEle7p5_CaloIdL_TrackIdL_Upsilon',\n",
       " 'HLT_Trimuon5_3p5_2_Upsilon_Muon',\n",
       " 'HLT_TrimuonOpen_5_3p5_2_Upsilon_Muon',\n",
       " 'HLT_DoubleEle25_CaloIdL_MW',\n",
       " 'HLT_DoubleEle27_CaloIdL_MW',\n",
       " 'HLT_DoubleEle33_CaloIdL_MW',\n",
       " 'HLT_DoubleEle24_eta2p1_WPTight_Gsf',\n",
       " 'HLT_DoubleEle8_CaloIdM_TrackIdM_Mass8_DZ_PFHT350',\n",
       " 'HLT_DoubleEle8_CaloIdM_TrackIdM_Mass8_PFHT350',\n",
       " 'HLT_Ele27_Ele37_CaloIdL_MW',\n",
       " 'HLT_Mu27_Ele37_CaloIdL_MW',\n",
       " 'HLT_Mu37_Ele27_CaloIdL_MW',\n",
       " 'HLT_Mu37_TkMu27',\n",
       " 'HLT_DoubleMu4_3_Bs',\n",
       " 'HLT_DoubleMu4_3_Jpsi',\n",
       " 'HLT_DoubleMu4_JpsiTrk_Displaced',\n",
       " 'HLT_DoubleMu4_LowMassNonResonantTrk_Displaced',\n",
       " 'HLT_DoubleMu3_Trk_Tau3mu',\n",
       " 'HLT_DoubleMu3_TkMu_DsTau3Mu',\n",
       " 'HLT_DoubleMu4_PsiPrimeTrk_Displaced',\n",
       " 'HLT_DoubleMu4_Mass3p8_DZ_PFHT350',\n",
       " 'HLT_Mu3_PFJet40',\n",
       " 'HLT_Mu7p5_L2Mu2_Jpsi',\n",
       " 'HLT_Mu7p5_L2Mu2_Upsilon',\n",
       " 'HLT_Mu7p5_Track2_Jpsi',\n",
       " 'HLT_Mu7p5_Track3p5_Jpsi',\n",
       " 'HLT_Mu7p5_Track7_Jpsi',\n",
       " 'HLT_Mu7p5_Track2_Upsilon',\n",
       " 'HLT_Mu7p5_Track3p5_Upsilon',\n",
       " 'HLT_Mu7p5_Track7_Upsilon',\n",
       " 'HLT_Mu3_L1SingleMu5orSingleMu7',\n",
       " 'HLT_DoublePhoton33_CaloIdL',\n",
       " 'HLT_DoublePhoton70',\n",
       " 'HLT_DoublePhoton85',\n",
       " 'HLT_Ele20_WPTight_Gsf',\n",
       " 'HLT_Ele15_WPLoose_Gsf',\n",
       " 'HLT_Ele17_WPLoose_Gsf',\n",
       " 'HLT_Ele20_WPLoose_Gsf',\n",
       " 'HLT_Ele20_eta2p1_WPLoose_Gsf',\n",
       " 'HLT_DiEle27_WPTightCaloOnly_L1DoubleEG',\n",
       " 'HLT_Ele27_WPTight_Gsf',\n",
       " 'HLT_Ele28_WPTight_Gsf',\n",
       " 'HLT_Ele30_WPTight_Gsf',\n",
       " 'HLT_Ele32_WPTight_Gsf',\n",
       " 'HLT_Ele35_WPTight_Gsf',\n",
       " 'HLT_Ele35_WPTight_Gsf_L1EGMT',\n",
       " 'HLT_Ele38_WPTight_Gsf',\n",
       " 'HLT_Ele40_WPTight_Gsf',\n",
       " 'HLT_Ele32_WPTight_Gsf_L1DoubleEG',\n",
       " 'HLT_Ele24_eta2p1_WPTight_Gsf_LooseChargedIsoPFTauHPS30_eta2p1_CrossL1',\n",
       " 'HLT_Ele24_eta2p1_WPTight_Gsf_MediumChargedIsoPFTauHPS30_eta2p1_CrossL1',\n",
       " 'HLT_Ele24_eta2p1_WPTight_Gsf_TightChargedIsoPFTauHPS30_eta2p1_CrossL1',\n",
       " 'HLT_Ele24_eta2p1_WPTight_Gsf_LooseChargedIsoPFTauHPS30_eta2p1_TightID_CrossL1',\n",
       " 'HLT_Ele24_eta2p1_WPTight_Gsf_MediumChargedIsoPFTauHPS30_eta2p1_TightID_CrossL1',\n",
       " 'HLT_Ele24_eta2p1_WPTight_Gsf_TightChargedIsoPFTauHPS30_eta2p1_TightID_CrossL1',\n",
       " 'HLT_HT450_Beamspot',\n",
       " 'HLT_HT300_Beamspot',\n",
       " 'HLT_ZeroBias_Beamspot',\n",
       " 'HLT_IsoMu20_eta2p1_LooseChargedIsoPFTauHPS27_eta2p1_CrossL1',\n",
       " 'HLT_IsoMu20_eta2p1_MediumChargedIsoPFTauHPS27_eta2p1_CrossL1',\n",
       " 'HLT_IsoMu20_eta2p1_TightChargedIsoPFTauHPS27_eta2p1_CrossL1',\n",
       " 'HLT_IsoMu20_eta2p1_LooseChargedIsoPFTauHPS27_eta2p1_TightID_CrossL1',\n",
       " 'HLT_IsoMu20_eta2p1_MediumChargedIsoPFTauHPS27_eta2p1_TightID_CrossL1',\n",
       " 'HLT_IsoMu20_eta2p1_TightChargedIsoPFTauHPS27_eta2p1_TightID_CrossL1',\n",
       " 'HLT_IsoMu24_eta2p1_TightChargedIsoPFTauHPS35_Trk1_eta2p1_Reg_CrossL1',\n",
       " 'HLT_IsoMu24_eta2p1_MediumChargedIsoPFTauHPS35_Trk1_TightID_eta2p1_Reg_CrossL1',\n",
       " 'HLT_IsoMu24_eta2p1_TightChargedIsoPFTauHPS35_Trk1_TightID_eta2p1_Reg_CrossL1',\n",
       " 'HLT_IsoMu24_eta2p1_MediumChargedIsoPFTauHPS35_Trk1_eta2p1_Reg_CrossL1',\n",
       " 'HLT_IsoMu27_LooseChargedIsoPFTauHPS20_Trk1_eta2p1_SingleL1',\n",
       " 'HLT_IsoMu27_MediumChargedIsoPFTauHPS20_Trk1_eta2p1_SingleL1',\n",
       " 'HLT_IsoMu27_TightChargedIsoPFTauHPS20_Trk1_eta2p1_SingleL1',\n",
       " 'HLT_IsoMu20',\n",
       " 'HLT_IsoMu24',\n",
       " 'HLT_IsoMu24_eta2p1',\n",
       " 'HLT_IsoMu27',\n",
       " 'HLT_IsoMu30',\n",
       " 'HLT_UncorrectedJetE30_NoBPTX',\n",
       " 'HLT_UncorrectedJetE30_NoBPTX3BX',\n",
       " 'HLT_UncorrectedJetE60_NoBPTX3BX',\n",
       " 'HLT_UncorrectedJetE70_NoBPTX3BX',\n",
       " 'HLT_L1SingleMu18',\n",
       " 'HLT_L1SingleMu25',\n",
       " 'HLT_L2Mu10',\n",
       " 'HLT_L2Mu10_NoVertex_NoBPTX3BX',\n",
       " 'HLT_L2Mu10_NoVertex_NoBPTX',\n",
       " 'HLT_L2Mu45_NoVertex_3Sta_NoBPTX3BX',\n",
       " 'HLT_L2Mu40_NoVertex_3Sta_NoBPTX3BX',\n",
       " 'HLT_L2Mu50',\n",
       " 'HLT_L2Mu23NoVtx_2Cha',\n",
       " 'HLT_L2Mu23NoVtx_2Cha_CosmicSeed',\n",
       " 'HLT_DoubleL2Mu30NoVtx_2Cha_CosmicSeed_Eta2p4',\n",
       " 'HLT_DoubleL2Mu30NoVtx_2Cha_Eta2p4',\n",
       " 'HLT_DoubleL2Mu50',\n",
       " 'HLT_DoubleL2Mu23NoVtx_2Cha_CosmicSeed',\n",
       " 'HLT_DoubleL2Mu23NoVtx_2Cha_CosmicSeed_NoL2Matched',\n",
       " 'HLT_DoubleL2Mu25NoVtx_2Cha_CosmicSeed',\n",
       " 'HLT_DoubleL2Mu25NoVtx_2Cha_CosmicSeed_NoL2Matched',\n",
       " 'HLT_DoubleL2Mu25NoVtx_2Cha_CosmicSeed_Eta2p4',\n",
       " 'HLT_DoubleL2Mu23NoVtx_2Cha',\n",
       " 'HLT_DoubleL2Mu23NoVtx_2Cha_NoL2Matched',\n",
       " 'HLT_DoubleL2Mu25NoVtx_2Cha',\n",
       " 'HLT_DoubleL2Mu25NoVtx_2Cha_NoL2Matched',\n",
       " 'HLT_DoubleL2Mu25NoVtx_2Cha_Eta2p4',\n",
       " 'HLT_Mu17_TrkIsoVVL_Mu8_TrkIsoVVL',\n",
       " ...]"
      ]
     },
     "execution_count": 3,
     "metadata": {},
     "output_type": "execute_result"
    }
   ],
   "source": [
    "events.keys()\n",
    "#file.values()\n",
    "#file.show()"
   ]
  },
  {
   "cell_type": "markdown",
   "metadata": {},
   "source": [
    "**Question 1**: Which collections contain muons or muon candidates? (At any level: generated, reconstructed, trigger, etc.)"
   ]
  },
  {
   "cell_type": "markdown",
   "metadata": {},
   "source": [
    "Answer:\n",
    "    \n",
    "Muon, Trigobj, GenPart"
   ]
  },
  {
   "cell_type": "markdown",
   "metadata": {},
   "source": [
    "# Step2 Print and plot some muon objects \n",
    "We can print different objects such as transeverse momentum($p_T$ pt), pseudorapidity(eta $\\eta$) and azimuthal angle(phi $\\phi$) and apply cut on $p_T$, $\\eta$ and $\\phi$ using uproot.<br>\n",
    "First lets print pt eta phi of reconstructed muon "
   ]
  },
  {
   "cell_type": "code",
   "execution_count": 4,
   "metadata": {},
   "outputs": [],
   "source": [
    "muon_pt,muon_eta,muon_phi,nmuon,ngenpart=events.arrays([\"Muon_pt\", \"Muon_eta\", \"Muon_phi\", \"nMuon\", \"nGenPart\"],outputtype=tuple)"
   ]
  },
  {
   "cell_type": "code",
   "execution_count": 5,
   "metadata": {},
   "outputs": [
    {
     "name": "stdout",
     "output_type": "stream",
     "text": [
      "('muon_pt=', <JaggedArray [[] [] [] ... [] [3.500486135482788] []] at 0x7f6f7d1f8f50>, '\\n', 'muon_eta=', <JaggedArray [[] [] [] ... [] [-1.94140625] []] at 0x7f6f7d1f8bd0>, '\\n', 'muon_phi=', <JaggedArray [[] [] [] ... [] [-0.68408203125] []] at 0x7f6f7d1f8910>)\n"
     ]
    }
   ],
   "source": [
    "print('muon_pt=', muon_pt, '\\n',\n",
    "      'muon_eta=', muon_eta, '\\n',\n",
    "      'muon_phi=', muon_phi)"
   ]
  },
  {
   "cell_type": "markdown",
   "metadata": {},
   "source": [
    "Lets plot them using matplotlib"
   ]
  },
  {
   "cell_type": "code",
   "execution_count": 6,
   "metadata": {
    "scrolled": true
   },
   "outputs": [
    {
     "data": {
      "text/plain": [
       "Text(0,0.5,'Events')"
      ]
     },
     "execution_count": 6,
     "metadata": {},
     "output_type": "execute_result"
    },
    {
     "data": {
      "image/png": "[encoded data removed]",
      "text/plain": [
       "<Figure size 648x432 with 1 Axes>"
      ]
     },
     "metadata": {
      "needs_background": "light"
     },
     "output_type": "display_data"
    }
   ],
   "source": [
    "plt.figure(figsize=(9,6))\n",
    "plt.hist(muon_pt.flatten(), bins=150, range=[0,150], histtype='step',linewidth=2, color='blue', label='$p_T$ distribution of all Muons')\n",
    "plt.title('$p_T$ distribution of PAT Muon objects')\n",
    "plt.xlabel(r'Muon $p_T$ (GeV)')\n",
    "plt.ylabel('Events')"
   ]
  },
  {
   "cell_type": "code",
   "execution_count": 7,
   "metadata": {},
   "outputs": [
    {
     "data": {
      "text/plain": [
       "Text(0,0.5,'Events')"
      ]
     },
     "execution_count": 7,
     "metadata": {},
     "output_type": "execute_result"
    },
    {
     "data": {
      "image/png": "[encoded data removed]",
      "text/plain": [
       "<Figure size 648x432 with 1 Axes>"
      ]
     },
     "metadata": {
      "needs_background": "light"
     },
     "output_type": "display_data"
    }
   ],
   "source": [
    "plt.figure(figsize=(9,6))\n",
    "plt.hist(muon_eta.flatten(), bins=60, range=[-3, 3], histtype='step',linewidth=2, color='red', label='muon_$\\eta$')\n",
    "plt.title('$\\eta$ distribution of PAT Muon objects')\n",
    "plt.xlabel(r'Muon $\\eta$')\n",
    "plt.ylabel('Events')"
   ]
  },
  {
   "cell_type": "code",
   "execution_count": 8,
   "metadata": {},
   "outputs": [
    {
     "data": {
      "text/plain": [
       "Text(0,0.5,'Events')"
      ]
     },
     "execution_count": 8,
     "metadata": {},
     "output_type": "execute_result"
    },
    {
     "data": {
      "image/png": "[encoded data removed]",
      "text/plain": [
       "<Figure size 648x432 with 1 Axes>"
      ]
     },
     "metadata": {
      "needs_background": "light"
     },
     "output_type": "display_data"
    }
   ],
   "source": [
    "plt.figure(figsize=(9,6))\n",
    "plt.hist(muon_phi.flatten(), bins=70, range=[-3.5, 3.5], histtype='step',linewidth=2, color='green', label='muon_$\\phi$')\n",
    "plt.title('$\\phi$ distribution of PAT Muon objects')\n",
    "plt.xlabel(r'Muon $\\phi$')\n",
    "plt.ylabel('Events')"
   ]
  },
  {
   "cell_type": "markdown",
   "metadata": {},
   "source": [
    "Then lets apply criteria such as pt>20 GeV and |eta|<2.4."
   ]
  },
  {
   "cell_type": "code",
   "execution_count": 9,
   "metadata": {},
   "outputs": [
    {
     "data": {
      "text/plain": [
       "<JaggedArray [[] [] [] ... [] [False] []] at 0x7f6f7ce837d0>"
      ]
     },
     "execution_count": 9,
     "metadata": {},
     "output_type": "execute_result"
    }
   ],
   "source": [
    "masking=(muon_pt>20)&(abs(muon_eta)<2.4)\n",
    "masking"
   ]
  },
  {
   "cell_type": "markdown",
   "metadata": {},
   "source": [
    "As you can see above, by performing masking, a jagged array of bool values is created.\n",
    "Then using the sytax array[masking], we keep only the varible that is true in the masking array"
   ]
  },
  {
   "cell_type": "code",
   "execution_count": 10,
   "metadata": {},
   "outputs": [
    {
     "name": "stdout",
     "output_type": "stream",
     "text": [
      "('muon_pt=', <JaggedArray [[] [] [] ... [] [] []] at 0x7f6f7ce83ad0>, '\\n', 'muon_eta=', <JaggedArray [[] [] [] ... [] [] []] at 0x7f6f79e25f90>, '\\n', 'muon_phi=', <JaggedArray [[] [] [] ... [] [] []] at 0x7f6f79ddc210>)\n"
     ]
    }
   ],
   "source": [
    "print('muon_pt=', muon_pt[masking], '\\n',\n",
    "      'muon_eta=', muon_eta[masking], '\\n',\n",
    "      'muon_phi=', muon_phi[masking])"
   ]
  },
  {
   "cell_type": "markdown",
   "metadata": {},
   "source": [
    "Then lets plot pt of reconstructed muon and reconstructed muon with pt>20 GeV and |eta|<2.4, note that we can use flatten() to reduce the jagged 2 dimension array to 1 dimension."
   ]
  },
  {
   "cell_type": "code",
   "execution_count": 11,
   "metadata": {},
   "outputs": [],
   "source": [
    "muon_pt_masked=muon_pt[masking]\n",
    "muon_pt_flat=muon_pt.flatten()\n",
    "muon_pt_masked_flat=muon_pt_masked.flatten()"
   ]
  },
  {
   "cell_type": "code",
   "execution_count": 12,
   "metadata": {},
   "outputs": [
    {
     "data": {
      "text/plain": [
       "Text(0,0.5,'Events')"
      ]
     },
     "execution_count": 12,
     "metadata": {},
     "output_type": "execute_result"
    },
    {
     "data": {
      "image/png": "[encoded data removed]",
      "text/plain": [
       "<Figure size 648x432 with 1 Axes>"
      ]
     },
     "metadata": {
      "needs_background": "light"
     },
     "output_type": "display_data"
    }
   ],
   "source": [
    "plt.figure(figsize=(9,6))\n",
    "plt.hist(muon_pt_flat, bins=150, range=[0,150], histtype='step',linewidth=2, color='red', label='muon_$p_T$')\n",
    "plt.hist(muon_pt_masked_flat, bins=150, range=[0,150], histtype='step',linewidth=2, linestyle=':', color='blue', label='muon_$p_T$ with criteria')\n",
    "plt.legend()\n",
    "plt.xlabel(r'Muon $p_T$ (GeV)')\n",
    "plt.ylabel('Events')"
   ]
  },
  {
   "cell_type": "markdown",
   "metadata": {},
   "source": [
    "**Question 2**: Using the syntax above, plot the main kinematic observables for the following objects and selections (only the first few events):\n",
    "* all final-state muons in the GenPart collection\n",
    "* all final-state muons in the GenPart collection with pT > 20 GeV and |η| < 2.4\n",
    "* all final-state muons in the GenPart collection with pT > 20 GeV and |η| < 2.4, and not coming from a hadron or τ decay\n",
    "\n",
    "**Question 3**: Compare the numbers of reconstructed and generated muons and their pT spectra at different selection stages, by overlaying the distributions in the same frame.<br>\n",
    "Since you are running on a Drell–Yan sample, you would expect two muons per event. Explain why there are sometimes more than two muons in an event.<br>\n",
    "Look at the full distributions, without η and pT cuts. Can you explain the differences?<br>\n",
    "\n",
    "Hint (GenPart_statusFlags: gen status flags stored bitwise. Bits are: 0 : isPrompt, 1 : isDecayedLeptonHadron, 2 : isTauDecayProduct, 3 : isPromptTauDecayProduct, 4 : isDirectTauDecayProduct, 5 : isDirectPromptTauDecayProduct, 6 : isDirectHadronDecayProduct, 7 : isHardProcess, 8 : fromHardProcess, 9 : isHardProcessTauDecayProduct, 10 : isDirectHardProcessTauDecayProduct, 11 : fromHardProcessBeforeFSR, 12 : isFirstCopy, 13 : isLastCopy, 14 : isLastCopyBeforeFSR,\n",
    "\n",
    "GenPart_status\tParticle status. 1=stable)"
   ]
  },
  {
   "cell_type": "markdown",
   "metadata": {},
   "source": [
    "Answer:\n",
    "1. See below\n",
    "1. Other than the muons from the DY process, there are muons produced in the “underlying event” or in pileup vertices (mostly from hadron decays)\n",
    "1. In the higher pT region (20–60 GeV, muons from Z decays), there are more GEN\n",
    "muons than PAT muons, because the GenParticle collection includes muons\n",
    "outside the detector acceptance (|η| > 2.4), which are not reconstructed.\n",
    "1. In the very low-pT region (< 10 GeV) there are more reconstructed muons than\n",
    "generated ones. Fake muons and muons from light-hadron decays, which are\n",
    "generally low pT, are not included in the GenParticle collection "
   ]
  },
  {
   "cell_type": "code",
   "execution_count": 13,
   "metadata": {},
   "outputs": [
    {
     "data": {
      "image/png": "[encoded data removed]",
      "text/plain": [
       "<Figure size 648x432 with 1 Axes>"
      ]
     },
     "metadata": {
      "needs_background": "light"
     },
     "output_type": "display_data"
    }
   ],
   "source": [
    "genpart_status, genpart_statusflags, genpart_pdgid, genpart_pt, genpart_eta, genpart_phi=events.arrays([\"GenPart_status\", \"GenPart_statusFlags\", \"GenPart_pdgId\", \"GenPart_pt\", \"GenPart_eta\", \"GenPart_phi\"], outputtype=tuple)\n",
    "masking_one=(abs(genpart_pdgid)==13)& (genpart_status==1)\n",
    "masking_two=(abs(genpart_pdgid)==13)& (genpart_status==1)&(genpart_pt>20)&(abs(genpart_eta)<2.4)\n",
    "masking_three=(abs(genpart_pdgid)==13)& (genpart_status==1)&(genpart_pt>20)&(abs(genpart_eta)<2.4)&((genpart_statusflags%2)==1)\n",
    "plt.figure(figsize=(9,6))\n",
    "plt.hist(genpart_pt[masking_one].flatten(), bins=150, range=[0,150], histtype='step',linewidth=2, color='red', label='All final state Muons')\n",
    "plt.hist(genpart_pt[masking_two].flatten(), bins=150, range=[0,150], histtype='step',linewidth=2, color='blue', label='Final state Muons with $p_T$ > 20GeV and $|\\eta|$<2.4')\n",
    "plt.hist(genpart_pt[masking_three].flatten(), bins=150, range=[0,150], histtype='step',linewidth=2, color='brown', linestyle=('dashed'), label='Final state Muons with $p_T$ > 20GeV and $|\\eta|$<2.4\\nand not coming from hadron or $\\\\tau$ decay')\n",
    "plt.legend()\n",
    "plt.title('$p_T$ distribution of the Generated Muons')\n",
    "plt.xlabel(r'generated Muon $p_T$ (GeV)')\n",
    "plt.ylabel('Events')\n",
    "plt. yscale('log')"
   ]
  },
  {
   "cell_type": "markdown",
   "metadata": {},
   "source": [
    "Lets also compare the number of muons in each event between reconstructed one and generated one"
   ]
  },
  {
   "cell_type": "code",
   "execution_count": 14,
   "metadata": {},
   "outputs": [
    {
     "data": {
      "text/plain": [
       "Text(0,0.5,'Events')"
      ]
     },
     "execution_count": 14,
     "metadata": {},
     "output_type": "execute_result"
    },
    {
     "data": {
      "image/png": "[encoded data removed]",
      "text/plain": [
       "<Figure size 648x432 with 1 Axes>"
      ]
     },
     "metadata": {
      "needs_background": "light"
     },
     "output_type": "display_data"
    }
   ],
   "source": [
    "plt.figure(figsize=(9,6))\n",
    "plt.hist(nmuon.flatten(), bins=10, range=[0,10], histtype='step',linewidth=2, color='red', label='number of PAT muons')\n",
    "plt.hist(masking_one.sum().flatten(), bins=10, range=[0,10], histtype='step',linewidth=2, color='blue', label='number of GEN muons')\n",
    "plt.legend()\n",
    "plt.xlabel('number of muon')\n",
    "plt.ylabel('Events')"
   ]
  },
  {
   "cell_type": "code",
   "execution_count": 15,
   "metadata": {},
   "outputs": [
    {
     "data": {
      "text/plain": [
       "Text(0,0.5,'Events')"
      ]
     },
     "execution_count": 15,
     "metadata": {},
     "output_type": "execute_result"
    },
    {
     "data": {
      "image/png": "[encoded data removed]",
      "text/plain": [
       "<Figure size 648x432 with 1 Axes>"
      ]
     },
     "metadata": {
      "needs_background": "light"
     },
     "output_type": "display_data"
    }
   ],
   "source": [
    "plt.figure(figsize=(9,6))\n",
    "plt.hist(muon_pt.flatten(), bins=150, range=[0,150], histtype='step',linewidth=2, color='blue', label='recon_muon_$p_T$')\n",
    "plt.hist(genpart_pt[masking_one].flatten(), bins=150, range=[0,150], histtype='step',linewidth=2, color='red', label='gen_muon_$p_T$')\n",
    "plt.xlabel(r'Muon $p_T$ (GeV)')\n",
    "plt.ylabel('Events')"
   ]
  },
  {
   "cell_type": "markdown",
   "metadata": {},
   "source": [
    "# Step 3 Gen matching\n",
    "When working with simulated data, it is sometime useful to pair each reconstructed muon to its corresponding generated particle, e.g. for efficiency or resolution studies. In this part of the exercise we will learn possible ways to do this.<br>\n",
    "\n",
    "Gen matching information for muon is already stored in Muon_genPartIdx, which is matched on status=1 muon using particle flow algorithm. \n",
    "Lets print the Moun_genPartIdx. Note that -1 means cannot matched to generated particles."
   ]
  },
  {
   "cell_type": "code",
   "execution_count": 16,
   "metadata": {},
   "outputs": [
    {
     "data": {
      "text/plain": [
       "<JaggedArray [[] [] [] ... [] [-1] []] at 0x7f6f79c0b6d0>"
      ]
     },
     "execution_count": 16,
     "metadata": {},
     "output_type": "execute_result"
    }
   ],
   "source": [
    "muon_genpartidx=events.array(\"Muon_genPartIdx\")\n",
    "muon_genpartidx"
   ]
  },
  {
   "cell_type": "markdown",
   "metadata": {},
   "source": [
    "We can also do a matching ourselves using deltaR method, in deltaR method, we need to make sure the delta phi is between pi and -pi. Below defines a deltaR function\n",
    "&Delta;R = (&Delta;&eta;<sup>2</sup> + &Delta;&phi;<sup>2</sup>)<sup>1/2</sup> <br>\n",
    "Note that &Delta;&phi; is between &pi; to -&pi;."
   ]
  },
  {
   "cell_type": "code",
   "execution_count": 17,
   "metadata": {},
   "outputs": [],
   "source": [
    "def deltaR(genetas, eta, genphis, phi):\n",
    "    return np.sqrt((genetas-eta)**2+((genphis-phi+pi)%(2*pi)-pi)**2)"
   ]
  },
  {
   "cell_type": "code",
   "execution_count": 18,
   "metadata": {},
   "outputs": [],
   "source": [
    "muon_genpartidx_deltar=[]\n",
    "\n",
    "for genetas, genphis, etas, phis in zip(genpart_eta, genpart_phi, muon_eta, muon_phi):\n",
    "  idx=[]\n",
    "  for eta, phi in zip(etas, phis):\n",
    "    deltar=deltaR(genetas, eta, genphis, phi)\n",
    "    if deltar.min()<0.3:\n",
    "        idx.append(deltar.argmin())\n",
    "    else:\n",
    "        idx.append(-1)\n",
    "  muon_genpartidx_deltar.append(idx)\n",
    "\n",
    "#print(muon_genpartidx_deltar)\n",
    "#for geneta, genphi, in zip"
   ]
  },
  {
   "cell_type": "markdown",
   "metadata": {},
   "source": [
    "**Question 5**: Are there reconstructed muons that do not match any generated muons? Why? "
   ]
  },
  {
   "cell_type": "markdown",
   "metadata": {},
   "source": [
    "Yes, mostly at low pT or high |η|, where most of the fake muons or muons from\n",
    "underlying event are. Such fakes do not have a corresponding generated muon"
   ]
  },
  {
   "cell_type": "markdown",
   "metadata": {},
   "source": [
    "**Question 6**: Are there cases in which the &Delta;R matching fails to find the correct generated particle? Why? "
   ]
  },
  {
   "cell_type": "markdown",
   "metadata": {},
   "source": [
    "There are few cases. A geometrical matching (closest generated muon in ΔR) can fail\n",
    "when there are multiple muons close to each other (e.g. a well reconstructed muon and\n",
    "a few duplicates around it, reconstructed using the wrong track)"
   ]
  },
  {
   "cell_type": "markdown",
   "metadata": {},
   "source": [
    "Lets take a look at those reconstracted muons that do not match any generated muons, and plot their pt and eta distribution"
   ]
  },
  {
   "cell_type": "code",
   "execution_count": 19,
   "metadata": {},
   "outputs": [],
   "source": [
    "masking_nogenmatch=(muon_genpartidx==-1)\n",
    "masking_genmatched=(muon_genpartidx!=-1)"
   ]
  },
  {
   "cell_type": "code",
   "execution_count": 20,
   "metadata": {},
   "outputs": [
    {
     "data": {
      "text/plain": [
       "Text(0,0.5,'Events')"
      ]
     },
     "execution_count": 20,
     "metadata": {},
     "output_type": "execute_result"
    },
    {
     "data": {
      "image/png": "[encoded data removed]",
      "text/plain": [
       "<Figure size 648x432 with 1 Axes>"
      ]
     },
     "metadata": {
      "needs_background": "light"
     },
     "output_type": "display_data"
    }
   ],
   "source": [
    "plt.figure(figsize=(9,6))\n",
    "plt.hist(muon_pt[masking_nogenmatch].flatten(), bins=150, range=[0,150], histtype='step',linewidth=2, color='blue', label='unmatched PAT muon $p_T$')\n",
    "plt.hist(muon_pt[masking_genmatched].flatten(), bins=150, range=[0,150], histtype='step',linewidth=2, color='red', label='matched PAT muon $p_T$')\n",
    "plt.legend()\n",
    "plt.xlabel(r'PAT Muon $p_T$ (GeV)')\n",
    "plt.ylabel('Events')"
   ]
  },
  {
   "cell_type": "code",
   "execution_count": 21,
   "metadata": {},
   "outputs": [
    {
     "data": {
      "text/plain": [
       "Text(0,0.5,'Events')"
      ]
     },
     "execution_count": 21,
     "metadata": {},
     "output_type": "execute_result"
    },
    {
     "data": {
      "image/png": "[encoded data removed]",
      "text/plain": [
       "<Figure size 648x432 with 1 Axes>"
      ]
     },
     "metadata": {
      "needs_background": "light"
     },
     "output_type": "display_data"
    }
   ],
   "source": [
    "plt.figure(figsize=(9,6))\n",
    "plt.hist(muon_eta[masking_nogenmatch].flatten(), bins=60, range=[-3,3], histtype='step',linewidth=2, color='blue', label='unmatched PAT muon $\\eta$')\n",
    "plt.hist(muon_eta[masking_genmatched].flatten(), bins=60, range=[-3,3], histtype='step',linewidth=2, color='red', label='matched PAT muon $\\eta$')\n",
    "plt.legend()\n",
    "plt.xlabel(r'PAT Muon $\\eta$')\n",
    "plt.ylabel('Events')"
   ]
  },
  {
   "cell_type": "markdown",
   "metadata": {},
   "source": [
    "# Step 4: Trigger matching"
   ]
  },
  {
   "cell_type": "markdown",
   "metadata": {},
   "source": [
    "A physics analysis often requires a matching between trigger and offline objects for a proper assessment of trigger efficiencies and related systematics. In order to reduce size per event. NanoAODThe no longer store matching information between muon objects and trigger objects. \n",
    "TrigObj_id in nanoAOD stored the ID of the HLT object. Using previous recipe, we can perform a simple $\\Delta R$ matching between HLT and reconstructed objects."
   ]
  },
  {
   "cell_type": "code",
   "execution_count": 22,
   "metadata": {},
   "outputs": [],
   "source": [
    "hlt_pt, hlt_eta, hlt_phi, hlt_id= events.arrays([\"TrigObj_pt\", \"TrigObj_eta\", \"TrigObj_phi\", \"TrigObj_id\"], outputtype=tuple)"
   ]
  },
  {
   "cell_type": "code",
   "execution_count": 23,
   "metadata": {},
   "outputs": [],
   "source": [
    "hltmuon_mask=abs(hlt_id)==13"
   ]
  },
  {
   "cell_type": "code",
   "execution_count": 24,
   "metadata": {},
   "outputs": [],
   "source": [
    "hltmuon_genpartidx_deltar=[]\n",
    "\n",
    "for genetas, genphis, etas, phis in zip(genpart_eta, genpart_phi, hlt_eta[hltmuon_mask], hlt_phi[hltmuon_mask]):\n",
    "  idx=[]\n",
    "  for eta, phi in zip(etas, phis):\n",
    "    deltar=deltaR(genetas, eta, genphis, phi)\n",
    "    if deltar.min()<0.1:\n",
    "        idx.append(deltar.argmin())\n",
    "    else:\n",
    "        idx.append(-1)\n",
    "  hltmuon_genpartidx_deltar.append(idx)\n"
   ]
  },
  {
   "cell_type": "code",
   "execution_count": 25,
   "metadata": {},
   "outputs": [],
   "source": [
    "hltmuon_genpartidx_deltar=ak.fromiter(hltmuon_genpartidx_deltar)\n",
    "hltmasking_nogenmatch=(hltmuon_genpartidx_deltar==-1)\n",
    "hltmasking_genmatched=(hltmuon_genpartidx_deltar!=-1)"
   ]
  },
  {
   "cell_type": "code",
   "execution_count": 26,
   "metadata": {},
   "outputs": [
    {
     "data": {
      "image/png": "[encoded data removed]",
      "text/plain": [
       "<Figure size 648x432 with 1 Axes>"
      ]
     },
     "metadata": {
      "needs_background": "light"
     },
     "output_type": "display_data"
    }
   ],
   "source": [
    "plt.figure(figsize=(9,6))\n",
    "plt.hist(hlt_pt[hltmuon_mask].flatten(), bins=150, range=[0,150], histtype='step', linewidth=2, color='green', label='HLT muon $p_T$')\n",
    "plt.hist(hlt_pt[hltmuon_mask][hltmasking_nogenmatch].flatten(), bins=150, range=[0,150], histtype='step',linewidth=2, color='blue', label='unmatched HLT muon $p_T$')\n",
    "plt.hist(hlt_pt[hltmuon_mask][hltmasking_genmatched].flatten(), bins=150, range=[0,150], histtype='step',linewidth=2, color='red', linestyle=(':'), label='matched HLT muon $p_T$')\n",
    "\n",
    "plt.legend()\n",
    "plt.xlabel(r'Muon $p_T$ (GeV)')\n",
    "plt.ylabel('Events')\n",
    "plt.yscale('log')"
   ]
  },
  {
   "cell_type": "code",
   "execution_count": 27,
   "metadata": {},
   "outputs": [
    {
     "data": {
      "text/plain": [
       "Text(0,0.5,'Events')"
      ]
     },
     "execution_count": 27,
     "metadata": {},
     "output_type": "execute_result"
    },
    {
     "data": {
      "image/png": "[encoded data removed]",
      "text/plain": [
       "<Figure size 648x432 with 1 Axes>"
      ]
     },
     "metadata": {
      "needs_background": "light"
     },
     "output_type": "display_data"
    }
   ],
   "source": [
    "plt.figure(figsize=(9,6))\n",
    "plt.hist(hlt_eta[hltmuon_mask][hltmasking_nogenmatch].flatten(), bins=60, range=[-3,3], histtype='step',linewidth=2, color='blue', label='unmatched HLT muon $\\eta$')\n",
    "plt.hist(hlt_eta[hltmuon_mask][hltmasking_genmatched].flatten(), bins=60, range=[-3,3], histtype='step',linewidth=2, color='red', label='matched HLT muon $\\eta$')\n",
    "plt.hist(hlt_eta[hltmuon_mask].flatten(), bins=60, range=[-3,3], histtype='step',linewidth=2, color='green', label='HLT muon $\\eta$')\n",
    "plt.legend()\n",
    "plt.xlabel(r'Muon $\\eta$')\n",
    "plt.ylabel('Events')"
   ]
  },
  {
   "cell_type": "code",
   "execution_count": null,
   "metadata": {},
   "outputs": [],
   "source": []
  },
  {
   "cell_type": "code",
   "execution_count": null,
   "metadata": {},
   "outputs": [],
   "source": []
  }
 ],
 "metadata": {
  "kernelspec": {
   "display_name": "LPC-Muon-HAT-2020",
   "language": "python",
   "name": "lpc-muon-hat-2020"
  },
  "language_info": {
   "codemirror_mode": {
    "name": "ipython",
    "version": 2
   },
   "file_extension": ".py",
   "mimetype": "text/x-python",
   "name": "python",
   "nbconvert_exporter": "python",
   "pygments_lexer": "ipython2",
   "version": "2.7.15+"
  }
 },
 "nbformat": 4,
 "nbformat_minor": 2
}
