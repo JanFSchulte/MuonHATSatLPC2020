{
 "cells": [
  {
   "cell_type": "markdown",
   "metadata": {},
   "source": [
    "The measurement of the muon transverse momentum of muons is sensitive to several detector conditions:\n",
    "   * the *alignment* of the tracker and of the muon chambers\n",
    "   * the *composition and distribution of the material* inside the tracking volume\n",
    "   * the knowledge of the *magnetic field* inside and outside the solenoid volume.\n",
    "<br>\n",
    "\n",
    "All these conditions affect differently the momentum measurement and can produce biases. In particular, the detector misalignment produces a relative bias that generally increases linearly with the momentum. For this reason it is extremely important to have an accurate knowledge of the tracker and muon spectrometer alignment, and a detailed mapping of the detector material and of the magnetic field. Residual biases can be corrected *a posteriori*, using calibration techniques that generally exploit data from very well-known processes, such as J/&psi;&rarr;&mu;&mu; or Z&rarr;&mu;&mu; decays."
   ]
  },
  {
   "cell_type": "code",
   "execution_count": 1,
   "metadata": {},
   "outputs": [
    {
     "name": "stdout",
     "output_type": "stream",
     "text": [
      "Welcome to JupyROOT 6.14/09\n"
     ]
    }
   ],
   "source": [
    "import uproot\n",
    "import matplotlib.pyplot as plt\n",
    "import numpy as np\n",
    "import awkward as ak\n",
    "import uproot_methods\n",
    "import ROOT"
   ]
  },
  {
   "cell_type": "code",
   "execution_count": 35,
   "metadata": {},
   "outputs": [
    {
     "data": {
      "text/plain": [
       "1"
      ]
     },
     "execution_count": 35,
     "metadata": {},
     "output_type": "execute_result"
    }
   ],
   "source": [
    "#ROOT.gInterpreter.ProcessLine('#include \"RoccoR.h\"')\n",
    "ROOT.gSystem.Load('RoccoR_cc.so')"
   ]
  },
  {
   "cell_type": "code",
   "execution_count": 36,
   "metadata": {},
   "outputs": [
    {
     "ename": "TypeError",
     "evalue": "none of the 3 overloaded methods succeeded. Full details:\n  RoccoR::RoccoR() =>\n    takes at most 0 arguments (1 given)\n  RoccoR::RoccoR(string dirname) =>\n    problem in C++; program state has been reset\n  RoccoR::RoccoR(const RoccoR&) =>\n    could not convert argument 1",
     "output_type": "error",
     "traceback": [
      "\u001b[0;31m---------------------------------------------------------------------------\u001b[0m",
      "\u001b[0;31mTypeError\u001b[0m                                 Traceback (most recent call last)",
      "\u001b[0;32m<ipython-input-36-956b81919957>\u001b[0m in \u001b[0;36m<module>\u001b[0;34m\u001b[0m\n\u001b[0;32m----> 1\u001b[0;31m \u001b[0ma\u001b[0m\u001b[0;34m=\u001b[0m\u001b[0mROOT\u001b[0m\u001b[0;34m.\u001b[0m\u001b[0mRoccoR\u001b[0m\u001b[0;34m(\u001b[0m\u001b[0;34m\"rcdata.2016.v3\"\u001b[0m\u001b[0;34m)\u001b[0m\u001b[0;34m\u001b[0m\u001b[0;34m\u001b[0m\u001b[0m\n\u001b[0m",
      "\u001b[0;31mTypeError\u001b[0m: none of the 3 overloaded methods succeeded. Full details:\n  RoccoR::RoccoR() =>\n    takes at most 0 arguments (1 given)\n  RoccoR::RoccoR(string dirname) =>\n    problem in C++; program state has been reset\n  RoccoR::RoccoR(const RoccoR&) =>\n    could not convert argument 1"
     ]
    },
    {
     "name": "stdout",
     "output_type": "stream",
     "text": [
      "[/usr/lib/system/libsystem_platform.dylib] _sigtramp (no debug info)\n",
      "[<unknown binary>] (no debug info)\n",
      "[/Users/tarantula/miniconda3/lib/libPyROOT.6.20.06.so] Cppyy::CallConstructor(long, long, void*) (no debug info)\n",
      "[/Users/tarantula/miniconda3/lib/libPyROOT.6.20.06.so] PyROOT::TConstructorExecutor::Execute(long, void*, PyROOT::TCallContext*) (no debug info)\n",
      "[/Users/tarantula/miniconda3/lib/libPyROOT.6.20.06.so] PyROOT::TMethodHolder::CallFast(void*, long, PyROOT::TCallContext*) (no debug info)\n",
      "[/Users/tarantula/miniconda3/lib/libPyROOT.6.20.06.so] PyROOT::TMethodHolder::CallSafe(void*, long, PyROOT::TCallContext*) (no debug info)\n",
      "[/Users/tarantula/miniconda3/lib/libPyROOT.6.20.06.so] PyROOT::TMethodHolder::Execute(void*, long, PyROOT::TCallContext*) (no debug info)\n",
      "[/Users/tarantula/miniconda3/lib/libPyROOT.6.20.06.so] PyROOT::TConstructorHolder::Call(PyROOT::ObjectProxy*&, _object*, _object*, PyROOT::TCallContext*) (no debug info)\n",
      "[/Users/tarantula/miniconda3/lib/libPyROOT.6.20.06.so] PyROOT::(anonymous namespace)::mp_call(PyROOT::MethodProxy*, _object*, _object*) (no debug info)\n",
      "[/Users/tarantula/miniconda3/bin/python] PyObject_Call (no debug info)\n",
      "[/Users/tarantula/miniconda3/bin/python] slot_tp_init (no debug info)\n",
      "[/Users/tarantula/miniconda3/bin/python] type_call (no debug info)\n",
      "[/Users/tarantula/miniconda3/bin/python] _PyObject_FastCallKeywords (no debug info)\n",
      "[/Users/tarantula/miniconda3/bin/python] call_function (no debug info)\n",
      "[/Users/tarantula/miniconda3/bin/python] _PyEval_EvalFrameDefault (no debug info)\n",
      "[/Users/tarantula/miniconda3/bin/python] _PyEval_EvalCodeWithName (no debug info)\n",
      "[/Users/tarantula/miniconda3/bin/python] builtin_exec (no debug info)\n",
      "[/Users/tarantula/miniconda3/bin/python] _PyMethodDef_RawFastCallKeywords (no debug info)\n",
      "[/Users/tarantula/miniconda3/bin/python] call_function (no debug info)\n",
      "[/Users/tarantula/miniconda3/bin/python] _PyEval_EvalFrameDefault (no debug info)\n",
      "[/Users/tarantula/miniconda3/bin/python] gen_send_ex (no debug info)\n",
      "[/Users/tarantula/miniconda3/bin/python] _PyEval_EvalFrameDefault (no debug info)\n",
      "[/Users/tarantula/miniconda3/bin/python] gen_send_ex (no debug info)\n",
      "[/Users/tarantula/miniconda3/bin/python] _PyEval_EvalFrameDefault (no debug info)\n",
      "[/Users/tarantula/miniconda3/bin/python] gen_send_ex (no debug info)\n",
      "[/Users/tarantula/miniconda3/bin/python] _PyMethodDef_RawFastCallKeywords (no debug info)\n",
      "[/Users/tarantula/miniconda3/bin/python] _PyMethodDescr_FastCallKeywords (no debug info)\n",
      "[/Users/tarantula/miniconda3/bin/python] call_function (no debug info)\n",
      "[/Users/tarantula/miniconda3/bin/python] _PyEval_EvalFrameDefault (no debug info)\n",
      "[/Users/tarantula/miniconda3/bin/python] _PyFunction_FastCallKeywords (no debug info)\n",
      "[/Users/tarantula/miniconda3/bin/python] call_function (no debug info)\n",
      "[/Users/tarantula/miniconda3/bin/python] _PyEval_EvalFrameDefault (no debug info)\n",
      "[/Users/tarantula/miniconda3/bin/python] _PyFunction_FastCallKeywords (no debug info)\n",
      "[/Users/tarantula/miniconda3/bin/python] call_function (no debug info)\n",
      "[/Users/tarantula/miniconda3/bin/python] _PyEval_EvalFrameDefault (no debug info)\n",
      "[/Users/tarantula/miniconda3/bin/python] _PyEval_EvalCodeWithName (no debug info)\n",
      "[/Users/tarantula/miniconda3/bin/python] _PyFunction_FastCallDict (no debug info)\n",
      "[/Users/tarantula/miniconda3/bin/python] method_call (no debug info)\n",
      "[/Users/tarantula/miniconda3/bin/python] PyObject_Call (no debug info)\n",
      "[/Users/tarantula/miniconda3/bin/python] _PyEval_EvalFrameDefault (no debug info)\n",
      "[/Users/tarantula/miniconda3/bin/python] _PyEval_EvalCodeWithName (no debug info)\n",
      "[/Users/tarantula/miniconda3/bin/python] _PyFunction_FastCallKeywords (no debug info)\n",
      "[/Users/tarantula/miniconda3/bin/python] call_function (no debug info)\n",
      "[/Users/tarantula/miniconda3/bin/python] _PyEval_EvalFrameDefault (no debug info)\n",
      "[/Users/tarantula/miniconda3/bin/python] gen_send_ex (no debug info)\n",
      "[/Users/tarantula/miniconda3/bin/python] builtin_next (no debug info)\n",
      "[/Users/tarantula/miniconda3/bin/python] _PyMethodDef_RawFastCallKeywords (no debug info)\n",
      "[/Users/tarantula/miniconda3/bin/python] call_function (no debug info)\n",
      "[/Users/tarantula/miniconda3/bin/python] _PyEval_EvalFrameDefault (no debug info)\n",
      "[/Users/tarantula/miniconda3/bin/python] _PyEval_EvalCodeWithName (no debug info)\n",
      "[/Users/tarantula/miniconda3/bin/python] _PyFunction_FastCallKeywords (no debug info)\n",
      "[/Users/tarantula/miniconda3/bin/python] call_function (no debug info)\n",
      "[/Users/tarantula/miniconda3/bin/python] _PyEval_EvalFrameDefault (no debug info)\n",
      "[/Users/tarantula/miniconda3/bin/python] gen_send_ex (no debug info)\n",
      "[/Users/tarantula/miniconda3/bin/python] builtin_next (no debug info)\n",
      "[/Users/tarantula/miniconda3/bin/python] _PyMethodDef_RawFastCallKeywords (no debug info)\n",
      "[/Users/tarantula/miniconda3/bin/python] call_function (no debug info)\n",
      "[/Users/tarantula/miniconda3/bin/python] _PyEval_EvalFrameDefault (no debug info)\n",
      "[/Users/tarantula/miniconda3/bin/python] _PyEval_EvalCodeWithName (no debug info)\n",
      "[/Users/tarantula/miniconda3/bin/python] _PyFunction_FastCallKeywords (no debug info)\n",
      "[/Users/tarantula/miniconda3/bin/python] call_function (no debug info)\n",
      "[/Users/tarantula/miniconda3/bin/python] _PyEval_EvalFrameDefault (no debug info)\n",
      "[/Users/tarantula/miniconda3/bin/python] gen_send_ex (no debug info)\n",
      "[/Users/tarantula/miniconda3/bin/python] builtin_next (no debug info)\n",
      "[/Users/tarantula/miniconda3/bin/python] _PyMethodDef_RawFastCallKeywords (no debug info)\n",
      "[/Users/tarantula/miniconda3/bin/python] call_function (no debug info)\n",
      "[/Users/tarantula/miniconda3/bin/python] _PyEval_EvalFrameDefault (no debug info)\n",
      "[/Users/tarantula/miniconda3/bin/python] _PyEval_EvalCodeWithName (no debug info)\n",
      "[/Users/tarantula/miniconda3/bin/python] _PyFunction_FastCallDict (no debug info)\n",
      "[/Users/tarantula/miniconda3/bin/python] method_call (no debug info)\n",
      "[/Users/tarantula/miniconda3/bin/python] PyObject_Call (no debug info)\n",
      "[/Users/tarantula/miniconda3/bin/python] _PyEval_EvalFrameDefault (no debug info)\n",
      "[/Users/tarantula/miniconda3/bin/python] gen_send_ex (no debug info)\n",
      "[/Users/tarantula/miniconda3/bin/python] _PyMethodDef_RawFastCallKeywords (no debug info)\n",
      "[/Users/tarantula/miniconda3/bin/python] _PyMethodDescr_FastCallKeywords (no debug info)\n",
      "[/Users/tarantula/miniconda3/bin/python] call_function (no debug info)\n",
      "[/Users/tarantula/miniconda3/bin/python] _PyEval_EvalFrameDefault (no debug info)\n",
      "[/Users/tarantula/miniconda3/bin/python] _PyFunction_FastCallKeywords (no debug info)\n",
      "[/Users/tarantula/miniconda3/bin/python] call_function (no debug info)\n",
      "[/Users/tarantula/miniconda3/bin/python] _PyEval_EvalFrameDefault (no debug info)\n",
      "[/Users/tarantula/miniconda3/bin/python] _PyEval_EvalCodeWithName (no debug info)\n",
      "[/Users/tarantula/miniconda3/bin/python] _PyFunction_FastCallDict (no debug info)\n",
      "[/Users/tarantula/miniconda3/bin/python] partial_call (no debug info)\n",
      "[/Users/tarantula/miniconda3/bin/python] _PyObject_FastCallKeywords (no debug info)\n",
      "[/Users/tarantula/miniconda3/bin/python] call_function (no debug info)\n",
      "[/Users/tarantula/miniconda3/bin/python] _PyEval_EvalFrameDefault (no debug info)\n",
      "[/Users/tarantula/miniconda3/bin/python] _PyFunction_FastCallKeywords (no debug info)\n",
      "[/Users/tarantula/miniconda3/bin/python] call_function (no debug info)\n",
      "[/Users/tarantula/miniconda3/bin/python] _PyEval_EvalFrameDefault (no debug info)\n",
      "[/Users/tarantula/miniconda3/bin/python] _PyEval_EvalCodeWithName (no debug info)\n",
      "[/Users/tarantula/miniconda3/bin/python] _PyFunction_FastCallKeywords (no debug info)\n",
      "[/Users/tarantula/miniconda3/bin/python] context_run (no debug info)\n",
      "[/Users/tarantula/miniconda3/bin/python] _PyMethodDef_RawFastCallDict (no debug info)\n",
      "[/Users/tarantula/miniconda3/bin/python] PyCFunction_Call (no debug info)\n",
      "[/Users/tarantula/miniconda3/bin/python] _PyEval_EvalFrameDefault (no debug info)\n",
      "[/Users/tarantula/miniconda3/bin/python] _PyFunction_FastCallKeywords (no debug info)\n",
      "[/Users/tarantula/miniconda3/bin/python] call_function (no debug info)\n",
      "[/Users/tarantula/miniconda3/bin/python] _PyEval_EvalFrameDefault (no debug info)\n",
      "[/Users/tarantula/miniconda3/bin/python] _PyFunction_FastCallKeywords (no debug info)\n",
      "[/Users/tarantula/miniconda3/bin/python] call_function (no debug info)\n",
      "[/Users/tarantula/miniconda3/bin/python] _PyEval_EvalFrameDefault (no debug info)\n",
      "[/Users/tarantula/miniconda3/bin/python] _PyFunction_FastCallKeywords (no debug info)\n",
      "[/Users/tarantula/miniconda3/bin/python] call_function (no debug info)\n",
      "[/Users/tarantula/miniconda3/bin/python] _PyEval_EvalFrameDefault (no debug info)\n",
      "[/Users/tarantula/miniconda3/bin/python] _PyFunction_FastCallKeywords (no debug info)\n",
      "[/Users/tarantula/miniconda3/bin/python] call_function (no debug info)\n",
      "[/Users/tarantula/miniconda3/bin/python] _PyEval_EvalFrameDefault (no debug info)\n",
      "[/Users/tarantula/miniconda3/bin/python] _PyFunction_FastCallKeywords (no debug info)\n",
      "[/Users/tarantula/miniconda3/bin/python] call_function (no debug info)\n",
      "[/Users/tarantula/miniconda3/bin/python] _PyEval_EvalFrameDefault (no debug info)\n",
      "[/Users/tarantula/miniconda3/bin/python] _PyEval_EvalCodeWithName (no debug info)\n",
      "[/Users/tarantula/miniconda3/bin/python] _PyFunction_FastCallKeywords (no debug info)\n",
      "[/Users/tarantula/miniconda3/bin/python] call_function (no debug info)\n",
      "[/Users/tarantula/miniconda3/bin/python] _PyEval_EvalFrameDefault (no debug info)\n",
      "[/Users/tarantula/miniconda3/bin/python] _PyEval_EvalCodeWithName (no debug info)\n",
      "[/Users/tarantula/miniconda3/bin/python] builtin_exec (no debug info)\n",
      "[/Users/tarantula/miniconda3/bin/python] _PyMethodDef_RawFastCallKeywords (no debug info)\n",
      "[/Users/tarantula/miniconda3/bin/python] call_function (no debug info)\n",
      "[/Users/tarantula/miniconda3/bin/python] _PyEval_EvalFrameDefault (no debug info)\n",
      "[/Users/tarantula/miniconda3/bin/python] _PyEval_EvalCodeWithName (no debug info)\n",
      "[/Users/tarantula/miniconda3/bin/python] _PyFunction_FastCallKeywords (no debug info)\n",
      "[/Users/tarantula/miniconda3/bin/python] call_function (no debug info)\n",
      "[/Users/tarantula/miniconda3/bin/python] _PyEval_EvalFrameDefault (no debug info)\n",
      "[/Users/tarantula/miniconda3/bin/python] _PyEval_EvalCodeWithName (no debug info)\n",
      "[/Users/tarantula/miniconda3/bin/python] _PyFunction_FastCallDict (no debug info)\n",
      "[/Users/tarantula/miniconda3/bin/python] pymain_run_module (no debug info)\n"
     ]
    },
    {
     "name": "stderr",
     "output_type": "stream",
     "text": [
      "\n",
      " *** Break *** segmentation violation\n"
     ]
    }
   ],
   "source": [
    "a=ROOT.RoccoR(\"rcdata.2016.v3\")"
   ]
  },
  {
   "cell_type": "code",
   "execution_count": 33,
   "metadata": {
    "scrolled": false
   },
   "outputs": [
    {
     "ename": "NameError",
     "evalue": "name 'a' is not defined",
     "output_type": "error",
     "traceback": [
      "\u001b[0;31m---------------------------------------------------------------------------\u001b[0m",
      "\u001b[0;31mNameError\u001b[0m                                 Traceback (most recent call last)",
      "\u001b[0;32m<ipython-input-33-04206b567d91>\u001b[0m in \u001b[0;36m<module>\u001b[0;34m\u001b[0m\n\u001b[0;32m----> 1\u001b[0;31m \u001b[0ma\u001b[0m\u001b[0;34m.\u001b[0m\u001b[0mROOT\u001b[0m\u001b[0;34m.\u001b[0m\u001b[0mRoccoR\u001b[0m\u001b[0;34m.\u001b[0m\u001b[0mkScaleFromGenMC\u001b[0m\u001b[0;34m(\u001b[0m\u001b[0;36m1\u001b[0m\u001b[0;34m,\u001b[0m\u001b[0;36m2\u001b[0m\u001b[0;34m,\u001b[0m\u001b[0;36m3\u001b[0m\u001b[0;34m,\u001b[0m\u001b[0;36m2\u001b[0m\u001b[0;34m,\u001b[0m\u001b[0;36m2\u001b[0m\u001b[0;34m,\u001b[0m\u001b[0;36m0.1\u001b[0m\u001b[0;34m,\u001b[0m\u001b[0;36m0.1\u001b[0m\u001b[0;34m,\u001b[0m\u001b[0;36m1\u001b[0m\u001b[0;34m,\u001b[0m\u001b[0;36m1\u001b[0m\u001b[0;34m)\u001b[0m\u001b[0;34m\u001b[0m\u001b[0;34m\u001b[0m\u001b[0m\n\u001b[0m",
      "\u001b[0;31mNameError\u001b[0m: name 'a' is not defined"
     ]
    }
   ],
   "source": [
    "a.ROOT.RoccoR.kScaleFromGenMC(1,2,3,2,2,0.1,0.1,1,1)"
   ]
  },
  {
   "cell_type": "code",
   "execution_count": 2,
   "metadata": {},
   "outputs": [],
   "source": [
    "events=uproot.open('/cms/store/user/hats/Muon/EE58CBFC-6597-6E4F-9EF3-317ED03E5542.root')['Events']\n",
    "#file=uproot.open('~/Downloads/FE9779A1-B793-2644-9A14-3E105B03B488.root')['Events']\n",
    "# !!!!!!!!! Muon_pfRelIso03_chg -> chargedhadroniso\n",
    "muon=events.arrays(['Muon_pt','Muon_eta','Muon_phi','Muon_mass',\n",
    "                  'Muon_charge','Muon_isGlobal','Muon_genPartIdx',\n",
    "                  'GenPart_pt', 'GenPart_eta', 'GenPart_phi', \n",
    "                  'GenPart_mass', 'Muon_pfRelIso03_chg'], namedecode='utf-8')"
   ]
  },
  {
   "cell_type": "code",
   "execution_count": 3,
   "metadata": {},
   "outputs": [],
   "source": [
    "gen=events.arrays(['GenPart_pt', 'GenPart_eta', 'GenPart_phi', 'GenPart_mass'], namedecode='utf-8')"
   ]
  },
  {
   "cell_type": "code",
   "execution_count": 4,
   "metadata": {},
   "outputs": [],
   "source": [
    "muons=ak.JaggedArray.zip(pt=muon['Muon_pt'], eta=muon['Muon_eta'], \n",
    "                         phi=muon['Muon_phi'], mass=muon['Muon_mass'], \n",
    "                         charge=muon['Muon_charge'], genidx=muon['Muon_genPartIdx'] )\n",
    "gens=ak.JaggedArray.zip(pt=muon['GenPart_pt'], eta=muon['GenPart_eta'],\n",
    "                              phi=muon['GenPart_phi'], mass=muon['GenPart_mass'],)"
   ]
  },
  {
   "cell_type": "markdown",
   "metadata": {},
   "source": [
    "# Step 1: Generated and reconstructed dimuon Z mass\n",
    "First, lets reconstruct dimuon z mass.\n",
    "reapplying previous code. Using the following criteria to select two well-defined and isolated muons. For instance, you can require that both muons pass:<br>\n",
    "\n",
    "* Muon_genPartIdx!=-1(each muon must have an associated generated particle)\n",
    "* Muon_isGlobal==1\n",
    "* Muon_pt>20.\n",
    "* abs(Muon_eta)<2.4\n",
    "* Muon_pfRelIso03_chg<0.15"
   ]
  },
  {
   "cell_type": "code",
   "execution_count": 5,
   "metadata": {},
   "outputs": [],
   "source": [
    "muon_mask=(muon['Muon_genPartIdx']!=-1)& (muon['Muon_isGlobal']==1)& (muon['Muon_pt']>20)& (abs(muon['Muon_eta'])<2.4)& (muon['Muon_pfRelIso03_chg']<0.15)"
   ]
  },
  {
   "cell_type": "code",
   "execution_count": 6,
   "metadata": {},
   "outputs": [],
   "source": [
    "muons_good=muons[muon_mask]"
   ]
  },
  {
   "cell_type": "code",
   "execution_count": 7,
   "metadata": {},
   "outputs": [
    {
     "data": {
      "text/plain": [
       "40882"
      ]
     },
     "execution_count": 7,
     "metadata": {},
     "output_type": "execute_result"
    }
   ],
   "source": [
    "(muon_mask.sum()==2).sum()"
   ]
  },
  {
   "cell_type": "code",
   "execution_count": 8,
   "metadata": {},
   "outputs": [
    {
     "data": {
      "text/plain": [
       "6"
      ]
     },
     "execution_count": 8,
     "metadata": {},
     "output_type": "execute_result"
    }
   ],
   "source": [
    "(muon_mask.sum()==3).sum()"
   ]
  },
  {
   "cell_type": "code",
   "execution_count": 9,
   "metadata": {},
   "outputs": [
    {
     "data": {
      "text/plain": [
       "38648"
      ]
     },
     "execution_count": 9,
     "metadata": {},
     "output_type": "execute_result"
    }
   ],
   "source": [
    "(muon_mask.sum()==1).sum()"
   ]
  },
  {
   "cell_type": "markdown",
   "metadata": {},
   "source": [
    "Note here if we write a for loop, then 42958 events are don't woth to loop over it. By using columnar method, they can be skipped"
   ]
  },
  {
   "cell_type": "code",
   "execution_count": 10,
   "metadata": {},
   "outputs": [
    {
     "data": {
      "text/plain": [
       "0"
      ]
     },
     "execution_count": 10,
     "metadata": {},
     "output_type": "execute_result"
    }
   ],
   "source": [
    "(muon_mask.sum()==4).sum()"
   ]
  },
  {
   "cell_type": "code",
   "execution_count": 11,
   "metadata": {},
   "outputs": [
    {
     "data": {
      "text/plain": [
       "0"
      ]
     },
     "execution_count": 11,
     "metadata": {},
     "output_type": "execute_result"
    }
   ],
   "source": [
    "(muon_mask.sum()==5).sum()"
   ]
  },
  {
   "cell_type": "code",
   "execution_count": 12,
   "metadata": {},
   "outputs": [
    {
     "data": {
      "text/plain": [
       "0"
      ]
     },
     "execution_count": 12,
     "metadata": {},
     "output_type": "execute_result"
    }
   ],
   "source": [
    "(muon_mask.sum()==6).sum()"
   ]
  },
  {
   "cell_type": "markdown",
   "metadata": {},
   "source": [
    "We only keep events with 2 good muons. There are 6 events with over 2 muons, we will ignore them for simplicity."
   ]
  },
  {
   "cell_type": "code",
   "execution_count": 13,
   "metadata": {},
   "outputs": [],
   "source": [
    "two_good_muons=muons_good[muon_mask.sum()==2]"
   ]
  },
  {
   "cell_type": "code",
   "execution_count": 14,
   "metadata": {},
   "outputs": [
    {
     "ename": "AttributeError",
     "evalue": "'JaggedArray' object has no attribute 'charge'",
     "output_type": "error",
     "traceback": [
      "\u001b[0;31m\u001b[0m",
      "\u001b[0;31mAttributeError\u001b[0mTraceback (most recent call last)",
      "\u001b[0;32m<ipython-input-14-50c90706ea26>\u001b[0m in \u001b[0;36m<module>\u001b[0;34m()\u001b[0m\n\u001b[0;32m----> 1\u001b[0;31m \u001b[0mtwo_good_muons\u001b[0m\u001b[0;34m.\u001b[0m\u001b[0mcharge\u001b[0m\u001b[0;34m\u001b[0m\u001b[0m\n\u001b[0m",
      "\u001b[0;31mAttributeError\u001b[0m: 'JaggedArray' object has no attribute 'charge'"
     ]
    }
   ],
   "source": [
    "two_good_muons.charge"
   ]
  },
  {
   "cell_type": "markdown",
   "metadata": {},
   "source": [
    "Lets make sure muons in eaach events have opposite charge"
   ]
  },
  {
   "cell_type": "code",
   "execution_count": 15,
   "metadata": {},
   "outputs": [
    {
     "ename": "AttributeError",
     "evalue": "'JaggedArray' object has no attribute 'charge'",
     "output_type": "error",
     "traceback": [
      "\u001b[0;31m\u001b[0m",
      "\u001b[0;31mAttributeError\u001b[0mTraceback (most recent call last)",
      "\u001b[0;32m<ipython-input-15-097fbf1106db>\u001b[0m in \u001b[0;36m<module>\u001b[0;34m()\u001b[0m\n\u001b[0;32m----> 1\u001b[0;31m \u001b[0mopposite_sign_muon_mask\u001b[0m\u001b[0;34m=\u001b[0m\u001b[0;34m(\u001b[0m\u001b[0mtwo_good_muons\u001b[0m\u001b[0;34m.\u001b[0m\u001b[0mcharge\u001b[0m\u001b[0;34m[\u001b[0m\u001b[0;34m:\u001b[0m\u001b[0;34m,\u001b[0m\u001b[0;36m0\u001b[0m\u001b[0;34m]\u001b[0m\u001b[0;34m!=\u001b[0m\u001b[0mtwo_good_muons\u001b[0m\u001b[0;34m.\u001b[0m\u001b[0mcharge\u001b[0m\u001b[0;34m[\u001b[0m\u001b[0;34m:\u001b[0m\u001b[0;34m,\u001b[0m\u001b[0;36m1\u001b[0m\u001b[0;34m]\u001b[0m\u001b[0;34m)\u001b[0m\u001b[0;34m\u001b[0m\u001b[0m\n\u001b[0m",
      "\u001b[0;31mAttributeError\u001b[0m: 'JaggedArray' object has no attribute 'charge'"
     ]
    }
   ],
   "source": [
    "opposite_sign_muon_mask=(two_good_muons.charge[:,0]!=two_good_muons.charge[:,1])"
   ]
  },
  {
   "cell_type": "code",
   "execution_count": 16,
   "metadata": {},
   "outputs": [
    {
     "ename": "NameError",
     "evalue": "name 'opposite_sign_muon_mask' is not defined",
     "output_type": "error",
     "traceback": [
      "\u001b[0;31m\u001b[0m",
      "\u001b[0;31mNameError\u001b[0mTraceback (most recent call last)",
      "\u001b[0;32m<ipython-input-16-7841fa2f578f>\u001b[0m in \u001b[0;36m<module>\u001b[0;34m()\u001b[0m\n\u001b[0;32m----> 1\u001b[0;31m \u001b[0mtwo_opposite_good_muons\u001b[0m\u001b[0;34m=\u001b[0m\u001b[0mtwo_good_muons\u001b[0m\u001b[0;34m[\u001b[0m\u001b[0mopposite_sign_muon_mask\u001b[0m\u001b[0;34m]\u001b[0m\u001b[0;34m\u001b[0m\u001b[0m\n\u001b[0m\u001b[1;32m      2\u001b[0m \u001b[0mopposite_sign_muon_mask\u001b[0m\u001b[0;34m.\u001b[0m\u001b[0msum\u001b[0m\u001b[0;34m(\u001b[0m\u001b[0;34m)\u001b[0m\u001b[0;34m\u001b[0m\u001b[0m\n",
      "\u001b[0;31mNameError\u001b[0m: name 'opposite_sign_muon_mask' is not defined"
     ]
    }
   ],
   "source": [
    "two_opposite_good_muons=two_good_muons[opposite_sign_muon_mask]\n",
    "opposite_sign_muon_mask.sum()"
   ]
  },
  {
   "cell_type": "code",
   "execution_count": 17,
   "metadata": {},
   "outputs": [
    {
     "ename": "NameError",
     "evalue": "name 'two_opposite_good_muons' is not defined",
     "output_type": "error",
     "traceback": [
      "\u001b[0;31m\u001b[0m",
      "\u001b[0;31mNameError\u001b[0mTraceback (most recent call last)",
      "\u001b[0;32m<ipython-input-17-12e5e3c9709f>\u001b[0m in \u001b[0;36m<module>\u001b[0;34m()\u001b[0m\n\u001b[0;32m----> 1\u001b[0;31m two_muon_p4=uproot_methods.TLorentzVectorArray.from_ptetaphim(two_opposite_good_muons.pt, two_opposite_good_muons.eta,\n\u001b[0m\u001b[1;32m      2\u001b[0m                                                               two_opposite_good_muons.phi, two_opposite_good_muons.mass)\n",
      "\u001b[0;31mNameError\u001b[0m: name 'two_opposite_good_muons' is not defined"
     ]
    }
   ],
   "source": [
    "two_muon_p4=uproot_methods.TLorentzVectorArray.from_ptetaphim(two_opposite_good_muons.pt, two_opposite_good_muons.eta,\n",
    "                                                              two_opposite_good_muons.phi, two_opposite_good_muons.mass)"
   ]
  },
  {
   "cell_type": "code",
   "execution_count": 18,
   "metadata": {},
   "outputs": [
    {
     "ename": "NameError",
     "evalue": "name 'two_muon_p4' is not defined",
     "output_type": "error",
     "traceback": [
      "\u001b[0;31m\u001b[0m",
      "\u001b[0;31mNameError\u001b[0mTraceback (most recent call last)",
      "\u001b[0;32m<ipython-input-18-49b18d390e8c>\u001b[0m in \u001b[0;36m<module>\u001b[0;34m()\u001b[0m\n\u001b[0;32m----> 1\u001b[0;31m \u001b[0mdimuon_p4\u001b[0m\u001b[0;34m=\u001b[0m\u001b[0mtwo_muon_p4\u001b[0m\u001b[0;34m[\u001b[0m\u001b[0;34m:\u001b[0m\u001b[0;34m,\u001b[0m\u001b[0;36m0\u001b[0m\u001b[0;34m]\u001b[0m\u001b[0;34m+\u001b[0m\u001b[0mtwo_muon_p4\u001b[0m\u001b[0;34m[\u001b[0m\u001b[0;34m:\u001b[0m\u001b[0;34m,\u001b[0m\u001b[0;36m1\u001b[0m\u001b[0;34m]\u001b[0m\u001b[0;34m\u001b[0m\u001b[0m\n\u001b[0m\u001b[1;32m      2\u001b[0m \u001b[0;31m#dimuon_p4.mass\u001b[0m\u001b[0;34m\u001b[0m\u001b[0;34m\u001b[0m\u001b[0m\n",
      "\u001b[0;31mNameError\u001b[0m: name 'two_muon_p4' is not defined"
     ]
    }
   ],
   "source": [
    "dimuon_p4=two_muon_p4[:,0]+two_muon_p4[:,1]\n",
    "#dimuon_p4.mass"
   ]
  },
  {
   "cell_type": "markdown",
   "metadata": {},
   "source": [
    "We can further restrict the selection by requiring the invariant mass is between 70 and 110 GeV"
   ]
  },
  {
   "cell_type": "code",
   "execution_count": 111,
   "metadata": {},
   "outputs": [],
   "source": [
    "dimuon_mass_mask=(dimuon_p4.mass>70)&(dimuon_p4.mass<110)"
   ]
  },
  {
   "cell_type": "code",
   "execution_count": 112,
   "metadata": {},
   "outputs": [
    {
     "data": {
      "text/plain": [
       "Text(0, 0.5, 'Events')"
      ]
     },
     "execution_count": 112,
     "metadata": {},
     "output_type": "execute_result"
    },
    {
     "data": {
      "image/png": "[encoded data removed]",
      "text/plain": [
       "<Figure size 648x432 with 1 Axes>"
      ]
     },
     "metadata": {
      "needs_background": "light"
     },
     "output_type": "display_data"
    }
   ],
   "source": [
    "plt.figure(figsize=(9,6))\n",
    "plt.hist(dimuon_p4.mass[dimuon_mass_mask], bins=100, range=[40,140], histtype='step',linewidth=2, color='blue', label='dimuon invariant mass')\n",
    "plt.title('Dimuon Invariant Mass distribution')\n",
    "plt.xlabel('dimuon invariant mass [GeV]')\n",
    "plt.ylabel('Events')"
   ]
  },
  {
   "cell_type": "markdown",
   "metadata": {},
   "source": [
    "Now lets get their corresponding genpart and gen dimuon mass."
   ]
  },
  {
   "cell_type": "code",
   "execution_count": 113,
   "metadata": {},
   "outputs": [],
   "source": [
    "idx=two_opposite_good_muons.genidx\n",
    "pf_gen_muons=((gens[muon_mask.sum()==2])[opposite_sign_muon_mask])[idx]"
   ]
  },
  {
   "cell_type": "code",
   "execution_count": 114,
   "metadata": {},
   "outputs": [],
   "source": [
    "two_gen_muon_p4=uproot_methods.TLorentzVectorArray.from_ptetaphim(pf_gen_muons.pt, pf_gen_muons.eta,\n",
    "                                                                  pf_gen_muons.phi, pf_gen_muons.mass)"
   ]
  },
  {
   "cell_type": "code",
   "execution_count": 115,
   "metadata": {},
   "outputs": [],
   "source": [
    "gen_dimuon_p4=two_gen_muon_p4[:,0]+two_gen_muon_p4[:,1]"
   ]
  },
  {
   "cell_type": "code",
   "execution_count": 116,
   "metadata": {},
   "outputs": [
    {
     "data": {
      "text/plain": [
       "Text(0, 0.5, 'Events')"
      ]
     },
     "execution_count": 116,
     "metadata": {},
     "output_type": "execute_result"
    },
    {
     "data": {
      "image/png": "[encoded data removed]",
      "text/plain": [
       "<Figure size 648x432 with 1 Axes>"
      ]
     },
     "metadata": {
      "needs_background": "light"
     },
     "output_type": "display_data"
    }
   ],
   "source": [
    "plt.figure(figsize=(9,6))\n",
    "n=plt.hist(gen_dimuon_p4.mass, bins=100, range=[40,140], histtype='step', linewidth=2, color='blue', label='gen dimuon_mass')\n",
    "#plt.legend()\n",
    "plt.title('Gen-level Dimuon Invariant Mass distribution')\n",
    "plt.xlabel('gen dimuon mass [GeV]')\n",
    "plt.ylabel('Events')"
   ]
  },
  {
   "cell_type": "code",
   "execution_count": 117,
   "metadata": {
    "scrolled": true
   },
   "outputs": [
    {
     "data": {
      "text/plain": [
       "(array([0.0000e+00, 0.0000e+00, 1.0000e+00, 0.0000e+00, 2.0000e+00,\n",
       "        2.0000e+00, 3.0000e+00, 2.0000e+00, 1.1000e+01, 7.0000e+00,\n",
       "        6.5000e+01, 7.1000e+01, 7.4000e+01, 6.8000e+01, 8.6000e+01,\n",
       "        7.8000e+01, 6.7000e+01, 7.8000e+01, 9.2000e+01, 8.2000e+01,\n",
       "        1.1300e+02, 9.0000e+01, 9.0000e+01, 1.0900e+02, 1.1400e+02,\n",
       "        1.1200e+02, 1.1200e+02, 1.3400e+02, 1.3600e+02, 1.5200e+02,\n",
       "        1.6100e+02, 1.6200e+02, 1.7900e+02, 1.9500e+02, 2.0300e+02,\n",
       "        1.9700e+02, 2.3200e+02, 2.8700e+02, 3.0900e+02, 3.4600e+02,\n",
       "        3.8800e+02, 4.7000e+02, 5.2500e+02, 6.2500e+02, 7.7700e+02,\n",
       "        9.7900e+02, 1.3410e+03, 1.9170e+03, 3.0120e+03, 5.4140e+03,\n",
       "        1.0078e+04, 1.1123e+04, 5.7290e+03, 2.8100e+03, 1.5800e+03,\n",
       "        9.8800e+02, 6.6400e+02, 4.5800e+02, 3.5200e+02, 2.8100e+02,\n",
       "        2.4700e+02, 2.1600e+02, 1.7900e+02, 1.2300e+02, 1.0800e+02,\n",
       "        1.0100e+02, 9.0000e+01, 8.1000e+01, 5.7000e+01, 6.4000e+01,\n",
       "        7.4000e+01, 4.7000e+01, 5.1000e+01, 5.1000e+01, 3.8000e+01,\n",
       "        3.2000e+01, 2.1000e+01, 2.8000e+01, 3.3000e+01, 2.8000e+01,\n",
       "        2.1000e+01, 1.9000e+01, 2.4000e+01, 3.0000e+01, 2.7000e+01,\n",
       "        2.2000e+01, 1.6000e+01, 1.4000e+01, 1.7000e+01, 2.2000e+01,\n",
       "        1.0000e+01, 1.6000e+01, 1.5000e+01, 1.7000e+01, 1.4000e+01,\n",
       "        1.0000e+01, 1.1000e+01, 1.3000e+01, 7.0000e+00, 1.3000e+01]),\n",
       " array([ 40.,  41.,  42.,  43.,  44.,  45.,  46.,  47.,  48.,  49.,  50.,\n",
       "         51.,  52.,  53.,  54.,  55.,  56.,  57.,  58.,  59.,  60.,  61.,\n",
       "         62.,  63.,  64.,  65.,  66.,  67.,  68.,  69.,  70.,  71.,  72.,\n",
       "         73.,  74.,  75.,  76.,  77.,  78.,  79.,  80.,  81.,  82.,  83.,\n",
       "         84.,  85.,  86.,  87.,  88.,  89.,  90.,  91.,  92.,  93.,  94.,\n",
       "         95.,  96.,  97.,  98.,  99., 100., 101., 102., 103., 104., 105.,\n",
       "        106., 107., 108., 109., 110., 111., 112., 113., 114., 115., 116.,\n",
       "        117., 118., 119., 120., 121., 122., 123., 124., 125., 126., 127.,\n",
       "        128., 129., 130., 131., 132., 133., 134., 135., 136., 137., 138.,\n",
       "        139., 140.], dtype=float32),\n",
       " <a list of 1 Patch objects>)"
      ]
     },
     "execution_count": 117,
     "metadata": {},
     "output_type": "execute_result"
    }
   ],
   "source": [
    "n"
   ]
  },
  {
   "cell_type": "markdown",
   "metadata": {},
   "source": [
    "Then, we fit both generated and reconstructed Z mass.<br>\n",
    "Keep in mind that the Z line shape is not Gaussian, so the Gaussian fit might not be perfect. We then fit them with more suitable functions for each case, e.g. a Breit-Wigner function for the generated mass and a Voigt function (i.e. a convolution of a Breit-Wigner with a Gaussian) for the reconstructed mass. You can easily do this from the ROOT e.g.:"
   ]
  },
  {
   "cell_type": "code",
   "execution_count": 196,
   "metadata": {},
   "outputs": [
    {
     "name": "stdout",
     "output_type": "stream",
     "text": [
      " FCN=196.207 FROM MIGRAD    STATUS=CONVERGED     191 CALLS         192 TOTAL\n",
      "                     EDM=5.6932e-12    STRATEGY= 1      ERROR MATRIX ACCURATE \n",
      "  EXT PARAMETER                                   STEP         FIRST   \n",
      "  NO.   NAME      VALUE            ERROR          SIZE      DERIVATIVE \n",
      "   1  p0           2.64944e+04   1.33543e+02   8.67889e-01   1.06976e-08\n",
      "   2  p1           9.10242e+01   8.68310e-03   5.90962e-05  -3.00672e-04\n",
      "   3  p2           2.79677e+00   2.24718e-02   1.45094e-04   4.06291e-05\n"
     ]
    },
    {
     "data": {
      "image/png": "[encoded data removed]",
      "text/plain": [
       "<IPython.core.display.Image object>"
      ]
     },
     "metadata": {},
     "output_type": "display_data"
    }
   ],
   "source": [
    "c6 = ROOT.TCanvas(\"gendimuonmass\",\"\",900,600)\n",
    "h_GenDiMuonM = ROOT.TH1F(\"h_GenDiMuonM\",\";m_{#mu^{+}#mu^{-}};\",80,70,110)\n",
    "for m in gen_dimuon_p4.mass:\n",
    "    h_GenDiMuonM.Fill(m)\n",
    "h_GenDiMuonM.Draw()\n",
    "c6.Draw()\n",
    "f2 = ROOT.TF1(\"f2\", \"[0]*TMath::BreitWigner(x, [1], [2])\", 86., 96.)\n",
    "f2.SetParameter(1, 91.1876)\n",
    "f2.SetParameter(2, 2.4952)\n",
    "h_GenDiMuonM.Fit(\"f2\", \"\", \"\", 86., 96.)\n",
    "ROOT.gStyle.SetOptFit(1111)\n",
    "c6.Draw()"
   ]
  },
  {
   "cell_type": "code",
   "execution_count": 197,
   "metadata": {},
   "outputs": [
    {
     "name": "stdout",
     "output_type": "stream",
     "text": [
      " FCN=95.9344 FROM MIGRAD    STATUS=CONVERGED     315 CALLS         316 TOTAL\n",
      "                     EDM=1.73464e-07    STRATEGY= 1  ERROR MATRIX UNCERTAINTY   2.4 per cent\n",
      "  EXT PARAMETER                                   STEP         FIRST   \n",
      "  NO.   NAME      VALUE            ERROR          SIZE      DERIVATIVE \n",
      "   1  p0           2.73415e+04   2.27242e+02  -2.00909e-01   1.88704e-06\n",
      "   2  p1           9.09572e+01   1.28225e-02  -1.51337e-05  -2.19288e-02\n",
      "   3  p2           8.81215e-01   6.88167e-02   4.10168e-04   2.53605e-02\n",
      "   4  p3           3.41581e+00   1.05889e-01  -5.61062e-04   1.08647e-02\n"
     ]
    },
    {
     "name": "stderr",
     "output_type": "stream",
     "text": [
      "Warning in <TROOT::Append>: Replacing existing TH1: h_RecDiMuonM (Potential memory leak).\n"
     ]
    },
    {
     "data": {
      "image/png": "[encoded data removed]",
      "text/plain": [
       "<IPython.core.display.Image object>"
      ]
     },
     "metadata": {},
     "output_type": "display_data"
    }
   ],
   "source": [
    "c6 = ROOT.TCanvas(\"recdimuonmass\",\"\",900,600)\n",
    "h_RecDiMuonM = ROOT.TH1F(\"h_RecDiMuonM\",\";m_{#mu^{+}#mu^{-}};\",80,70,110)\n",
    "for m in dimuon_p4.mass:\n",
    "    h_RecDiMuonM.Fill(m)\n",
    "h_RecDiMuonM.Draw()\n",
    "c6.Draw()\n",
    "f1 = ROOT.TF1(\"f1\", \"[0]*TMath::Voigt(x-[1], [2], [3])\", 86., 96.)\n",
    "f1.SetParameter(1, 91.1876)\n",
    "f1.SetParameter(3, 2.4952)\n",
    "h_RecDiMuonM.Fit(\"f1\", \"\", \"\", 86., 96.)\n",
    "ROOT.gStyle.SetOptFit(1111)\n",
    "c6.Draw()\n",
    "#h_RecDiMuonM.Fit(\"gaus\",\"\",\"\", 86., 96.)"
   ]
  },
  {
   "cell_type": "markdown",
   "metadata": {},
   "source": [
    "**Questions 1:**\n",
    "   * Compare the mean values obtained from the fits to the generated and reconstructed distributions. Are they compatible or do they differ significantly? How do they compare to the nominal Z mass value, m<sub>Z</sub> = 91.1876 GeV? Which distribution has the larger shift with respect to m<sub>Z</sub>?\n",
    "   * Compare the widths of the two distributions (GEN and RECO). Which one is larger? Can you explain why? \n",
    "   * Considering that the natural width of the Z boson is &Gamma;<sub>Z</sub> = 2.4952 GeV, can you roughly estimate the typical dimuon mass resolution of Z&rarr;&mu;&mu; events measured with the CMS detector?(*Note:* with a _Voigtian_ fit, you would get an estimate of the  mass resolution directly from the fit) \n",
    "   * Why do you need different functions to better fit the generated and reconstructed mass distributions? What differs between the two? If you had to fit the peak of a reconstructed J/&psi; instead, what function would you use, and why?\n",
    "\n"
   ]
  },
  {
   "cell_type": "markdown",
   "metadata": {},
   "source": [
    "Answer:\n",
    "1. Depend on the dataset\n",
    "1. See hist\n",
    "1. J/ψ has much small width, so gussian should be used"
   ]
  },
  {
   "cell_type": "markdown",
   "metadata": {},
   "source": [
    "# Step 2: Investigate the shape of the dimuon mass spectrum\n",
    "Next, we will create [TProfile histograms](http://root.cern.ch/root/html/TProfile.html) of the reconstructed dimuon invariant mass _vs_ azimuthal coordinate of the muon direction (&phi;), separately for positive and negative muons, as well as the dimuon mass _vs_ pseudorapidity (&eta;) of the muon. E.g.:"
   ]
  },
  {
   "cell_type": "code",
   "execution_count": 119,
   "metadata": {},
   "outputs": [
    {
     "name": "stderr",
     "output_type": "stream",
     "text": [
      "Warning in <TROOT::Append>: Replacing existing TH1: prof_MuPlusPhivsDiMuonM (Potential memory leak).\n"
     ]
    }
   ],
   "source": [
    "prof_MuPlusPhiVsDiMuonM=ROOT.TProfile(\"prof_MuPlusPhivsDiMuonM\",\"#mu^{+} #phi vs m_{#mu^{+}#mu^{-}};Reco muon(+) #phi[rad]; Z peak position [GeV/c^2]\",16,-3.14,3.14,88,93)"
   ]
  },
  {
   "cell_type": "code",
   "execution_count": 120,
   "metadata": {},
   "outputs": [],
   "source": [
    "mup_phi=two_opposite_good_muons.phi[two_opposite_good_muons.charge>0].flatten()"
   ]
  },
  {
   "cell_type": "code",
   "execution_count": 121,
   "metadata": {},
   "outputs": [],
   "source": [
    "for phi, m in zip(mup_phi[dimuon_mass_mask], (dimuon_p4.mass)[dimuon_mass_mask]):\n",
    "   prof_MuPlusPhiVsDiMuonM.Fill(phi, m, 1)"
   ]
  },
  {
   "cell_type": "code",
   "execution_count": 122,
   "metadata": {},
   "outputs": [
    {
     "name": "stderr",
     "output_type": "stream",
     "text": [
      "Warning in <TCanvas::Constructor>: Deleting canvas with same name: mupphidimum\n"
     ]
    }
   ],
   "source": [
    "c1 = ROOT.TCanvas(\"mupphidimum\",\"\",900,600)\n",
    "prof_MuPlusPhiVsDiMuonM.Draw()"
   ]
  },
  {
   "cell_type": "code",
   "execution_count": 123,
   "metadata": {},
   "outputs": [
    {
     "data": {
      "image/png": "[encoded data removed]",
      "text/plain": [
       "<IPython.core.display.Image object>"
      ]
     },
     "metadata": {},
     "output_type": "display_data"
    }
   ],
   "source": [
    "c1.Draw()"
   ]
  },
  {
   "cell_type": "code",
   "execution_count": 124,
   "metadata": {},
   "outputs": [
    {
     "name": "stderr",
     "output_type": "stream",
     "text": [
      "Warning in <TROOT::Append>: Replacing existing TH1: prof_MuMinusPhivsDiMuonM (Potential memory leak).\n"
     ]
    }
   ],
   "source": [
    "mum_phi=two_opposite_good_muons.phi[two_opposite_good_muons.charge<0].flatten()\n",
    "prof_MuMinusPhivsDiMuonM = ROOT.TProfile(\"prof_MuMinusPhivsDiMuonM\",\"#mu^{-} #phi vs m_{#mu^{+}#mu^{-}};Reco muon(-) #phi[rad];Z peak position [GeV/c^2]\",16,-3.14,3.14,88,93)"
   ]
  },
  {
   "cell_type": "code",
   "execution_count": 125,
   "metadata": {},
   "outputs": [],
   "source": [
    "for phi, m in zip(mum_phi[dimuon_mass_mask], (dimuon_p4.mass)[dimuon_mass_mask]):\n",
    "   prof_MuMinusPhivsDiMuonM.Fill(phi, m, 1)"
   ]
  },
  {
   "cell_type": "code",
   "execution_count": 126,
   "metadata": {},
   "outputs": [
    {
     "name": "stderr",
     "output_type": "stream",
     "text": [
      "Warning in <TCanvas::Constructor>: Deleting canvas with same name: mumphidimum\n"
     ]
    },
    {
     "data": {
      "image/png": "[encoded data removed]",
      "text/plain": [
       "<IPython.core.display.Image object>"
      ]
     },
     "metadata": {},
     "output_type": "display_data"
    }
   ],
   "source": [
    "c2 = ROOT.TCanvas(\"mumphidimum\",\"\",900,600)\n",
    "prof_MuMinusPhivsDiMuonM.Draw()\n",
    "c2.Draw()"
   ]
  },
  {
   "cell_type": "code",
   "execution_count": 127,
   "metadata": {},
   "outputs": [
    {
     "name": "stderr",
     "output_type": "stream",
     "text": [
      "Warning in <TROOT::Append>: Replacing existing TH1: prof_MuEtavsDiMuonM (Potential memory leak).\n"
     ]
    }
   ],
   "source": [
    "prof_MuEtavsDiMuonM = ROOT.TProfile(\"prof_MuEtavsDiMuonM\",\"Muon #eta vs m_{#mu^{+}#mu^{-}};Reco Muon #eta; Z peak position [GeV/c^2]\",50,-2.4,2.4,88,93)"
   ]
  },
  {
   "cell_type": "code",
   "execution_count": 128,
   "metadata": {},
   "outputs": [],
   "source": [
    "for eta1, eta2, m in zip(two_opposite_good_muons[dimuon_mass_mask].eta[:,0],\n",
    "                         two_opposite_good_muons[dimuon_mass_mask].eta[:,0],\n",
    "                         dimuon_p4.mass[dimuon_mass_mask]):\n",
    "    prof_MuEtavsDiMuonM.Fill(eta1, m, 1)\n",
    "    prof_MuEtavsDiMuonM.Fill(eta2, m, 1)\n",
    "    "
   ]
  },
  {
   "cell_type": "code",
   "execution_count": 129,
   "metadata": {},
   "outputs": [
    {
     "name": "stderr",
     "output_type": "stream",
     "text": [
      "Warning in <TCanvas::Constructor>: Deleting canvas with same name: muetadimum\n"
     ]
    },
    {
     "data": {
      "image/png": "[encoded data removed]",
      "text/plain": [
       "<IPython.core.display.Image object>"
      ]
     },
     "metadata": {},
     "output_type": "display_data"
    }
   ],
   "source": [
    "c3 = ROOT.TCanvas(\"muetadimum\",\"\",900,600)\n",
    "prof_MuEtavsDiMuonM.Draw()\n",
    "c3.Draw()"
   ]
  },
  {
   "cell_type": "markdown",
   "metadata": {},
   "source": [
    "**Questions 2:**\n",
    "   * What do they look like? Is the reconstructed mass flat _vs_ &phi; and &eta; or are there deviations? \n",
    "   * Are the deviations compatible with statistical fluctuations or do you notice a trend? \n",
    "   * What could explain this behavior?\n"
   ]
  },
  {
   "cell_type": "markdown",
   "metadata": {},
   "source": [
    "Answer:\n",
    "The high eta region, the rate is highest, reducing resolution."
   ]
  },
  {
   "cell_type": "markdown",
   "metadata": {},
   "source": [
    "# Step 3: Investigate the muon transverse momentum resolution"
   ]
  },
  {
   "cell_type": "markdown",
   "metadata": {},
   "source": [
    "Now we will study the muon transverse momentum resolution. We will consider distributions of the transverse momentum residuals, defined as  R(1/pT) = (1/pT<sup>REC</sup> &ndash; 1/pT<sup>GEN</sup>)/(1/pT<sup>GEN</sup>). In the ideal case, the distribution of the residuals is expected to be Gaussian and its standard deviation is the pT resolution. Likewise, we can define the dimuon invariant mass residuals as R(M) = (M<sup>REC</sup> &ndash; M<sup>GEN</sup>)/M<sup>GEN</sup>, and the standard deviation of the R(M) distribution defines the mass resolution. \n",
    "\n",
    "We will create the following histograms:\n",
    "   * 1D histogram of the muon transverse momentum residuals R(1/PT): A histogram (h_MupTRes) of the muon transverse momentum residual using the PAT muons and GEN muons. Fit this distribution to a Gaussian function. The fit parameter sigma gives the muon transverse momentum resolution in the chosen p<sub>T</sub> range.\n",
    "   * 1D histogram of the dimuon invariant mass residuals R(M): A histogram (h_MassRes) for the invariant mass resolution residual, which is defined as (M<sub>rec</sub> - M<sub>gen</sub> )/M<sub>gen</sub>. Fit this distribution to a Gaussian.\n",
    "   * Profile histograms (prof_MupTvspTRes and prof_MuEtavspTRes) of muon transverse momentum residuals  as a function of muon pT and &eta;.\n",
    "Note that, by default, a [TProfile](http://root.cern.ch/root/html/TProfile.html) will display in each bin the <span style='color:red'> mean value $\\pm$ mean value error </span> (i.e. RMS/$\\sqrt(N)$). Initializing the [TProfile](http://root.cern.ch/root/html/TProfile.html)  with option \"s\" instead, it will display <span style='color:red'> mean value $\\pm$ RMS </span>. This is more useful for us, as the RMS estimates the standard deviation, i.e. the resolution of each bin. "
   ]
  },
  {
   "cell_type": "code",
   "execution_count": 152,
   "metadata": {},
   "outputs": [
    {
     "data": {
      "text/plain": [
       "Text(0, 0.5, 'Events')"
      ]
     },
     "execution_count": 152,
     "metadata": {},
     "output_type": "execute_result"
    },
    {
     "data": {
      "image/png": "[encoded data removed]",
      "text/plain": [
       "<Figure size 648x432 with 1 Axes>"
      ]
     },
     "metadata": {
      "needs_background": "light"
     },
     "output_type": "display_data"
    }
   ],
   "source": [
    "pt_res=two_gen_muon_p4.pt.flatten()/two_opposite_good_muons.pt.flatten()-1\n",
    "plt.figure(figsize=(9,6))\n",
    "plt.hist(pt_res, bins=100, range=[-0.25,0.25], histtype='step',linewidth=2, color='blue', label='$1/p_T$ residual')\n",
    "#plt.legend()\n",
    "plt.title('Distribution of $1/p_T$ residual')\n",
    "plt.xlabel('$1/p_T$ residual')\n",
    "plt.ylabel('Events')"
   ]
  },
  {
   "cell_type": "code",
   "execution_count": 131,
   "metadata": {},
   "outputs": [],
   "source": [
    "mass_res=dimuon_p4.mass.flatten()/gen_dimuon_p4.mass.flatten()-1"
   ]
  },
  {
   "cell_type": "code",
   "execution_count": 153,
   "metadata": {},
   "outputs": [
    {
     "data": {
      "text/plain": [
       "Text(0, 0.5, 'Events')"
      ]
     },
     "execution_count": 153,
     "metadata": {},
     "output_type": "execute_result"
    },
    {
     "data": {
      "image/png": "[encoded data removed]",
      "text/plain": [
       "<Figure size 648x432 with 1 Axes>"
      ]
     },
     "metadata": {
      "needs_background": "light"
     },
     "output_type": "display_data"
    }
   ],
   "source": [
    "plt.figure(figsize=(9,6))\n",
    "plt.hist(mass_res, bins=100, range=[-0.25,0.25], histtype='step', linewidth=2, color='blue', label='mass_residual')\n",
    "#plt.legend()\n",
    "plt.title('Mass residual')\n",
    "plt.xlabel('mass_residual')\n",
    "plt.ylabel('Events')"
   ]
  },
  {
   "cell_type": "code",
   "execution_count": 200,
   "metadata": {},
   "outputs": [
    {
     "data": {
      "text/plain": [
       "<ROOT.TFitResultPtr object at 0x7fc6bfb37850>"
      ]
     },
     "execution_count": 200,
     "metadata": {},
     "output_type": "execute_result"
    },
    {
     "name": "stdout",
     "output_type": "stream",
     "text": [
      " FCN=6264.55 FROM MIGRAD    STATUS=CONVERGED      78 CALLS          79 TOTAL\n",
      "                     EDM=7.94807e-09    STRATEGY= 1      ERROR MATRIX ACCURATE \n",
      "  EXT PARAMETER                                   STEP         FIRST   \n",
      "  NO.   NAME      VALUE            ERROR          SIZE      DERIVATIVE \n",
      "   1  Constant     1.29738e+04   5.81419e+01   1.54095e+00   7.30723e-07\n",
      "   2  Mean         1.25756e-04   5.00755e-05   1.93368e-06   2.33899e+00\n",
      "   3  Sigma        1.62799e-02   5.30860e-05   2.45380e-05   6.77405e-02\n"
     ]
    },
    {
     "name": "stderr",
     "output_type": "stream",
     "text": [
      "Warning in <TCanvas::Constructor>: Deleting canvas with same name: ptresidual\n",
      "Warning in <TROOT::Append>: Replacing existing TH1: h_MupTRes (Potential memory leak).\n",
      "Error in <TFitResultPtr>: TFitResult is empty - use the fit option S\n",
      "Error in <TFitResultPtr>: TFitResult is empty - use the fit option S\n",
      "Error in <TFitResultPtr>: TFitResult is empty - use the fit option S\n",
      "Error in <TFitResultPtr>: TFitResult is empty - use the fit option S\n",
      "Error in <TFitResultPtr>: TFitResult is empty - use the fit option S\n",
      "Error in <TFitResultPtr>: TFitResult is empty - use the fit option S\n",
      "Error in <TFitResultPtr>: TFitResult is empty - use the fit option S\n",
      "Error in <TFitResultPtr>: TFitResult is empty - use the fit option S\n",
      "Error in <TFitResultPtr>: TFitResult is empty - use the fit option S\n",
      "Error in <TFitResultPtr>: TFitResult is empty - use the fit option S\n",
      "Error in <TFitResultPtr>: TFitResult is empty - use the fit option S\n",
      "Error in <TFitResultPtr>: TFitResult is empty - use the fit option S\n",
      "Error in <TFitResultPtr>: TFitResult is empty - use the fit option S\n",
      "Error in <TFitResultPtr>: TFitResult is empty - use the fit option S\n",
      "Error in <TFitResultPtr>: TFitResult is empty - use the fit option S\n",
      "Error in <TFitResultPtr>: TFitResult is empty - use the fit option S\n",
      "Error in <TFitResultPtr>: TFitResult is empty - use the fit option S\n",
      "Error in <TFitResultPtr>: TFitResult is empty - use the fit option S\n",
      "Error in <TFitResultPtr>: TFitResult is empty - use the fit option S\n",
      "Error in <TFitResultPtr>: TFitResult is empty - use the fit option S\n",
      "Error in <TFitResultPtr>: TFitResult is empty - use the fit option S\n",
      "Error in <TFitResultPtr>: TFitResult is empty - use the fit option S\n"
     ]
    },
    {
     "data": {
      "image/png": "[encoded data removed]",
      "text/plain": [
       "<IPython.core.display.Image object>"
      ]
     },
     "metadata": {},
     "output_type": "display_data"
    }
   ],
   "source": [
    "c6 = ROOT.TCanvas(\"ptresidual\",\"\",900,600)\n",
    "h_MupTRes = ROOT.TH1F(\"h_MupTRes\",\"Muon p_{T} resolution;#Delta p_{T}/p_{T};\",80,-0.2,0.2)\n",
    "for res in pt_res:\n",
    "    h_MupTRes.Fill(res)\n",
    "h_MupTRes.Draw()\n",
    "c6.Draw()\n",
    "h_MupTRes.Fit(\"gaus\")"
   ]
  },
  {
   "cell_type": "code",
   "execution_count": 201,
   "metadata": {},
   "outputs": [
    {
     "data": {
      "text/plain": [
       "<ROOT.TFitResultPtr object at 0x7fc6bc7182d0>"
      ]
     },
     "execution_count": 201,
     "metadata": {},
     "output_type": "execute_result"
    },
    {
     "name": "stdout",
     "output_type": "stream",
     "text": [
      " FCN=2236.65 FROM MIGRAD    STATUS=CONVERGED      69 CALLS          70 TOTAL\n",
      "                     EDM=8.01122e-09    STRATEGY= 1      ERROR MATRIX ACCURATE \n",
      "  EXT PARAMETER                                   STEP         FIRST   \n",
      "  NO.   NAME      VALUE            ERROR          SIZE      DERIVATIVE \n",
      "   1  Constant     6.32700e+03   3.84143e+01   6.29734e-01   3.72001e-06\n",
      "   2  Mean        -1.34995e-04   5.48745e-05   1.26737e-06   9.54897e-01\n",
      "   3  Sigma        1.27333e-02   5.44471e-05   2.06370e-05   1.23889e-01\n"
     ]
    },
    {
     "name": "stderr",
     "output_type": "stream",
     "text": [
      "Error in <TFitResultPtr>: TFitResult is empty - use the fit option S\n",
      "Error in <TFitResultPtr>: TFitResult is empty - use the fit option S\n",
      "Error in <TFitResultPtr>: TFitResult is empty - use the fit option S\n",
      "Error in <TFitResultPtr>: TFitResult is empty - use the fit option S\n",
      "Error in <TFitResultPtr>: TFitResult is empty - use the fit option S\n",
      "Error in <TFitResultPtr>: TFitResult is empty - use the fit option S\n",
      "Error in <TFitResultPtr>: TFitResult is empty - use the fit option S\n",
      "Error in <TFitResultPtr>: TFitResult is empty - use the fit option S\n",
      "Error in <TFitResultPtr>: TFitResult is empty - use the fit option S\n",
      "Error in <TFitResultPtr>: TFitResult is empty - use the fit option S\n",
      "Error in <TFitResultPtr>: TFitResult is empty - use the fit option S\n",
      "Error in <TFitResultPtr>: TFitResult is empty - use the fit option S\n",
      "Error in <TFitResultPtr>: TFitResult is empty - use the fit option S\n",
      "Error in <TFitResultPtr>: TFitResult is empty - use the fit option S\n",
      "Error in <TFitResultPtr>: TFitResult is empty - use the fit option S\n",
      "Error in <TFitResultPtr>: TFitResult is empty - use the fit option S\n",
      "Error in <TFitResultPtr>: TFitResult is empty - use the fit option S\n",
      "Error in <TFitResultPtr>: TFitResult is empty - use the fit option S\n",
      "Error in <TFitResultPtr>: TFitResult is empty - use the fit option S\n",
      "Error in <TFitResultPtr>: TFitResult is empty - use the fit option S\n",
      "Error in <TFitResultPtr>: TFitResult is empty - use the fit option S\n",
      "Error in <TFitResultPtr>: TFitResult is empty - use the fit option S\n"
     ]
    },
    {
     "data": {
      "image/png": "[encoded data removed]",
      "text/plain": [
       "<IPython.core.display.Image object>"
      ]
     },
     "metadata": {},
     "output_type": "display_data"
    }
   ],
   "source": [
    "c6 = ROOT.TCanvas(\"massresidual\",\"\",900,600)\n",
    "h_MassRes = ROOT.TH1F(\"h_MassRes\",\"Mass Resolution Residual\",80,-0.15,0.15)\n",
    "for res in mass_res:\n",
    "    h_MassRes.Fill(res)\n",
    "h_MassRes.Draw()\n",
    "c6.Draw()\n",
    "h_MassRes.Fit(\"gaus\")"
   ]
  },
  {
   "cell_type": "code",
   "execution_count": 134,
   "metadata": {},
   "outputs": [
    {
     "name": "stderr",
     "output_type": "stream",
     "text": [
      "Warning in <TROOT::Append>: Replacing existing TH1: prof_MuEtavspTRes (Potential memory leak).\n",
      "Warning in <TCanvas::Constructor>: Deleting canvas with same name: muetavsptres\n"
     ]
    },
    {
     "data": {
      "image/png": "[encoded data removed]",
      "text/plain": [
       "<IPython.core.display.Image object>"
      ]
     },
     "metadata": {},
     "output_type": "display_data"
    }
   ],
   "source": [
    "prof_MuEtavspTRes = ROOT.TProfile(\"prof_MuEtavspTRes\",\";Gen Muon #eta;#Delta p_{T}/p_{T}\",50,-2.4,2.4,0,1)\n",
    "for ptres, eta in zip(pt_res, two_gen_muon_p4.eta.flatten()):\n",
    "    prof_MuEtavspTRes.Fill(eta, ptres, 1)\n",
    "c4 = ROOT.TCanvas(\"muetavsptres\",\"\",900,600)\n",
    "prof_MuEtavspTRes.Draw()\n",
    "c4.Draw()"
   ]
  },
  {
   "cell_type": "code",
   "execution_count": 156,
   "metadata": {},
   "outputs": [
    {
     "name": "stderr",
     "output_type": "stream",
     "text": [
      "Warning in <TROOT::Append>: Replacing existing TH1: prof_MupTvspTRes (Potential memory leak).\n",
      "Warning in <TCanvas::Constructor>: Deleting canvas with same name: muptvsptres\n"
     ]
    },
    {
     "data": {
      "image/png": "[encoded data removed]",
      "text/plain": [
       "<IPython.core.display.Image object>"
      ]
     },
     "metadata": {},
     "output_type": "display_data"
    }
   ],
   "source": [
    "prof_MupTvspTRes = ROOT.TProfile(\"prof_MupTvspTRes\",\";Gen Muon p_{T} [GeV];#Delta p_{T}/p_{T}\",25,20,100,0,1)\n",
    "for ptres, pt in zip(pt_res, two_gen_muon_p4.pt.flatten()):\n",
    "    prof_MupTvspTRes.Fill(pt, ptres, 1)\n",
    "c5 = ROOT.TCanvas(\"muptvsptres\",\"\",900,600)\n",
    "prof_MupTvspTRes.Draw()\n",
    "c5.Draw()"
   ]
  },
  {
   "cell_type": "markdown",
   "metadata": {},
   "source": [
    "**Questions 3**:\n",
    "* What is the typical 1/pT resolution of a 50 GeV muon measured in the CMS detector?\n",
    "* How does the 1/pT resolution scale with transverse momentum? And with the pseudorapidity?\n",
    "* Why is the mass residual not a perfect Gaussian distribution?\n",
    "* How is the 1/pT resolution related to the invariant mass resolution?"
   ]
  },
  {
   "cell_type": "markdown",
   "metadata": {},
   "source": [
    "# Step 4: Momentum scale corrections"
   ]
  },
  {
   "cell_type": "code",
   "execution_count": null,
   "metadata": {},
   "outputs": [],
   "source": []
  },
  {
   "cell_type": "code",
   "execution_count": null,
   "metadata": {},
   "outputs": [],
   "source": []
  },
  {
   "cell_type": "code",
   "execution_count": null,
   "metadata": {},
   "outputs": [],
   "source": []
  },
  {
   "cell_type": "code",
   "execution_count": null,
   "metadata": {},
   "outputs": [],
   "source": []
  },
  {
   "cell_type": "code",
   "execution_count": null,
   "metadata": {},
   "outputs": [],
   "source": []
  },
  {
   "cell_type": "code",
   "execution_count": null,
   "metadata": {},
   "outputs": [],
   "source": []
  },
  {
   "cell_type": "code",
   "execution_count": null,
   "metadata": {},
   "outputs": [],
   "source": []
  }
 ],
 "metadata": {
  "kernelspec": {
   "display_name": "LPC-Muon-HAT-2020",
   "language": "python",
   "name": "lpc-muon-hat-2020"
  },
  "language_info": {
   "codemirror_mode": {
    "name": "ipython",
    "version": 2
   },
   "file_extension": ".py",
   "mimetype": "text/x-python",
   "name": "python",
   "nbconvert_exporter": "python",
   "pygments_lexer": "ipython2",
   "version": "2.7.15+"
  }
 },
 "nbformat": 4,
 "nbformat_minor": 4
}
