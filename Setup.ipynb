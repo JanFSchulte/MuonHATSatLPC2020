{
 "cells": [
  {
   "cell_type": "markdown",
   "metadata": {},
   "source": [
    "Setup required enviroment, it may take a few minutes (around 7 minutes on Vanderbilt)"
   ]
  },
  {
   "cell_type": "code",
   "execution_count": null,
   "metadata": {},
   "outputs": [],
   "source": [
    "%%bash\n",
    "#!/bin/bash\n",
    "\n",
    "KERNEL_NAME=\"Muon-HAT-2020\"\n",
    "\n",
    "set -e\n",
    "\n",
    "# Download miniconda3 install script\n",
    "if [[ ! -f $HOME/miniconda3.sh ]]; then\n",
    "    wget --progress=dot:giga https://repo.anaconda.com/miniconda/Miniconda3-latest-Linux-x86_64.sh -O $HOME/miniconda3.sh\n",
    "fi\n",
    "\n",
    "# Install miniconda3\n",
    "if [[ ! -d $HOME/miniconda3 ]]; then\n",
    "    bash $HOME/miniconda3.sh -b -f -u -p $HOME/miniconda3\n",
    "    source $HOME/miniconda3/etc/profile.d/conda.sh\n",
    "else\n",
    "    source $HOME/miniconda3/etc/profile.d/conda.sh\n",
    "fi\n",
    "\n",
    "# Create conda environment\n",
    "if [[ ! -d $HOME/miniconda3/envs/$KERNEL_NAME ]]; then\n",
    "    conda env create -f environment.yml --name $KERNEL_NAME\n",
    "fi\n",
    "conda activate $KERNEL_NAME\n",
    "\n",
    "# Make a wrapper script to load miniconda python\n",
    "if [[ ! -f python_wrapper.sh ]]; then\n",
    "cat << 'EOF' > python_wrapper.sh\n",
    "#!/bin/bash\n",
    "source $HOME/miniconda3/etc/profile.d/conda.sh\n",
    "conda activate Muon-HAT-2020\n",
    "exec python3 \"$@\"\n",
    "EOF\n",
    "chmod +x python_wrapper.sh\n",
    "fi\n",
    "\n",
    "# Create the kernel\n",
    "if [[ ! -d $HOME/.local/share/jupyter/kernels/$KERNEL_NAME ]]; then\n",
    "mkdir -p \"$HOME/.local/share/jupyter/kernels/$KERNEL_NAME\"\n",
    "cat << EOF > \"$HOME/.local/share/jupyter/kernels/$KERNEL_NAME/kernel.json\"\n",
    "{\n",
    " \"display_name\": \"$KERNEL_NAME\", \n",
    " \"language\": \"python3\", \n",
    " \"argv\": [\n",
    "  \"$PWD/python_wrapper.sh\", \n",
    "  \"-m\", \n",
    "  \"ipykernel_launcher\", \n",
    "  \"-f\", \n",
    "  \"{connection_file}\"\n",
    " ]\n",
    "}\n",
    "EOF\n",
    "fi\n",
    "\n",
    "# Report OK\n",
    "echo \"Loaded $KERNEL_NAME!\""
   ]
  },
  {
   "cell_type": "code",
   "execution_count": null,
   "metadata": {},
   "outputs": [],
   "source": []
  }
 ],
 "metadata": {
  "kernelspec": {
   "display_name": "Python 3",
   "language": "python",
   "name": "python3"
  },
  "language_info": {
   "codemirror_mode": {
    "name": "ipython",
    "version": 3
   },
   "file_extension": ".py",
   "mimetype": "text/x-python",
   "name": "python",
   "nbconvert_exporter": "python",
   "pygments_lexer": "ipython3",
   "version": "3.4.9"
  }
 },
 "nbformat": 4,
 "nbformat_minor": 4
}
